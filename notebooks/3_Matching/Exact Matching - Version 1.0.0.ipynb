{
 "cells": [
  {
   "cell_type": "markdown",
   "id": "80a8f059",
   "metadata": {},
   "source": [
    "# Exact Matching"
   ]
  },
  {
   "cell_type": "markdown",
   "id": "41e35cfb",
   "metadata": {},
   "source": [
    "The exact matching uses GLEIF as referential and CORPWATCH, WRI; WIKI and SPOTT as target datasets."
   ]
  },
  {
   "cell_type": "code",
   "execution_count": 1,
   "id": "c3944c27",
   "metadata": {},
   "outputs": [],
   "source": [
    "# Sets up the location of the api relative to this notebook \n",
    "import sys\n",
    "sys.path.append('../../../esg-matching/')"
   ]
  },
  {
   "cell_type": "code",
   "execution_count": 2,
   "id": "5d0ec3fc",
   "metadata": {},
   "outputs": [],
   "source": [
    "# Import the module for connection to a sqllite database\n",
    "from esg_matching.engine.connectors.sql_lite import SqlLiteConnector"
   ]
  },
  {
   "cell_type": "code",
   "execution_count": 3,
   "id": "52766289",
   "metadata": {},
   "outputs": [],
   "source": [
    "# Import the modules for file management\n",
    "from esg_matching.file_reader.file import File\n",
    "from esg_matching.file_reader.csv_reader import FileReaderCsv"
   ]
  },
  {
   "cell_type": "code",
   "execution_count": 4,
   "id": "2f22adcd",
   "metadata": {},
   "outputs": [],
   "source": [
    "# Import the modules for the etl processing: reading, transformation and loading data to a database\n",
    "from esg_matching.processing.etl import EtlProcessing"
   ]
  },
  {
   "cell_type": "markdown",
   "id": "595dd59a",
   "metadata": {},
   "source": [
    "## 1. Database setup"
   ]
  },
  {
   "cell_type": "code",
   "execution_count": 5,
   "id": "245c4be8",
   "metadata": {},
   "outputs": [],
   "source": [
    "# Localization of the database to be created in relation to this jupyter notebook\n",
    "# The database will be created in the /data folder, under the project main folder\n",
    "path_db = '../../data/matching/esg_matching.db'"
   ]
  },
  {
   "cell_type": "code",
   "execution_count": 6,
   "id": "8ecf1771",
   "metadata": {},
   "outputs": [],
   "source": [
    "# The database connector is represented by the class SqlLiteConnector \n",
    "db_conn = SqlLiteConnector()"
   ]
  },
  {
   "cell_type": "code",
   "execution_count": 7,
   "id": "b453c071",
   "metadata": {},
   "outputs": [],
   "source": [
    "# The connect() method of the SqlLiteConnector is used to stablish a connection with the database if it exists, \n",
    "# or to create a new one. The property path_db defines the location and name of the database.\n",
    "# The  property show_sql_statement indicates if the SQL statements are echoed (or printed) in the default output channel.\n",
    "db_conn.path_db = path_db\n",
    "db_conn.show_sql_statement = False\n",
    "db_conn.connect()"
   ]
  },
  {
   "cell_type": "code",
   "execution_count": 8,
   "id": "7f21de06",
   "metadata": {},
   "outputs": [
    {
     "data": {
      "text/plain": [
       "True"
      ]
     },
     "execution_count": 8,
     "metadata": {},
     "output_type": "execute_result"
    }
   ],
   "source": [
    "# Check if the connection was stablished\n",
    "db_conn.is_connected()"
   ]
  },
  {
   "cell_type": "markdown",
   "id": "1ee9e433",
   "metadata": {},
   "source": [
    "## 2. Load the data into database from csv files"
   ]
  },
  {
   "cell_type": "code",
   "execution_count": 9,
   "id": "24b3e89f",
   "metadata": {},
   "outputs": [],
   "source": [
    "# Create an ETL process object\n",
    "etl_proc_obj = EtlProcessing(db_conn)"
   ]
  },
  {
   "cell_type": "code",
   "execution_count": 10,
   "id": "441fc533",
   "metadata": {},
   "outputs": [],
   "source": [
    "# Crete a file reader object for csv files\n",
    "csv_reader_obj = FileReaderCsv()  "
   ]
  },
  {
   "cell_type": "code",
   "execution_count": 11,
   "id": "4f5c53dd",
   "metadata": {},
   "outputs": [],
   "source": [
    "# Referential Data Source\n",
    "ref_obj = File('../../data/matching/settings/gleif.json')\n",
    "db_ref = etl_proc_obj.load_file_to_db(ref_obj, csv_reader_obj)"
   ]
  },
  {
   "cell_type": "code",
   "execution_count": 12,
   "id": "ddb4d326",
   "metadata": {},
   "outputs": [],
   "source": [
    "# Target Data Sources\n",
    "corpwatch_obj = File('../../data/matching/settings/corpwatch.json')\n",
    "db_corpwatch = etl_proc_obj.load_file_to_db(corpwatch_obj, csv_reader_obj)\n",
    "\n",
    "wiki_obj = File('../../data/matching/settings/wiki.json')\n",
    "db_wiki = etl_proc_obj.load_file_to_db(wiki_obj, csv_reader_obj)\n",
    "\n",
    "spott_obj = File('../../data/matching/settings/spott.json')\n",
    "db_spott = etl_proc_obj.load_file_to_db(spott_obj, csv_reader_obj)\n",
    "\n",
    "wri_obj = File('../../data/matching/settings/wri.json')\n",
    "db_wri = etl_proc_obj.load_file_to_db(wri_obj, csv_reader_obj)"
   ]
  },
  {
   "cell_type": "code",
   "execution_count": 13,
   "id": "18e8b1f6",
   "metadata": {},
   "outputs": [],
   "source": [
    "# Matching/No-matching tables\n",
    "file_match = File('../../data/matching/settings/matching.json')\n",
    "db_matching = etl_proc_obj.create_data_source(file_match)\n",
    "\n",
    "file_no_match = File('../../data/matching/settings/no_matching.json')\n",
    "db_no_matching = etl_proc_obj.create_data_source(file_no_match)"
   ]
  },
  {
   "cell_type": "markdown",
   "id": "05d4692f",
   "metadata": {},
   "source": [
    "## 3. Setup matching policies"
   ]
  },
  {
   "cell_type": "code",
   "execution_count": 14,
   "id": "759bfb08",
   "metadata": {},
   "outputs": [],
   "source": [
    "# Import policy module\n",
    "from esg_matching.matcher.policy import MatchingPolicy"
   ]
  },
  {
   "cell_type": "code",
   "execution_count": 15,
   "id": "0111de86",
   "metadata": {},
   "outputs": [],
   "source": [
    "# Create macthing policy object for corpwatch\n",
    "policy_match_corpwatch = MatchingPolicy(db_corpwatch, 'matching_with_ref')\n",
    "policy_match_corpwatch.set_referential_source(db_ref)\n",
    "policy_match_corpwatch.set_matching_source(db_matching)\n",
    "policy_match_corpwatch.set_no_matching_source(db_no_matching)"
   ]
  },
  {
   "cell_type": "code",
   "execution_count": 16,
   "id": "cc892f95",
   "metadata": {},
   "outputs": [],
   "source": [
    "# Create macthing policy object for wiki\n",
    "policy_match_wiki = MatchingPolicy(db_wiki, 'matching_with_ref')\n",
    "policy_match_wiki.set_referential_source(db_ref)\n",
    "policy_match_wiki.set_matching_source(db_matching)\n",
    "policy_match_wiki.set_no_matching_source(db_no_matching)"
   ]
  },
  {
   "cell_type": "code",
   "execution_count": 17,
   "id": "b841ac6f",
   "metadata": {},
   "outputs": [],
   "source": [
    "# Create macthing policy object for wri\n",
    "policy_match_wri = MatchingPolicy(db_wri, 'matching_with_ref')\n",
    "policy_match_wri.set_referential_source(db_ref)\n",
    "policy_match_wri.set_matching_source(db_matching)\n",
    "policy_match_wri.set_no_matching_source(db_no_matching)"
   ]
  },
  {
   "cell_type": "code",
   "execution_count": 18,
   "id": "1980213a",
   "metadata": {},
   "outputs": [],
   "source": [
    "# Create macthing policy object for spott\n",
    "policy_match_spott = MatchingPolicy(db_spott, 'matching_with_ref')\n",
    "policy_match_spott.set_referential_source(db_ref)\n",
    "policy_match_spott.set_matching_source(db_matching)\n",
    "policy_match_spott.set_no_matching_source(db_no_matching)"
   ]
  },
  {
   "cell_type": "markdown",
   "id": "51160c6e",
   "metadata": {},
   "source": [
    "## 4. Perform exact matching"
   ]
  },
  {
   "cell_type": "code",
   "execution_count": 19,
   "id": "716e5007",
   "metadata": {},
   "outputs": [],
   "source": [
    "# Import DFM module\n",
    "from esg_matching.matcher.dfm import DbMatcherDfm"
   ]
  },
  {
   "cell_type": "code",
   "execution_count": 20,
   "id": "720dbfc3",
   "metadata": {},
   "outputs": [],
   "source": [
    "# Import DRM module\n",
    "from esg_matching.matcher.drm import DbMatcherDrm"
   ]
  },
  {
   "cell_type": "code",
   "execution_count": 21,
   "id": "9da3dbbc",
   "metadata": {},
   "outputs": [],
   "source": [
    "# Import IFM module\n",
    "from esg_matching.matcher.irm import DbMatcherIrm"
   ]
  },
  {
   "cell_type": "code",
   "execution_count": 22,
   "id": "169af7dc",
   "metadata": {},
   "outputs": [],
   "source": [
    "# Matching objects\n",
    "dfm_matcher_obj = DbMatcherDfm(db_conn)\n",
    "drm_matcher_obj = DbMatcherDrm(db_conn)\n",
    "irm_matcher_obj = DbMatcherIrm(db_conn)"
   ]
  },
  {
   "cell_type": "code",
   "execution_count": 23,
   "id": "24fb9e56",
   "metadata": {},
   "outputs": [],
   "source": [
    "# Execute policies (direct matching)\n",
    "dfm_matcher_obj.set_policy(policy_match_corpwatch)\n",
    "dfm_matcher_obj.execute_matching()\n",
    "\n",
    "dfm_matcher_obj.set_policy(policy_match_wiki)\n",
    "dfm_matcher_obj.execute_matching()\n",
    "\n",
    "dfm_matcher_obj.set_policy(policy_match_spott)\n",
    "dfm_matcher_obj.execute_matching()\n",
    "\n",
    "dfm_matcher_obj.set_policy(policy_match_wri)\n",
    "dfm_matcher_obj.execute_matching()"
   ]
  },
  {
   "cell_type": "code",
   "execution_count": 24,
   "id": "49a72a74",
   "metadata": {},
   "outputs": [],
   "source": [
    "# Execute policies (residual matching)\n",
    "drm_matcher_obj.set_policy(policy_match_corpwatch)\n",
    "drm_matcher_obj.execute_matching()\n",
    "\n",
    "drm_matcher_obj.set_policy(policy_match_wiki)\n",
    "drm_matcher_obj.execute_matching()\n",
    "\n",
    "drm_matcher_obj.set_policy(policy_match_spott)\n",
    "drm_matcher_obj.execute_matching()\n",
    "\n",
    "drm_matcher_obj.set_policy(policy_match_wri)\n",
    "drm_matcher_obj.execute_matching()"
   ]
  },
  {
   "cell_type": "code",
   "execution_count": 25,
   "id": "8e8214a3",
   "metadata": {},
   "outputs": [],
   "source": [
    "# Execute policies (indirect matching)\n",
    "irm_matcher_obj.set_policy(policy_match_corpwatch)\n",
    "irm_matcher_obj.execute_matching()\n",
    "\n",
    "irm_matcher_obj.set_policy(policy_match_wiki)\n",
    "irm_matcher_obj.execute_matching()\n",
    "\n",
    "irm_matcher_obj.set_policy(policy_match_spott)\n",
    "irm_matcher_obj.execute_matching()\n",
    "\n",
    "irm_matcher_obj.set_policy(policy_match_wri)\n",
    "irm_matcher_obj.execute_matching()"
   ]
  },
  {
   "cell_type": "markdown",
   "id": "787cf145",
   "metadata": {},
   "source": [
    "## 5. Saving matching data to S3"
   ]
  },
  {
   "cell_type": "code",
   "execution_count": 26,
   "id": "422e6dfd",
   "metadata": {},
   "outputs": [],
   "source": [
    "# From the AWS Account page, copy the export scripts from the appropriate role using the \"Command Line or Programmatic Access\" link\n",
    "# Paste the copied text into ~/credentials.env\n",
    "\n",
    "from dotenv import dotenv_values, load_dotenv\n",
    "import os\n",
    "import pathlib\n",
    "\n",
    "dotenv_dir = os.environ.get('CREDENTIAL_DOTENV_DIR', os.environ.get('PWD', '/opt/app-root/src'))\n",
    "dotenv_path = pathlib.Path(dotenv_dir) / 'credentials.env'\n",
    "if os.path.exists(dotenv_path):\n",
    "    load_dotenv(dotenv_path=dotenv_path,override=True)"
   ]
  },
  {
   "cell_type": "code",
   "execution_count": 27,
   "id": "d966770a",
   "metadata": {},
   "outputs": [],
   "source": [
    "import boto3\n",
    "s3_resource = boto3.resource(\n",
    "    service_name=\"s3\",\n",
    "    endpoint_url=os.environ['S3_LANDING_ENDPOINT'],\n",
    "    aws_access_key_id=os.environ['S3_LANDING_ACCESS_KEY'],\n",
    "    aws_secret_access_key=os.environ['S3_LANDING_SECRET_KEY'],\n",
    ")\n",
    "bucket_name = os.environ['S3_LANDING_BUCKET']\n",
    "bucket = s3_resource.Bucket(bucket_name)"
   ]
  },
  {
   "cell_type": "code",
   "execution_count": 28,
   "id": "0ca81342",
   "metadata": {},
   "outputs": [],
   "source": [
    "# Save final results to S3\n",
    "s3_filename = 'Entity-Matching/esg_matching.db'\n",
    "s3_resource.meta.client.upload_file(Filename=path_db, Bucket=bucket_name, Key=s3_filename)"
   ]
  },
  {
   "cell_type": "markdown",
   "id": "0ece05e4",
   "metadata": {},
   "source": [
    "## 6. Saving to Trino"
   ]
  },
  {
   "cell_type": "code",
   "execution_count": 29,
   "id": "6dcd28c5",
   "metadata": {},
   "outputs": [],
   "source": [
    "import pandas as pd"
   ]
  },
  {
   "cell_type": "code",
   "execution_count": 35,
   "id": "2d740303",
   "metadata": {},
   "outputs": [],
   "source": [
    "from esg_matching.engine.sql.dql import DqlManager"
   ]
  },
  {
   "cell_type": "code",
   "execution_count": 30,
   "id": "816cb40f",
   "metadata": {},
   "outputs": [],
   "source": [
    "df_matching = db_matching.get_data_as_df()"
   ]
  },
  {
   "cell_type": "code",
   "execution_count": 33,
   "id": "38c13b2b",
   "metadata": {},
   "outputs": [
    {
     "data": {
      "text/plain": [
       "73459"
      ]
     },
     "execution_count": 33,
     "metadata": {},
     "output_type": "execute_result"
    }
   ],
   "source": [
    "df_matching.shape[0]"
   ]
  },
  {
   "cell_type": "code",
   "execution_count": 36,
   "id": "9ae13cc2",
   "metadata": {},
   "outputs": [],
   "source": [
    "dqlmanager = DqlManager(db_conn)"
   ]
  },
  {
   "cell_type": "code",
   "execution_count": 42,
   "id": "b7685e32",
   "metadata": {},
   "outputs": [],
   "source": [
    "sql_stm = \"select tgt_name as 'provider', count(tgt_id) as 'total_matches' from esg_matching group by tgt_name\" \n",
    "df_coverage = dqlmanager.query_by_sql_statement(sql_stm, as_pandas_df=True)"
   ]
  },
  {
   "cell_type": "code",
   "execution_count": 44,
   "id": "e4900842",
   "metadata": {},
   "outputs": [
    {
     "data": {
      "text/html": [
       "<div>\n",
       "<style scoped>\n",
       "    .dataframe tbody tr th:only-of-type {\n",
       "        vertical-align: middle;\n",
       "    }\n",
       "\n",
       "    .dataframe tbody tr th {\n",
       "        vertical-align: top;\n",
       "    }\n",
       "\n",
       "    .dataframe thead th {\n",
       "        text-align: right;\n",
       "    }\n",
       "</style>\n",
       "<table border=\"1\" class=\"dataframe\">\n",
       "  <thead>\n",
       "    <tr style=\"text-align: right;\">\n",
       "      <th></th>\n",
       "      <th>provider</th>\n",
       "      <th>total_matches</th>\n",
       "    </tr>\n",
       "  </thead>\n",
       "  <tbody>\n",
       "    <tr>\n",
       "      <th>0</th>\n",
       "      <td>corpwatch</td>\n",
       "      <td>46906</td>\n",
       "    </tr>\n",
       "    <tr>\n",
       "      <th>1</th>\n",
       "      <td>spott</td>\n",
       "      <td>43</td>\n",
       "    </tr>\n",
       "    <tr>\n",
       "      <th>2</th>\n",
       "      <td>wiki</td>\n",
       "      <td>25083</td>\n",
       "    </tr>\n",
       "    <tr>\n",
       "      <th>3</th>\n",
       "      <td>wri</td>\n",
       "      <td>1427</td>\n",
       "    </tr>\n",
       "  </tbody>\n",
       "</table>\n",
       "</div>"
      ],
      "text/plain": [
       "    provider  total_matches\n",
       "0  corpwatch          46906\n",
       "1      spott             43\n",
       "2       wiki          25083\n",
       "3        wri           1427"
      ]
     },
     "execution_count": 44,
     "metadata": {},
     "output_type": "execute_result"
    }
   ],
   "source": [
    "df_coverage"
   ]
  },
  {
   "cell_type": "code",
   "execution_count": 45,
   "id": "c46d8fd8",
   "metadata": {},
   "outputs": [],
   "source": [
    "df_no_matching = db_no_matching.get_data_as_df()"
   ]
  },
  {
   "cell_type": "code",
   "execution_count": 46,
   "id": "cb5808cd",
   "metadata": {},
   "outputs": [
    {
     "data": {
      "text/plain": [
       "856820"
      ]
     },
     "execution_count": 46,
     "metadata": {},
     "output_type": "execute_result"
    }
   ],
   "source": [
    "df_no_matching.shape[0]"
   ]
  },
  {
   "cell_type": "code",
   "execution_count": 47,
   "id": "93a259a4",
   "metadata": {},
   "outputs": [],
   "source": [
    "sql_stm = \"select tgt_name as 'provider', count(tgt_id) as 'total_no_matches' from esg_no_matching group by tgt_name\" \n",
    "df_coverage_no_match = dqlmanager.query_by_sql_statement(sql_stm, as_pandas_df=True)"
   ]
  },
  {
   "cell_type": "code",
   "execution_count": 48,
   "id": "94214af6",
   "metadata": {},
   "outputs": [
    {
     "data": {
      "text/html": [
       "<div>\n",
       "<style scoped>\n",
       "    .dataframe tbody tr th:only-of-type {\n",
       "        vertical-align: middle;\n",
       "    }\n",
       "\n",
       "    .dataframe tbody tr th {\n",
       "        vertical-align: top;\n",
       "    }\n",
       "\n",
       "    .dataframe thead th {\n",
       "        text-align: right;\n",
       "    }\n",
       "</style>\n",
       "<table border=\"1\" class=\"dataframe\">\n",
       "  <thead>\n",
       "    <tr style=\"text-align: right;\">\n",
       "      <th></th>\n",
       "      <th>provider</th>\n",
       "      <th>total_no_matches</th>\n",
       "    </tr>\n",
       "  </thead>\n",
       "  <tbody>\n",
       "    <tr>\n",
       "      <th>0</th>\n",
       "      <td>corpwatch</td>\n",
       "      <td>674282</td>\n",
       "    </tr>\n",
       "    <tr>\n",
       "      <th>1</th>\n",
       "      <td>spott</td>\n",
       "      <td>202</td>\n",
       "    </tr>\n",
       "    <tr>\n",
       "      <th>2</th>\n",
       "      <td>wiki</td>\n",
       "      <td>173546</td>\n",
       "    </tr>\n",
       "    <tr>\n",
       "      <th>3</th>\n",
       "      <td>wri</td>\n",
       "      <td>8790</td>\n",
       "    </tr>\n",
       "  </tbody>\n",
       "</table>\n",
       "</div>"
      ],
      "text/plain": [
       "    provider  total_no_matches\n",
       "0  corpwatch            674282\n",
       "1      spott               202\n",
       "2       wiki            173546\n",
       "3        wri              8790"
      ]
     },
     "execution_count": 48,
     "metadata": {},
     "output_type": "execute_result"
    }
   ],
   "source": [
    "df_coverage_no_match"
   ]
  },
  {
   "cell_type": "markdown",
   "id": "22701f8c",
   "metadata": {},
   "source": [
    "## 7. Close database connection"
   ]
  },
  {
   "cell_type": "code",
   "execution_count": null,
   "id": "3cebc3e9",
   "metadata": {},
   "outputs": [],
   "source": [
    "db_conn.disconnect()"
   ]
  },
  {
   "cell_type": "code",
   "execution_count": null,
   "id": "40512d49",
   "metadata": {},
   "outputs": [],
   "source": [
    "db_conn.is_connected()"
   ]
  }
 ],
 "metadata": {
  "kernelspec": {
   "display_name": "Python 3 (ipykernel)",
   "language": "python",
   "name": "python3"
  },
  "language_info": {
   "codemirror_mode": {
    "name": "ipython",
    "version": 3
   },
   "file_extension": ".py",
   "mimetype": "text/x-python",
   "name": "python",
   "nbconvert_exporter": "python",
   "pygments_lexer": "ipython3",
   "version": "3.8.10"
  }
 },
 "nbformat": 4,
 "nbformat_minor": 5
}
