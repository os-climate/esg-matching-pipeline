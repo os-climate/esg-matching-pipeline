{
 "cells": [
  {
   "cell_type": "markdown",
   "id": "7482a09c",
   "metadata": {},
   "source": [
    "# CORPWATCH Pre-processing"
   ]
  },
  {
   "cell_type": "markdown",
   "id": "6c739abd",
   "metadata": {},
   "source": [
    "This notebook reads from S3 the three main CORPWATCH datasets that contain information about companies. The pre-processing here consists on selecting some information from these files and combine them together as to have one dataset with unique company's record."
   ]
  },
  {
   "cell_type": "code",
   "execution_count": 1,
   "id": "274b420d",
   "metadata": {},
   "outputs": [],
   "source": [
    "import pandas as pd"
   ]
  },
  {
   "cell_type": "markdown",
   "id": "dae4f619",
   "metadata": {},
   "source": [
    "## 1. Setup to read CORPWATCH from S3"
   ]
  },
  {
   "cell_type": "code",
   "execution_count": 2,
   "id": "6daf8401",
   "metadata": {},
   "outputs": [],
   "source": [
    "# From the AWS Account page, copy the export scripts from the appropriate role using the \"Command Line or Programmatic Access\" link\n",
    "# Paste the copied text into ~/credentials.env\n",
    "\n",
    "from dotenv import dotenv_values, load_dotenv\n",
    "import os\n",
    "import pathlib\n",
    "\n",
    "dotenv_dir = os.environ.get('CREDENTIAL_DOTENV_DIR', os.environ.get('PWD', '/opt/app-root/src'))\n",
    "dotenv_path = pathlib.Path(dotenv_dir) / 'credentials.env'\n",
    "if os.path.exists(dotenv_path):\n",
    "    load_dotenv(dotenv_path=dotenv_path,override=True)"
   ]
  },
  {
   "cell_type": "code",
   "execution_count": 3,
   "id": "4b26bea8",
   "metadata": {},
   "outputs": [],
   "source": [
    "import boto3\n",
    "s3_resource = boto3.resource(\n",
    "    service_name=\"s3\",\n",
    "    endpoint_url=os.environ['S3_LANDING_ENDPOINT'],\n",
    "    aws_access_key_id=os.environ['S3_LANDING_ACCESS_KEY'],\n",
    "    aws_secret_access_key=os.environ['S3_LANDING_SECRET_KEY'],\n",
    ")\n",
    "bucket_name = os.environ['S3_LANDING_BUCKET']\n",
    "bucket = s3_resource.Bucket(bucket_name)"
   ]
  },
  {
   "cell_type": "markdown",
   "id": "87945592",
   "metadata": {},
   "source": [
    "## 2. Link company names, location and lei from CorpWatch files"
   ]
  },
  {
   "cell_type": "code",
   "execution_count": 13,
   "id": "08b64dca",
   "metadata": {},
   "outputs": [],
   "source": [
    "# Read company's main file from S3\n",
    "companies_file = bucket.Object('CorpWatch/raw/companies.csv').get()['Body']\n",
    "corpwatch_df = pd.read_csv(companies_file, encoding='utf-8', delimiter='\\t', low_memory=False)"
   ]
  },
  {
   "cell_type": "code",
   "execution_count": 14,
   "id": "b005f1b5",
   "metadata": {},
   "outputs": [
    {
     "name": "stdout",
     "output_type": "stream",
     "text": [
      "<class 'pandas.core.frame.DataFrame'>\n",
      "RangeIndex: 1283087 entries, 0 to 1283086\n",
      "Data columns (total 6 columns):\n",
      " #   Column        Non-Null Count    Dtype  \n",
      "---  ------        --------------    -----  \n",
      " 0   row_id        1283087 non-null  int64  \n",
      " 1   cw_id         653524 non-null   float64\n",
      " 2   cik           1221379 non-null  float64\n",
      " 3   company_name  1283087 non-null  object \n",
      " 4   source_type   1283087 non-null  object \n",
      " 5   source_id     1283087 non-null  int64  \n",
      "dtypes: float64(2), int64(2), object(2)\n",
      "memory usage: 58.7+ MB\n"
     ]
    }
   ],
   "source": [
    "corpwatch_df.info()"
   ]
  },
  {
   "cell_type": "code",
   "execution_count": 15,
   "id": "d5448d0e",
   "metadata": {},
   "outputs": [],
   "source": [
    "# Select some information and remove duplications \n",
    "corpwatch_df = corpwatch_df.loc[:, ['cw_id', 'cik', 'company_name']] \n",
    "corpwatch_df.drop_duplicates(inplace=True)"
   ]
  },
  {
   "cell_type": "code",
   "execution_count": 16,
   "id": "440bd0f7",
   "metadata": {},
   "outputs": [],
   "source": [
    "# Remove companies without corpwatch ID\n",
    "mask = corpwatch_df['cw_id'].notnull()\n",
    "corpwatch_df = corpwatch_df[mask]"
   ]
  },
  {
   "cell_type": "code",
   "execution_count": 17,
   "id": "156ebe39",
   "metadata": {},
   "outputs": [
    {
     "data": {
      "text/html": [
       "<div>\n",
       "<style scoped>\n",
       "    .dataframe tbody tr th:only-of-type {\n",
       "        vertical-align: middle;\n",
       "    }\n",
       "\n",
       "    .dataframe tbody tr th {\n",
       "        vertical-align: top;\n",
       "    }\n",
       "\n",
       "    .dataframe thead th {\n",
       "        text-align: right;\n",
       "    }\n",
       "</style>\n",
       "<table border=\"1\" class=\"dataframe\">\n",
       "  <thead>\n",
       "    <tr style=\"text-align: right;\">\n",
       "      <th></th>\n",
       "      <th>cw_id</th>\n",
       "      <th>cik</th>\n",
       "      <th>company_name</th>\n",
       "    </tr>\n",
       "  </thead>\n",
       "  <tbody>\n",
       "    <tr>\n",
       "      <th>0</th>\n",
       "      <td>781188.0</td>\n",
       "      <td>13.0</td>\n",
       "      <td>CORPORATE INCOME FUND SEVENTY NINTH SHORT TERM...</td>\n",
       "    </tr>\n",
       "    <tr>\n",
       "      <th>1</th>\n",
       "      <td>1.0</td>\n",
       "      <td>20.0</td>\n",
       "      <td>K TRON INTERNATIONAL INC</td>\n",
       "    </tr>\n",
       "    <tr>\n",
       "      <th>2</th>\n",
       "      <td>1249859.0</td>\n",
       "      <td>63.0</td>\n",
       "      <td>FNW BANCORP INC</td>\n",
       "    </tr>\n",
       "    <tr>\n",
       "      <th>3</th>\n",
       "      <td>2.0</td>\n",
       "      <td>1750.0</td>\n",
       "      <td>AAR CORP</td>\n",
       "    </tr>\n",
       "    <tr>\n",
       "      <th>4</th>\n",
       "      <td>3.0</td>\n",
       "      <td>1800.0</td>\n",
       "      <td>ABBOTT LABORATORIES</td>\n",
       "    </tr>\n",
       "  </tbody>\n",
       "</table>\n",
       "</div>"
      ],
      "text/plain": [
       "       cw_id     cik                                       company_name\n",
       "0   781188.0    13.0  CORPORATE INCOME FUND SEVENTY NINTH SHORT TERM...\n",
       "1        1.0    20.0                           K TRON INTERNATIONAL INC\n",
       "2  1249859.0    63.0                                    FNW BANCORP INC\n",
       "3        2.0  1750.0                                           AAR CORP\n",
       "4        3.0  1800.0                                ABBOTT LABORATORIES"
      ]
     },
     "execution_count": 17,
     "metadata": {},
     "output_type": "execute_result"
    }
   ],
   "source": [
    "corpwatch_df.head()"
   ]
  },
  {
   "cell_type": "code",
   "execution_count": 18,
   "id": "53ea39b8",
   "metadata": {},
   "outputs": [
    {
     "name": "stdout",
     "output_type": "stream",
     "text": [
      "Total companies in CORPWATCH 653524\n"
     ]
    }
   ],
   "source": [
    "print('Total companies in CORPWATCH {}'.format(corpwatch_df.shape[0]))"
   ]
  },
  {
   "cell_type": "code",
   "execution_count": 19,
   "id": "a2ab8b10",
   "metadata": {},
   "outputs": [],
   "source": [
    "# Read company's location file\n",
    "locations_file = bucket.Object('CorpWatch/raw/company_locations.csv').get()['Body']\n",
    "locations_df = pd.read_csv(locations_file, encoding='utf-8', delimiter='\\t', low_memory=False)"
   ]
  },
  {
   "cell_type": "code",
   "execution_count": 20,
   "id": "74508dbf",
   "metadata": {},
   "outputs": [
    {
     "name": "stdout",
     "output_type": "stream",
     "text": [
      "<class 'pandas.core.frame.DataFrame'>\n",
      "RangeIndex: 2234325 entries, 0 to 2234324\n",
      "Data columns (total 16 columns):\n",
      " #   Column        Dtype  \n",
      "---  ------        -----  \n",
      " 0   location_id   int64  \n",
      " 1   cw_id         float64\n",
      " 2   date          object \n",
      " 3   type          object \n",
      " 4   raw_address   object \n",
      " 5   street_1      object \n",
      " 6   street_2      object \n",
      " 7   city          object \n",
      " 8   state         object \n",
      " 9   postal_code   object \n",
      " 10  country       float64\n",
      " 11  country_code  object \n",
      " 12  subdiv_code   object \n",
      " 13  min_year      int64  \n",
      " 14  max_year      int64  \n",
      " 15  most_recent   int64  \n",
      "dtypes: float64(2), int64(4), object(10)\n",
      "memory usage: 272.7+ MB\n"
     ]
    }
   ],
   "source": [
    "locations_df.info()"
   ]
  },
  {
   "cell_type": "code",
   "execution_count": 26,
   "id": "3781bda8",
   "metadata": {},
   "outputs": [],
   "source": [
    "# Select corpwatch ID + city + country and remove duplicates \n",
    "locations_df = locations_df.loc[:,['cw_id', 'city', 'country_code']]\n",
    "locations_df.drop_duplicates(inplace=True)"
   ]
  },
  {
   "cell_type": "code",
   "execution_count": 27,
   "id": "0240027a",
   "metadata": {},
   "outputs": [],
   "source": [
    "# Keep only the non-null entries \n",
    "mask1 = locations_df['cw_id'].notnull()\n",
    "mask2 = locations_df['city'].notnull()\n",
    "mask3 = locations_df['country_code'].notnull()\n",
    "locations_df = locations_df[mask1 & mask2 & mask3]"
   ]
  },
  {
   "cell_type": "code",
   "execution_count": 28,
   "id": "0a8d94f6",
   "metadata": {},
   "outputs": [
    {
     "data": {
      "text/html": [
       "<div>\n",
       "<style scoped>\n",
       "    .dataframe tbody tr th:only-of-type {\n",
       "        vertical-align: middle;\n",
       "    }\n",
       "\n",
       "    .dataframe tbody tr th {\n",
       "        vertical-align: top;\n",
       "    }\n",
       "\n",
       "    .dataframe thead th {\n",
       "        text-align: right;\n",
       "    }\n",
       "</style>\n",
       "<table border=\"1\" class=\"dataframe\">\n",
       "  <thead>\n",
       "    <tr style=\"text-align: right;\">\n",
       "      <th></th>\n",
       "      <th>cw_id</th>\n",
       "      <th>city</th>\n",
       "      <th>country_code</th>\n",
       "    </tr>\n",
       "  </thead>\n",
       "  <tbody>\n",
       "    <tr>\n",
       "      <th>0</th>\n",
       "      <td>1.0</td>\n",
       "      <td>PITMAN</td>\n",
       "      <td>US</td>\n",
       "    </tr>\n",
       "    <tr>\n",
       "      <th>1</th>\n",
       "      <td>2.0</td>\n",
       "      <td>WOOD DALE</td>\n",
       "      <td>US</td>\n",
       "    </tr>\n",
       "    <tr>\n",
       "      <th>2</th>\n",
       "      <td>3.0</td>\n",
       "      <td>ABBOTT PARK</td>\n",
       "      <td>US</td>\n",
       "    </tr>\n",
       "    <tr>\n",
       "      <th>4</th>\n",
       "      <td>4.0</td>\n",
       "      <td>NEW YORK</td>\n",
       "      <td>US</td>\n",
       "    </tr>\n",
       "    <tr>\n",
       "      <th>6</th>\n",
       "      <td>5.0</td>\n",
       "      <td>NEW YORK</td>\n",
       "      <td>US</td>\n",
       "    </tr>\n",
       "  </tbody>\n",
       "</table>\n",
       "</div>"
      ],
      "text/plain": [
       "   cw_id         city country_code\n",
       "0    1.0       PITMAN           US\n",
       "1    2.0    WOOD DALE           US\n",
       "2    3.0  ABBOTT PARK           US\n",
       "4    4.0     NEW YORK           US\n",
       "6    5.0     NEW YORK           US"
      ]
     },
     "execution_count": 28,
     "metadata": {},
     "output_type": "execute_result"
    }
   ],
   "source": [
    "locations_df.head()"
   ]
  },
  {
   "cell_type": "code",
   "execution_count": 29,
   "id": "14ac3e82",
   "metadata": {},
   "outputs": [],
   "source": [
    "# Merge company's record and locations\n",
    "corpwatch_df = corpwatch_df.merge(locations_df, left_on=['cw_id'], right_on=['cw_id'], how='left')"
   ]
  },
  {
   "cell_type": "code",
   "execution_count": 30,
   "id": "4f25b333",
   "metadata": {},
   "outputs": [
    {
     "name": "stdout",
     "output_type": "stream",
     "text": [
      "Total companies in CORPWATCH 719598\n"
     ]
    }
   ],
   "source": [
    "# Some companies are added because they exist in different locations\n",
    "print('Total companies in CORPWATCH {}'.format(corpwatch_df.shape[0]))"
   ]
  },
  {
   "cell_type": "code",
   "execution_count": 31,
   "id": "9b36a0a1",
   "metadata": {},
   "outputs": [
    {
     "data": {
      "text/html": [
       "<div>\n",
       "<style scoped>\n",
       "    .dataframe tbody tr th:only-of-type {\n",
       "        vertical-align: middle;\n",
       "    }\n",
       "\n",
       "    .dataframe tbody tr th {\n",
       "        vertical-align: top;\n",
       "    }\n",
       "\n",
       "    .dataframe thead th {\n",
       "        text-align: right;\n",
       "    }\n",
       "</style>\n",
       "<table border=\"1\" class=\"dataframe\">\n",
       "  <thead>\n",
       "    <tr style=\"text-align: right;\">\n",
       "      <th></th>\n",
       "      <th>cw_id</th>\n",
       "      <th>cik</th>\n",
       "      <th>company_name</th>\n",
       "      <th>city</th>\n",
       "      <th>country_code</th>\n",
       "    </tr>\n",
       "  </thead>\n",
       "  <tbody>\n",
       "    <tr>\n",
       "      <th>0</th>\n",
       "      <td>781188.0</td>\n",
       "      <td>13.0</td>\n",
       "      <td>CORPORATE INCOME FUND SEVENTY NINTH SHORT TERM...</td>\n",
       "      <td>NEW YORK</td>\n",
       "      <td>US</td>\n",
       "    </tr>\n",
       "    <tr>\n",
       "      <th>1</th>\n",
       "      <td>1.0</td>\n",
       "      <td>20.0</td>\n",
       "      <td>K TRON INTERNATIONAL INC</td>\n",
       "      <td>PITMAN</td>\n",
       "      <td>US</td>\n",
       "    </tr>\n",
       "    <tr>\n",
       "      <th>2</th>\n",
       "      <td>1249859.0</td>\n",
       "      <td>63.0</td>\n",
       "      <td>FNW BANCORP INC</td>\n",
       "      <td>ELGIN</td>\n",
       "      <td>US</td>\n",
       "    </tr>\n",
       "    <tr>\n",
       "      <th>3</th>\n",
       "      <td>2.0</td>\n",
       "      <td>1750.0</td>\n",
       "      <td>AAR CORP</td>\n",
       "      <td>WOOD DALE</td>\n",
       "      <td>US</td>\n",
       "    </tr>\n",
       "    <tr>\n",
       "      <th>4</th>\n",
       "      <td>3.0</td>\n",
       "      <td>1800.0</td>\n",
       "      <td>ABBOTT LABORATORIES</td>\n",
       "      <td>ABBOTT PARK</td>\n",
       "      <td>US</td>\n",
       "    </tr>\n",
       "  </tbody>\n",
       "</table>\n",
       "</div>"
      ],
      "text/plain": [
       "       cw_id     cik                                       company_name  \\\n",
       "0   781188.0    13.0  CORPORATE INCOME FUND SEVENTY NINTH SHORT TERM...   \n",
       "1        1.0    20.0                           K TRON INTERNATIONAL INC   \n",
       "2  1249859.0    63.0                                    FNW BANCORP INC   \n",
       "3        2.0  1750.0                                           AAR CORP   \n",
       "4        3.0  1800.0                                ABBOTT LABORATORIES   \n",
       "\n",
       "          city country_code  \n",
       "0     NEW YORK           US  \n",
       "1       PITMAN           US  \n",
       "2        ELGIN           US  \n",
       "3    WOOD DALE           US  \n",
       "4  ABBOTT PARK           US  "
      ]
     },
     "execution_count": 31,
     "metadata": {},
     "output_type": "execute_result"
    }
   ],
   "source": [
    "corpwatch_df.head()"
   ]
  },
  {
   "cell_type": "code",
   "execution_count": 35,
   "id": "4f7401c5",
   "metadata": {},
   "outputs": [],
   "source": [
    "# Read company's CIK-LEI file from S3\n",
    "lei_file = bucket.Object('CorpWatch/raw/cik_lei.csv').get()['Body']\n",
    "cik_lei_df = pd.read_csv(lei_file, encoding='utf-8', delimiter='|', low_memory=False)"
   ]
  },
  {
   "cell_type": "code",
   "execution_count": 36,
   "id": "74133e2f",
   "metadata": {},
   "outputs": [],
   "source": [
    "# Select cik, name and lei and remove duplications\n",
    "cik_lei_df = cik_lei_df.loc[:, ['CIK', 'Name', 'LEI']]\n",
    "cik_lei_df.columns = ['cik', 'company_name_lei', 'lei']\n",
    "cik_lei_df.drop_duplicates(inplace=True)"
   ]
  },
  {
   "cell_type": "code",
   "execution_count": 37,
   "id": "9497ec4c",
   "metadata": {},
   "outputs": [
    {
     "data": {
      "text/html": [
       "<div>\n",
       "<style scoped>\n",
       "    .dataframe tbody tr th:only-of-type {\n",
       "        vertical-align: middle;\n",
       "    }\n",
       "\n",
       "    .dataframe tbody tr th {\n",
       "        vertical-align: top;\n",
       "    }\n",
       "\n",
       "    .dataframe thead th {\n",
       "        text-align: right;\n",
       "    }\n",
       "</style>\n",
       "<table border=\"1\" class=\"dataframe\">\n",
       "  <thead>\n",
       "    <tr style=\"text-align: right;\">\n",
       "      <th></th>\n",
       "      <th>cik</th>\n",
       "      <th>company_name_lei</th>\n",
       "      <th>lei</th>\n",
       "    </tr>\n",
       "  </thead>\n",
       "  <tbody>\n",
       "    <tr>\n",
       "      <th>0</th>\n",
       "      <td>1750</td>\n",
       "      <td>Aar Corp</td>\n",
       "      <td>MP76T5YQX3YK5VVAQ802</td>\n",
       "    </tr>\n",
       "    <tr>\n",
       "      <th>1</th>\n",
       "      <td>1800</td>\n",
       "      <td>Abbott Laboratories</td>\n",
       "      <td>549300ZYY7524VF6JP88</td>\n",
       "    </tr>\n",
       "    <tr>\n",
       "      <th>2</th>\n",
       "      <td>2024</td>\n",
       "      <td>Ace Hardware Corp</td>\n",
       "      <td>5493002WMDWGNHBLKW26</td>\n",
       "    </tr>\n",
       "    <tr>\n",
       "      <th>3</th>\n",
       "      <td>2034</td>\n",
       "      <td>Aceto Corp</td>\n",
       "      <td>7MUSABK5TKG3168JQL21</td>\n",
       "    </tr>\n",
       "    <tr>\n",
       "      <th>4</th>\n",
       "      <td>2110</td>\n",
       "      <td>Columbia Acorn Trust</td>\n",
       "      <td>549300KHJ8TKYZRHYE36</td>\n",
       "    </tr>\n",
       "  </tbody>\n",
       "</table>\n",
       "</div>"
      ],
      "text/plain": [
       "    cik      company_name_lei                   lei\n",
       "0  1750              Aar Corp  MP76T5YQX3YK5VVAQ802\n",
       "1  1800   Abbott Laboratories  549300ZYY7524VF6JP88\n",
       "2  2024     Ace Hardware Corp  5493002WMDWGNHBLKW26\n",
       "3  2034            Aceto Corp  7MUSABK5TKG3168JQL21\n",
       "4  2110  Columbia Acorn Trust  549300KHJ8TKYZRHYE36"
      ]
     },
     "execution_count": 37,
     "metadata": {},
     "output_type": "execute_result"
    }
   ],
   "source": [
    "cik_lei_df.head()"
   ]
  },
  {
   "cell_type": "code",
   "execution_count": 38,
   "id": "82f78219",
   "metadata": {},
   "outputs": [],
   "source": [
    "# Merge company's record and lei\n",
    "corpwatch_df = corpwatch_df.merge(cik_lei_df, left_on=['cik'], right_on=['cik'], how='left')"
   ]
  },
  {
   "cell_type": "code",
   "execution_count": 40,
   "id": "e99cbbfb",
   "metadata": {},
   "outputs": [
    {
     "data": {
      "text/html": [
       "<div>\n",
       "<style scoped>\n",
       "    .dataframe tbody tr th:only-of-type {\n",
       "        vertical-align: middle;\n",
       "    }\n",
       "\n",
       "    .dataframe tbody tr th {\n",
       "        vertical-align: top;\n",
       "    }\n",
       "\n",
       "    .dataframe thead th {\n",
       "        text-align: right;\n",
       "    }\n",
       "</style>\n",
       "<table border=\"1\" class=\"dataframe\">\n",
       "  <thead>\n",
       "    <tr style=\"text-align: right;\">\n",
       "      <th></th>\n",
       "      <th>cw_id</th>\n",
       "      <th>cik</th>\n",
       "      <th>company_name</th>\n",
       "      <th>city</th>\n",
       "      <th>country_code</th>\n",
       "      <th>company_name_lei</th>\n",
       "      <th>lei</th>\n",
       "    </tr>\n",
       "  </thead>\n",
       "  <tbody>\n",
       "    <tr>\n",
       "      <th>0</th>\n",
       "      <td>781188.0</td>\n",
       "      <td>13.0</td>\n",
       "      <td>CORPORATE INCOME FUND SEVENTY NINTH SHORT TERM...</td>\n",
       "      <td>NEW YORK</td>\n",
       "      <td>US</td>\n",
       "      <td>NaN</td>\n",
       "      <td>NaN</td>\n",
       "    </tr>\n",
       "    <tr>\n",
       "      <th>1</th>\n",
       "      <td>1.0</td>\n",
       "      <td>20.0</td>\n",
       "      <td>K TRON INTERNATIONAL INC</td>\n",
       "      <td>PITMAN</td>\n",
       "      <td>US</td>\n",
       "      <td>NaN</td>\n",
       "      <td>NaN</td>\n",
       "    </tr>\n",
       "    <tr>\n",
       "      <th>2</th>\n",
       "      <td>1249859.0</td>\n",
       "      <td>63.0</td>\n",
       "      <td>FNW BANCORP INC</td>\n",
       "      <td>ELGIN</td>\n",
       "      <td>US</td>\n",
       "      <td>NaN</td>\n",
       "      <td>NaN</td>\n",
       "    </tr>\n",
       "    <tr>\n",
       "      <th>3</th>\n",
       "      <td>2.0</td>\n",
       "      <td>1750.0</td>\n",
       "      <td>AAR CORP</td>\n",
       "      <td>WOOD DALE</td>\n",
       "      <td>US</td>\n",
       "      <td>Aar Corp</td>\n",
       "      <td>MP76T5YQX3YK5VVAQ802</td>\n",
       "    </tr>\n",
       "    <tr>\n",
       "      <th>4</th>\n",
       "      <td>3.0</td>\n",
       "      <td>1800.0</td>\n",
       "      <td>ABBOTT LABORATORIES</td>\n",
       "      <td>ABBOTT PARK</td>\n",
       "      <td>US</td>\n",
       "      <td>Abbott Laboratories</td>\n",
       "      <td>549300ZYY7524VF6JP88</td>\n",
       "    </tr>\n",
       "  </tbody>\n",
       "</table>\n",
       "</div>"
      ],
      "text/plain": [
       "       cw_id     cik                                       company_name  \\\n",
       "0   781188.0    13.0  CORPORATE INCOME FUND SEVENTY NINTH SHORT TERM...   \n",
       "1        1.0    20.0                           K TRON INTERNATIONAL INC   \n",
       "2  1249859.0    63.0                                    FNW BANCORP INC   \n",
       "3        2.0  1750.0                                           AAR CORP   \n",
       "4        3.0  1800.0                                ABBOTT LABORATORIES   \n",
       "\n",
       "          city country_code     company_name_lei                   lei  \n",
       "0     NEW YORK           US                  NaN                   NaN  \n",
       "1       PITMAN           US                  NaN                   NaN  \n",
       "2        ELGIN           US                  NaN                   NaN  \n",
       "3    WOOD DALE           US             Aar Corp  MP76T5YQX3YK5VVAQ802  \n",
       "4  ABBOTT PARK           US  Abbott Laboratories  549300ZYY7524VF6JP88  "
      ]
     },
     "execution_count": 40,
     "metadata": {},
     "output_type": "execute_result"
    }
   ],
   "source": [
    "corpwatch_df.head()"
   ]
  },
  {
   "cell_type": "code",
   "execution_count": 39,
   "id": "3e63512d",
   "metadata": {},
   "outputs": [
    {
     "name": "stdout",
     "output_type": "stream",
     "text": [
      "Total companies in CORPWATCH 719598\n"
     ]
    }
   ],
   "source": [
    "# Show corpwatch company's records\n",
    "print('Total companies in CORPWATCH {}'.format(corpwatch_df.shape[0]))"
   ]
  },
  {
   "cell_type": "markdown",
   "id": "1c1cfe6a",
   "metadata": {},
   "source": [
    "## 4. Save CorpWatch pre-processed file"
   ]
  },
  {
   "cell_type": "code",
   "execution_count": 41,
   "id": "076eb7a2",
   "metadata": {},
   "outputs": [],
   "source": [
    "# Save locally to \"data\" folder\n",
    "saved_path = \"..\\..\\data\\pre_processed\"\n",
    "filename = \"corpwatch_pre_processed.csv\"\n",
    "corpwatch_filename = os.path.join(saved_path, filename)\n",
    "corpwatch_df.to_csv(corpwatch_filename, header=True, index=False)"
   ]
  },
  {
   "cell_type": "code",
   "execution_count": 42,
   "id": "c6bd5d25",
   "metadata": {},
   "outputs": [],
   "source": [
    "# Save final results to S3\n",
    "s3_filename = 'CorpWatch/pre_processed/corpwatch_pre_processed.csv'\n",
    "s3_resource.meta.client.upload_file(Filename=corpwatch_filename, Bucket=bucket_name, Key=s3_filename)"
   ]
  },
  {
   "cell_type": "code",
   "execution_count": null,
   "id": "7c76ca4b",
   "metadata": {},
   "outputs": [],
   "source": []
  }
 ],
 "metadata": {
  "kernelspec": {
   "display_name": "Python 3 (ipykernel)",
   "language": "python",
   "name": "python3"
  },
  "language_info": {
   "codemirror_mode": {
    "name": "ipython",
    "version": 3
   },
   "file_extension": ".py",
   "mimetype": "text/x-python",
   "name": "python",
   "nbconvert_exporter": "python",
   "pygments_lexer": "ipython3",
   "version": "3.8.10"
  }
 },
 "nbformat": 4,
 "nbformat_minor": 5
}
