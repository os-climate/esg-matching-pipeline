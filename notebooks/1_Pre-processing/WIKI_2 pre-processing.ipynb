{
 "cells": [
  {
   "cell_type": "markdown",
   "metadata": {},
   "source": [
    "# Pre-processing for WIKI Dataset"
   ]
  },
  {
   "attachments": {},
   "cell_type": "markdown",
   "metadata": {},
   "source": [
    "..."
   ]
  },
  {
   "cell_type": "code",
   "execution_count": 1,
   "metadata": {},
   "outputs": [],
   "source": [
    "import pandas as pd"
   ]
  },
  {
   "attachments": {},
   "cell_type": "markdown",
   "metadata": {},
   "source": [
    "## 1. Set up"
   ]
  },
  {
   "cell_type": "code",
   "execution_count": 2,
   "metadata": {},
   "outputs": [],
   "source": [
    "# From the AWS Account page, copy the export scripts from the appropriate role using the \"Command Line or Programmatic Access\" link\n",
    "# Paste the copied text into ~/credentials.env\n",
    "\n",
    "from dotenv import dotenv_values, load_dotenv\n",
    "import os\n",
    "import pathlib"
   ]
  },
  {
   "cell_type": "code",
   "execution_count": 3,
   "metadata": {},
   "outputs": [],
   "source": [
    "env_var = dotenv_values('../../.env')"
   ]
  },
  {
   "cell_type": "code",
   "execution_count": 4,
   "metadata": {},
   "outputs": [],
   "source": [
    "import boto3\n",
    "s3_resource = boto3.resource(\n",
    "    service_name=\"s3\",\n",
    "    endpoint_url=env_var['S3_ENDPOINT'],\n",
    "    aws_access_key_id=env_var['S3_ACCESS_KEY'],\n",
    "    aws_secret_access_key=env_var['S3_SECRET_KEY'],\n",
    ")\n",
    "bucket_name = env_var['S3_BUCKET']\n",
    "bucket = s3_resource.Bucket(bucket_name)"
   ]
  },
  {
   "attachments": {},
   "cell_type": "markdown",
   "metadata": {},
   "source": [
    "## 2. Read WIKI from S3"
   ]
  },
  {
   "attachments": {},
   "cell_type": "markdown",
   "metadata": {},
   "source": [
    "### Company"
   ]
  },
  {
   "cell_type": "code",
   "execution_count": 62,
   "metadata": {},
   "outputs": [],
   "source": [
    "company = bucket.Object('WIKI/raw/company.csv').get()['Body']\n",
    "company_df = pd.read_csv(company, encoding='utf-8', delimiter=',', low_memory=False )"
   ]
  },
  {
   "cell_type": "code",
   "execution_count": 66,
   "metadata": {},
   "outputs": [
    {
     "data": {
      "text/html": [
       "<div>\n",
       "<style scoped>\n",
       "    .dataframe tbody tr th:only-of-type {\n",
       "        vertical-align: middle;\n",
       "    }\n",
       "\n",
       "    .dataframe tbody tr th {\n",
       "        vertical-align: top;\n",
       "    }\n",
       "\n",
       "    .dataframe thead th {\n",
       "        text-align: right;\n",
       "    }\n",
       "</style>\n",
       "<table border=\"1\" class=\"dataframe\">\n",
       "  <thead>\n",
       "    <tr style=\"text-align: right;\">\n",
       "      <th></th>\n",
       "      <th>wikidata_id</th>\n",
       "      <th>name</th>\n",
       "      <th>lei</th>\n",
       "      <th>perm_id</th>\n",
       "      <th>bloomberg_id</th>\n",
       "      <th>siren</th>\n",
       "      <th>isin</th>\n",
       "      <th>siret</th>\n",
       "      <th>country_name</th>\n",
       "      <th>hq</th>\n",
       "    </tr>\n",
       "  </thead>\n",
       "  <tbody>\n",
       "    <tr>\n",
       "      <th>0</th>\n",
       "      <td>Q66</td>\n",
       "      <td>Boeing</td>\n",
       "      <td>RVHJWBXLJ1RFUBSY1F30</td>\n",
       "      <td>4295903076</td>\n",
       "      <td>NaN</td>\n",
       "      <td>NaN</td>\n",
       "      <td>US0970231058</td>\n",
       "      <td>NaN</td>\n",
       "      <td>United States of America</td>\n",
       "      <td>United States of America</td>\n",
       "    </tr>\n",
       "    <tr>\n",
       "      <th>1</th>\n",
       "      <td>Q67</td>\n",
       "      <td>Airbus</td>\n",
       "      <td>529900FCMZ4LKXFD0R69</td>\n",
       "      <td>NaN</td>\n",
       "      <td>NaN</td>\n",
       "      <td>383474814.0</td>\n",
       "      <td>NaN</td>\n",
       "      <td>NaN</td>\n",
       "      <td>France</td>\n",
       "      <td>France</td>\n",
       "    </tr>\n",
       "    <tr>\n",
       "      <th>2</th>\n",
       "      <td>Q95</td>\n",
       "      <td>Google</td>\n",
       "      <td>7ZW8QJWVPR4P1J1KQY45</td>\n",
       "      <td>4295899948</td>\n",
       "      <td>NaN</td>\n",
       "      <td>NaN</td>\n",
       "      <td>NaN</td>\n",
       "      <td>NaN</td>\n",
       "      <td>United States of America</td>\n",
       "      <td>United States of America</td>\n",
       "    </tr>\n",
       "    <tr>\n",
       "      <th>3</th>\n",
       "      <td>Q248</td>\n",
       "      <td>Intel</td>\n",
       "      <td>KNX4USFCNGPY45LOCE31</td>\n",
       "      <td>4295906830</td>\n",
       "      <td>NaN</td>\n",
       "      <td>NaN</td>\n",
       "      <td>US4581401001</td>\n",
       "      <td>NaN</td>\n",
       "      <td>United States of America</td>\n",
       "      <td>United States of America</td>\n",
       "    </tr>\n",
       "    <tr>\n",
       "      <th>4</th>\n",
       "      <td>Q312</td>\n",
       "      <td>Apple</td>\n",
       "      <td>HWUPKR0MPOU8FGXBT394</td>\n",
       "      <td>4295905573</td>\n",
       "      <td>NaN</td>\n",
       "      <td>NaN</td>\n",
       "      <td>US0378331005</td>\n",
       "      <td>NaN</td>\n",
       "      <td>United States of America</td>\n",
       "      <td>United States of America</td>\n",
       "    </tr>\n",
       "  </tbody>\n",
       "</table>\n",
       "</div>"
      ],
      "text/plain": [
       "  wikidata_id    name                   lei     perm_id bloomberg_id  \\\n",
       "0         Q66  Boeing  RVHJWBXLJ1RFUBSY1F30  4295903076          NaN   \n",
       "1         Q67  Airbus  529900FCMZ4LKXFD0R69         NaN          NaN   \n",
       "2         Q95  Google  7ZW8QJWVPR4P1J1KQY45  4295899948          NaN   \n",
       "3        Q248   Intel  KNX4USFCNGPY45LOCE31  4295906830          NaN   \n",
       "4        Q312   Apple  HWUPKR0MPOU8FGXBT394  4295905573          NaN   \n",
       "\n",
       "         siren          isin siret              country_name  \\\n",
       "0          NaN  US0970231058   NaN  United States of America   \n",
       "1  383474814.0           NaN   NaN                    France   \n",
       "2          NaN           NaN   NaN  United States of America   \n",
       "3          NaN  US4581401001   NaN  United States of America   \n",
       "4          NaN  US0378331005   NaN  United States of America   \n",
       "\n",
       "                         hq  \n",
       "0  United States of America  \n",
       "1                    France  \n",
       "2  United States of America  \n",
       "3  United States of America  \n",
       "4  United States of America  "
      ]
     },
     "execution_count": 66,
     "metadata": {},
     "output_type": "execute_result"
    }
   ],
   "source": [
    "company_df.head()"
   ]
  },
  {
   "cell_type": "code",
   "execution_count": 65,
   "metadata": {},
   "outputs": [],
   "source": [
    "company_df.drop('index', axis='columns', inplace=True)"
   ]
  },
  {
   "cell_type": "code",
   "execution_count": 67,
   "metadata": {},
   "outputs": [],
   "source": [
    "# Save localy\n",
    "saved_path = \"../../../dataset/pre_processed/\"\n",
    "filename = \"wiki_company.csv\"\n",
    "\n",
    "company_filename = os.path.join(saved_path, filename)\n",
    "company_df.to_csv(company_filename,encoding='utf-8',header=True, index=False)"
   ]
  },
  {
   "cell_type": "code",
   "execution_count": 68,
   "metadata": {},
   "outputs": [],
   "source": [
    "# Upload\n",
    "s3_filename = 'WIKI/pre_processed/company.csv'\n",
    "s3_resource.meta.client.upload_file(Filename=company_filename,\n",
    "                                    Bucket=env_var['S3_BUCKET'], \n",
    "                                    Key=s3_filename)"
   ]
  },
  {
   "attachments": {},
   "cell_type": "markdown",
   "metadata": {},
   "source": [
    "### Companies "
   ]
  },
  {
   "cell_type": "code",
   "execution_count": 23,
   "metadata": {},
   "outputs": [],
   "source": [
    "companies = bucket.Object('WIKI/raw/companies.csv').get()['Body']\n",
    "companies_df = pd.read_csv(companies, encoding='utf-8', delimiter=',', low_memory=False )"
   ]
  },
  {
   "cell_type": "code",
   "execution_count": 26,
   "metadata": {},
   "outputs": [],
   "source": [
    "companies_df.drop('index', axis='columns', inplace=True)"
   ]
  },
  {
   "cell_type": "code",
   "execution_count": null,
   "metadata": {},
   "outputs": [],
   "source": [
    "company = bucket.Object('WIKI/raw/company.csv').get()['Body']\n",
    "company_df = pd.read_csv(company, encoding='utf-8', delimiter=',', low_memory=False )"
   ]
  },
  {
   "cell_type": "code",
   "execution_count": 55,
   "metadata": {},
   "outputs": [],
   "source": [
    "# Save localy\n",
    "saved_path = \"../../../dataset/pre_processed/\"\n",
    "filename = \"wiki_companies.csv\"\n",
    "\n",
    "companies_filename = os.path.join(saved_path, filename)\n",
    "companies_df.to_csv(companies_filename,encoding='utf-8',header=True, index=False)"
   ]
  },
  {
   "cell_type": "code",
   "execution_count": 56,
   "metadata": {},
   "outputs": [],
   "source": [
    "# Upload\n",
    "s3_filename = 'WIKI/pre_processed/companies.csv'\n",
    "s3_resource.meta.client.upload_file(Filename=companies_filename,\n",
    "                                    Bucket=env_var['S3_BUCKET'], \n",
    "                                    Key=s3_filename)"
   ]
  },
  {
   "cell_type": "code",
   "execution_count": 58,
   "metadata": {},
   "outputs": [
    {
     "name": "stdout",
     "output_type": "stream",
     "text": [
      "WIKI/pre_processed/\n",
      "WIKI/pre_processed/companies.csv\n",
      "WIKI/pre_processed/company.csv\n",
      "WIKI/pre_processed/wiki_pre_processed.csv\n"
     ]
    }
   ],
   "source": [
    "for obj in bucket.objects.filter(Prefix=\"WIKI/pre_processed\"):\n",
    "    print(obj.key)"
   ]
  }
 ],
 "metadata": {
  "kernelspec": {
   "display_name": "env",
   "language": "python",
   "name": "python3"
  },
  "language_info": {
   "codemirror_mode": {
    "name": "ipython",
    "version": 3
   },
   "file_extension": ".py",
   "mimetype": "text/x-python",
   "name": "python",
   "nbconvert_exporter": "python",
   "pygments_lexer": "ipython3",
   "version": "3.10.6"
  },
  "orig_nbformat": 4
 },
 "nbformat": 4,
 "nbformat_minor": 2
}
