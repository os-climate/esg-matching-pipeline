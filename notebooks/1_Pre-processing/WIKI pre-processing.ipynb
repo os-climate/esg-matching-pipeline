{
 "cells": [
  {
   "cell_type": "markdown",
   "id": "2ca00a68",
   "metadata": {},
   "source": [
    "# Pre-processing for WIKI Dataset"
   ]
  },
  {
   "cell_type": "markdown",
   "id": "0a4cbd90",
   "metadata": {},
   "source": [
    "This notebook reads the WIKI datasets from S3, concatenates them together and saves the final result locally and into the WIKI S3 bucket."
   ]
  },
  {
   "cell_type": "code",
   "execution_count": 1,
   "id": "4a9f9b77",
   "metadata": {},
   "outputs": [],
   "source": [
    "import pandas as pd"
   ]
  },
  {
   "cell_type": "markdown",
   "id": "9d031b31",
   "metadata": {},
   "source": [
    "## 1. Read WIKI from S3"
   ]
  },
  {
   "cell_type": "code",
   "execution_count": 2,
   "id": "d61d0eec",
   "metadata": {},
   "outputs": [],
   "source": [
    "# From the AWS Account page, copy the export scripts from the appropriate role using the \"Command Line or Programmatic Access\" link\n",
    "# Paste the copied text into ~/credentials.env\n",
    "\n",
    "from dotenv import dotenv_values, load_dotenv\n",
    "import os\n",
    "import pathlib\n",
    "\n",
    "dotenv_dir = os.environ.get('CREDENTIAL_DOTENV_DIR', os.environ.get('PWD', '/opt/app-root/src'))\n",
    "dotenv_path = pathlib.Path(dotenv_dir) / 'credentials.env'\n",
    "if os.path.exists(dotenv_path):\n",
    "    load_dotenv(dotenv_path=dotenv_path,override=True)"
   ]
  },
  {
   "cell_type": "code",
   "execution_count": 3,
   "id": "faceb15a",
   "metadata": {},
   "outputs": [],
   "source": [
    "import boto3\n",
    "s3_resource = boto3.resource(\n",
    "    service_name=\"s3\",\n",
    "    endpoint_url=os.environ['S3_LANDING_ENDPOINT'],\n",
    "    aws_access_key_id=os.environ['S3_LANDING_ACCESS_KEY'],\n",
    "    aws_secret_access_key=os.environ['S3_LANDING_SECRET_KEY'],\n",
    ")\n",
    "bucket_name = os.environ['S3_LANDING_BUCKET']\n",
    "bucket = s3_resource.Bucket(bucket_name)"
   ]
  },
  {
   "cell_type": "code",
   "execution_count": 4,
   "id": "adc44d28",
   "metadata": {},
   "outputs": [],
   "source": [
    "wiki_df = None\n",
    "folder_s3 = 'WIKI/raw/'"
   ]
  },
  {
   "cell_type": "code",
   "execution_count": 5,
   "id": "93006570",
   "metadata": {},
   "outputs": [],
   "source": [
    "for count in range(1,21):\n",
    "    filename = 'results_' + str(count) + '.csv'\n",
    "    wiki_ds = bucket.Object(folder_s3+filename).get()['Body']\n",
    "    wiki_temp = pd.read_csv(wiki_ds, encoding='utf-8', delimiter=',')\n",
    "    wiki_df = pd.concat([wiki_df, wiki_temp], axis=0)"
   ]
  },
  {
   "cell_type": "code",
   "execution_count": 8,
   "id": "14e89e80",
   "metadata": {},
   "outputs": [],
   "source": [
    "wiki_df.drop(['Idx'], axis=1, inplace=True)\n",
    "wiki_df.columns = ['short_name', 'aliases', 'company_name', 'country', 'lei']"
   ]
  },
  {
   "cell_type": "code",
   "execution_count": 9,
   "id": "101ea0cb",
   "metadata": {},
   "outputs": [
    {
     "data": {
      "text/html": [
       "<div>\n",
       "<style scoped>\n",
       "    .dataframe tbody tr th:only-of-type {\n",
       "        vertical-align: middle;\n",
       "    }\n",
       "\n",
       "    .dataframe tbody tr th {\n",
       "        vertical-align: top;\n",
       "    }\n",
       "\n",
       "    .dataframe thead th {\n",
       "        text-align: right;\n",
       "    }\n",
       "</style>\n",
       "<table border=\"1\" class=\"dataframe\">\n",
       "  <thead>\n",
       "    <tr style=\"text-align: right;\">\n",
       "      <th></th>\n",
       "      <th>short_name</th>\n",
       "      <th>aliases</th>\n",
       "      <th>company_name</th>\n",
       "      <th>country</th>\n",
       "      <th>lei</th>\n",
       "    </tr>\n",
       "  </thead>\n",
       "  <tbody>\n",
       "    <tr>\n",
       "      <th>0</th>\n",
       "      <td>Boeing</td>\n",
       "      <td>['The Boeing Company', 'Boeing Company']</td>\n",
       "      <td>THE BOEING COMPANY</td>\n",
       "      <td>United States of America</td>\n",
       "      <td>RVHJWBXLJ1RFUBSY1F30</td>\n",
       "    </tr>\n",
       "    <tr>\n",
       "      <th>1</th>\n",
       "      <td>Airbus</td>\n",
       "      <td>['Airbus Commercial Aircraft']</td>\n",
       "      <td>Airbus SE</td>\n",
       "      <td>France</td>\n",
       "      <td>529900FCMZ4LKXFD0R69</td>\n",
       "    </tr>\n",
       "    <tr>\n",
       "      <th>2</th>\n",
       "      <td>Google</td>\n",
       "      <td>['Google Inc.', 'Google LLC']</td>\n",
       "      <td>Google LLC</td>\n",
       "      <td>United States of America</td>\n",
       "      <td>7ZW8QJWVPR4P1J1KQY45</td>\n",
       "    </tr>\n",
       "    <tr>\n",
       "      <th>3</th>\n",
       "      <td>Intel</td>\n",
       "      <td>['Intel Corporation', 'N M Electronics', 'Inte...</td>\n",
       "      <td>Intel Corporation</td>\n",
       "      <td>United States of America</td>\n",
       "      <td>KNX4USFCNGPY45LOCE31</td>\n",
       "    </tr>\n",
       "    <tr>\n",
       "      <th>4</th>\n",
       "      <td>Apple Inc.</td>\n",
       "      <td>['Apple Computer, Inc.', 'Apple Computer Inc',...</td>\n",
       "      <td>Apple Inc.</td>\n",
       "      <td>United States of America</td>\n",
       "      <td>HWUPKR0MPOU8FGXBT394</td>\n",
       "    </tr>\n",
       "  </tbody>\n",
       "</table>\n",
       "</div>"
      ],
      "text/plain": [
       "   short_name                                            aliases  \\\n",
       "0      Boeing           ['The Boeing Company', 'Boeing Company']   \n",
       "1      Airbus                     ['Airbus Commercial Aircraft']   \n",
       "2      Google                      ['Google Inc.', 'Google LLC']   \n",
       "3       Intel  ['Intel Corporation', 'N M Electronics', 'Inte...   \n",
       "4  Apple Inc.  ['Apple Computer, Inc.', 'Apple Computer Inc',...   \n",
       "\n",
       "         company_name                   country                   lei  \n",
       "0  THE BOEING COMPANY  United States of America  RVHJWBXLJ1RFUBSY1F30  \n",
       "1           Airbus SE                    France  529900FCMZ4LKXFD0R69  \n",
       "2          Google LLC  United States of America  7ZW8QJWVPR4P1J1KQY45  \n",
       "3   Intel Corporation  United States of America  KNX4USFCNGPY45LOCE31  \n",
       "4          Apple Inc.  United States of America  HWUPKR0MPOU8FGXBT394  "
      ]
     },
     "execution_count": 9,
     "metadata": {},
     "output_type": "execute_result"
    }
   ],
   "source": [
    "wiki_df.head()"
   ]
  },
  {
   "cell_type": "code",
   "execution_count": 10,
   "id": "ed82c758",
   "metadata": {},
   "outputs": [
    {
     "name": "stdout",
     "output_type": "stream",
     "text": [
      "Total companies in WIKI 198509\n"
     ]
    }
   ],
   "source": [
    "print('Total companies in WIKI {}'.format(wiki_df.shape[0]))"
   ]
  },
  {
   "cell_type": "markdown",
   "id": "0cc95b95",
   "metadata": {},
   "source": [
    "## 2. Save pre-processed WIKI"
   ]
  },
  {
   "cell_type": "code",
   "execution_count": 11,
   "id": "70b802f9",
   "metadata": {},
   "outputs": [],
   "source": [
    "# Save locally to \"data\" folder\n",
    "saved_path = \"..\\..\\data\\pre_processed\"\n",
    "filename = \"wiki_pre_processed.csv\"\n",
    "wiki_filename = os.path.join(saved_path, filename)\n",
    "wiki_df.to_csv(wiki_filename, header=True, index=False)"
   ]
  },
  {
   "cell_type": "code",
   "execution_count": 13,
   "id": "b3f2a21b",
   "metadata": {},
   "outputs": [],
   "source": [
    "# Save final results to S3\n",
    "s3_filename = 'WIKI/pre_processed/wiki_pre_processed.csv'\n",
    "s3_resource.meta.client.upload_file(Filename=wiki_filename, Bucket=bucket_name, Key=s3_filename)"
   ]
  },
  {
   "cell_type": "code",
   "execution_count": null,
   "id": "a254670c",
   "metadata": {},
   "outputs": [],
   "source": []
  }
 ],
 "metadata": {
  "kernelspec": {
   "display_name": "Python 3 (ipykernel)",
   "language": "python",
   "name": "python3"
  },
  "language_info": {
   "codemirror_mode": {
    "name": "ipython",
    "version": 3
   },
   "file_extension": ".py",
   "mimetype": "text/x-python",
   "name": "python",
   "nbconvert_exporter": "python",
   "pygments_lexer": "ipython3",
   "version": "3.8.10"
  }
 },
 "nbformat": 4,
 "nbformat_minor": 5
}
