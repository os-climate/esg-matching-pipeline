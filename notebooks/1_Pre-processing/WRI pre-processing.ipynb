{
 "cells": [
  {
   "cell_type": "markdown",
   "id": "2ca00a68",
   "metadata": {},
   "source": [
    "# Pre-processing for WRI Dataset"
   ]
  },
  {
   "cell_type": "markdown",
   "id": "0a4cbd90",
   "metadata": {},
   "source": [
    "This notebook reads from S3 the main WRI dataset to select only company's record and country information.\n",
    "No change in the file content is performed, apart from column's names. The result of this pre-processing is saved back to S3."
   ]
  },
  {
   "cell_type": "code",
   "execution_count": 1,
   "id": "4a9f9b77",
   "metadata": {},
   "outputs": [],
   "source": [
    "import pandas as pd"
   ]
  },
  {
   "cell_type": "markdown",
   "id": "9d031b31",
   "metadata": {},
   "source": [
    "## 1. Read WRI from S3"
   ]
  },
  {
   "cell_type": "code",
   "execution_count": 2,
   "id": "d61d0eec",
   "metadata": {},
   "outputs": [],
   "source": [
    "# From the AWS Account page, copy the export scripts from the appropriate role using the \"Command Line or Programmatic Access\" link\n",
    "# Paste the copied text into ~/credentials.env\n",
    "\n",
    "from dotenv import dotenv_values, load_dotenv\n",
    "import os\n",
    "import pathlib\n",
    "\n",
    "dotenv_dir = os.environ.get('CREDENTIAL_DOTENV_DIR', os.environ.get('PWD', '/opt/app-root/src'))\n",
    "dotenv_path = pathlib.Path(dotenv_dir) / 'credentials.env'\n",
    "if os.path.exists(dotenv_path):\n",
    "    load_dotenv(dotenv_path=dotenv_path,override=True)"
   ]
  },
  {
   "cell_type": "code",
   "execution_count": 3,
   "id": "faceb15a",
   "metadata": {},
   "outputs": [],
   "source": [
    "import boto3\n",
    "s3_resource = boto3.resource(\n",
    "    service_name=\"s3\",\n",
    "    endpoint_url=os.environ['S3_LANDING_ENDPOINT'],\n",
    "    aws_access_key_id=os.environ['S3_LANDING_ACCESS_KEY'],\n",
    "    aws_secret_access_key=os.environ['S3_LANDING_SECRET_KEY'],\n",
    ")\n",
    "bucket_name = os.environ['S3_LANDING_BUCKET']\n",
    "bucket = s3_resource.Bucket(bucket_name)\n",
    "\n",
    "wri_file = bucket.Object('WRI/global_power_plant_database_v_1_3/global_power_plant_database.csv').get()['Body']"
   ]
  },
  {
   "cell_type": "code",
   "execution_count": 4,
   "id": "d28a6b8c",
   "metadata": {},
   "outputs": [],
   "source": [
    "wri_df = pd.read_csv(wri_file, encoding='utf-8', delimiter=',', dtype={'latitude':'float64',\n",
    "                                                                      'longitude': 'float64',\n",
    "                                                                      'capacity_mw':'float64',\n",
    "                                                                      'other_fuel3':'str'})"
   ]
  },
  {
   "cell_type": "code",
   "execution_count": 5,
   "id": "9c08435d",
   "metadata": {},
   "outputs": [],
   "source": [
    "# Get only company's records\n",
    "mask=wri_df['owner'].notnull()\n",
    "wri_df = wri_df[mask]"
   ]
  },
  {
   "cell_type": "code",
   "execution_count": 6,
   "id": "99580fe5",
   "metadata": {},
   "outputs": [],
   "source": [
    "# Select company's names + country and remove duplicates \n",
    "wri_df = wri_df.loc[:, ['owner', 'country']]\n",
    "wri_df.drop_duplicates(inplace=True)"
   ]
  },
  {
   "cell_type": "code",
   "execution_count": 7,
   "id": "38d6a1f3",
   "metadata": {},
   "outputs": [
    {
     "data": {
      "text/html": [
       "<div>\n",
       "<style scoped>\n",
       "    .dataframe tbody tr th:only-of-type {\n",
       "        vertical-align: middle;\n",
       "    }\n",
       "\n",
       "    .dataframe tbody tr th {\n",
       "        vertical-align: top;\n",
       "    }\n",
       "\n",
       "    .dataframe thead th {\n",
       "        text-align: right;\n",
       "    }\n",
       "</style>\n",
       "<table border=\"1\" class=\"dataframe\">\n",
       "  <thead>\n",
       "    <tr style=\"text-align: right;\">\n",
       "      <th></th>\n",
       "      <th>company_name</th>\n",
       "      <th>country</th>\n",
       "    </tr>\n",
       "  </thead>\n",
       "  <tbody>\n",
       "    <tr>\n",
       "      <th>19</th>\n",
       "      <td>SociÃ©te AlgÃ©rienne de Production de l\\'Elect...</td>\n",
       "      <td>DZA</td>\n",
       "    </tr>\n",
       "    <tr>\n",
       "      <th>25</th>\n",
       "      <td>SociÃ©tÃ© AlgÃ©rienne de Production de lâ€™Ele...</td>\n",
       "      <td>DZA</td>\n",
       "    </tr>\n",
       "    <tr>\n",
       "      <th>27</th>\n",
       "      <td>Sonelgaz</td>\n",
       "      <td>DZA</td>\n",
       "    </tr>\n",
       "    <tr>\n",
       "      <th>34</th>\n",
       "      <td>Sonelgaz Production de lâ€™Electricite</td>\n",
       "      <td>DZA</td>\n",
       "    </tr>\n",
       "    <tr>\n",
       "      <th>36</th>\n",
       "      <td>Sharikat Kahraba Hadjret En-Nouss</td>\n",
       "      <td>DZA</td>\n",
       "    </tr>\n",
       "  </tbody>\n",
       "</table>\n",
       "</div>"
      ],
      "text/plain": [
       "                                         company_name country\n",
       "19  SociÃ©te AlgÃ©rienne de Production de l\\'Elect...     DZA\n",
       "25  SociÃ©tÃ© AlgÃ©rienne de Production de lâ€™Ele...     DZA\n",
       "27                                           Sonelgaz     DZA\n",
       "34             Sonelgaz Production de lâ€™Electricite     DZA\n",
       "36                  Sharikat Kahraba Hadjret En-Nouss     DZA"
      ]
     },
     "execution_count": 7,
     "metadata": {},
     "output_type": "execute_result"
    }
   ],
   "source": [
    "# Rename column names and check the current dataset\n",
    "wri_df.columns = ['company_name', 'country']\n",
    "wri_df.head()"
   ]
  },
  {
   "cell_type": "code",
   "execution_count": 8,
   "id": "ed82c758",
   "metadata": {},
   "outputs": [
    {
     "name": "stdout",
     "output_type": "stream",
     "text": [
      "Total companies in WRI 10181\n"
     ]
    }
   ],
   "source": [
    "print('Total companies in WRI {}'.format(wri_df.shape[0]))"
   ]
  },
  {
   "cell_type": "markdown",
   "id": "0cc95b95",
   "metadata": {},
   "source": [
    "## 2. Save pre-processed WRI"
   ]
  },
  {
   "cell_type": "code",
   "execution_count": 9,
   "id": "70b802f9",
   "metadata": {},
   "outputs": [],
   "source": [
    "# Save locally to \"data\" folder\n",
    "saved_path = \"..\\..\\data\\pre_processed\"\n",
    "filename = \"wri_pre_processed.csv\"\n",
    "wri_filename = os.path.join(saved_path, filename)\n",
    "wri_df.to_csv(wri_filename, header=True, index=False)"
   ]
  },
  {
   "cell_type": "code",
   "execution_count": 10,
   "id": "b3f2a21b",
   "metadata": {},
   "outputs": [],
   "source": [
    "# Save final results to S3\n",
    "s3_filename = 'WRI/pre_processed/wri_pre_processed.csv'\n",
    "s3_resource.meta.client.upload_file(Filename=wri_filename, Bucket=bucket_name, Key=s3_filename)"
   ]
  },
  {
   "cell_type": "code",
   "execution_count": null,
   "id": "a254670c",
   "metadata": {},
   "outputs": [],
   "source": []
  }
 ],
 "metadata": {
  "kernelspec": {
   "display_name": "Python 3 (ipykernel)",
   "language": "python",
   "name": "python3"
  },
  "language_info": {
   "codemirror_mode": {
    "name": "ipython",
    "version": 3
   },
   "file_extension": ".py",
   "mimetype": "text/x-python",
   "name": "python",
   "nbconvert_exporter": "python",
   "pygments_lexer": "ipython3",
   "version": "3.8.10"
  }
 },
 "nbformat": 4,
 "nbformat_minor": 5
}
