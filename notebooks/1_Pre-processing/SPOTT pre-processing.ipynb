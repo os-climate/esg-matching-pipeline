{
 "cells": [
  {
   "cell_type": "markdown",
   "id": "2ca00a68",
   "metadata": {},
   "source": [
    "# Pre-processing for SPOTT Dataset"
   ]
  },
  {
   "cell_type": "markdown",
   "id": "0a4cbd90",
   "metadata": {},
   "source": [
    "This notebook reads the three SPOTT datasets from S3, concatenates them together and saves the final result locally and into the SPOTT S3 bucket."
   ]
  },
  {
   "cell_type": "code",
   "execution_count": 1,
   "id": "4a9f9b77",
   "metadata": {},
   "outputs": [],
   "source": [
    "import pandas as pd"
   ]
  },
  {
   "cell_type": "markdown",
   "id": "9d031b31",
   "metadata": {},
   "source": [
    "## 1. Read SPOTT from S3"
   ]
  },
  {
   "cell_type": "code",
   "execution_count": 2,
   "id": "d61d0eec",
   "metadata": {},
   "outputs": [],
   "source": [
    "# From the AWS Account page, copy the export scripts from the appropriate role using the \"Command Line or Programmatic Access\" link\n",
    "# Paste the copied text into ~/credentials.env\n",
    "\n",
    "from dotenv import dotenv_values, load_dotenv\n",
    "import os\n",
    "import pathlib\n",
    "\n",
    "dotenv_dir = os.environ.get('CREDENTIAL_DOTENV_DIR', os.environ.get('PWD', '/opt/app-root/src'))\n",
    "dotenv_path = pathlib.Path(dotenv_dir) / 'credentials.env'\n",
    "if os.path.exists(dotenv_path):\n",
    "    load_dotenv(dotenv_path=dotenv_path,override=True)"
   ]
  },
  {
   "cell_type": "code",
   "execution_count": 8,
   "id": "faceb15a",
   "metadata": {},
   "outputs": [],
   "source": [
    "import boto3\n",
    "s3_resource = boto3.resource(\n",
    "    service_name=\"s3\",\n",
    "    endpoint_url=os.environ['S3_LANDING_ENDPOINT'],\n",
    "    aws_access_key_id=os.environ['S3_LANDING_ACCESS_KEY'],\n",
    "    aws_secret_access_key=os.environ['S3_LANDING_SECRET_KEY'],\n",
    ")\n",
    "bucket_name = os.environ['S3_LANDING_BUCKET']\n",
    "bucket = s3_resource.Bucket(bucket_name)\n",
    "\n",
    "spott_rubber = bucket.Object('SPOTT/raw/SPOTT-natural-rubber-companies-profile-data-downloaded-2022-10-28.csv').get()['Body']\n",
    "spott_oil = bucket.Object('SPOTT/raw/SPOTT-palm-oil-companies-profile-data-downloaded-2022-10-28.csv').get()['Body']\n",
    "spott_pulp = bucket.Object('SPOTT/raw/SPOTT-timber-pulp-paper-companies-profile-data-downloaded-2022-10-28.csv').get()['Body']"
   ]
  },
  {
   "cell_type": "code",
   "execution_count": 9,
   "id": "d28a6b8c",
   "metadata": {},
   "outputs": [],
   "source": [
    "spott_df1 = pd.read_csv(spott_rubber, encoding='utf-8', delimiter=',', skiprows=7)\n",
    "spott_df2 = pd.read_csv(spott_oil, encoding='utf-8', delimiter=',', skiprows=7)\n",
    "spott_df3 = pd.read_csv(spott_pulp, encoding='utf-8', delimiter=',', skiprows=7)"
   ]
  },
  {
   "cell_type": "code",
   "execution_count": 12,
   "id": "afa96ad6",
   "metadata": {},
   "outputs": [],
   "source": [
    "spott_df = pd.concat([spott_df1, spott_df2, spott_df3], axis=0)"
   ]
  },
  {
   "cell_type": "code",
   "execution_count": 13,
   "id": "14e89e80",
   "metadata": {},
   "outputs": [
    {
     "name": "stdout",
     "output_type": "stream",
     "text": [
      "<class 'pandas.core.frame.DataFrame'>\n",
      "Int64Index: 245 entries, 0 to 102\n",
      "Data columns (total 19 columns):\n",
      " #   Column                   Non-Null Count  Dtype  \n",
      "---  ------                   --------------  -----  \n",
      " 0   Company                  245 non-null    object \n",
      " 1   Parent company           92 non-null     object \n",
      " 2   Subsidiaries             131 non-null    object \n",
      " 3   Market cap (USD)         98 non-null     float64\n",
      " 4   Bloomberg ticker         240 non-null    object \n",
      " 5   Thomson Reuters ticker   156 non-null    object \n",
      " 6   ISIN                     97 non-null     object \n",
      " 7   Sedol                    30 non-null     object \n",
      " 8   Landbank (ha)            89 non-null     float64\n",
      " 9   GPSNR member?            31 non-null     object \n",
      " 10  Activities               237 non-null    object \n",
      " 11  Smallholders             243 non-null    object \n",
      " 12  Locations                240 non-null    object \n",
      " 13  Headquarters             244 non-null    object \n",
      " 14  Notes                    7 non-null      object \n",
      " 15  Company website          216 non-null    object \n",
      " 16  Landbank (oil palm, ha)  71 non-null     float64\n",
      " 17  RSPO member?             99 non-null     object \n",
      " 18  Member since?            57 non-null     object \n",
      "dtypes: float64(3), object(16)\n",
      "memory usage: 38.3+ KB\n"
     ]
    }
   ],
   "source": [
    "spott_df.info()"
   ]
  },
  {
   "cell_type": "code",
   "execution_count": 15,
   "id": "ea5c6434",
   "metadata": {},
   "outputs": [],
   "source": [
    "spott_df.columns = ['company_name', 'parent_company', 'subsidiaries', 'market_cap', 'bbg_ticker', 'reuters_ticker', \n",
    "                    'isin', 'sedol', 'landbank_ha', 'gpsnr_member', 'activities', 'small_holders', 'locations',\n",
    "                    'headquarter_country', 'notes', 'website', 'landbank_oil_ha', 'rspo_member', 'member_since']"
   ]
  },
  {
   "cell_type": "code",
   "execution_count": 18,
   "id": "285487fc",
   "metadata": {},
   "outputs": [
    {
     "data": {
      "text/html": [
       "<div>\n",
       "<style scoped>\n",
       "    .dataframe tbody tr th:only-of-type {\n",
       "        vertical-align: middle;\n",
       "    }\n",
       "\n",
       "    .dataframe tbody tr th {\n",
       "        vertical-align: top;\n",
       "    }\n",
       "\n",
       "    .dataframe thead th {\n",
       "        text-align: right;\n",
       "    }\n",
       "</style>\n",
       "<table border=\"1\" class=\"dataframe\">\n",
       "  <thead>\n",
       "    <tr style=\"text-align: right;\">\n",
       "      <th></th>\n",
       "      <th>company_name</th>\n",
       "      <th>parent_company</th>\n",
       "      <th>subsidiaries</th>\n",
       "      <th>market_cap</th>\n",
       "      <th>bbg_ticker</th>\n",
       "      <th>reuters_ticker</th>\n",
       "      <th>isin</th>\n",
       "      <th>sedol</th>\n",
       "      <th>landbank_ha</th>\n",
       "      <th>gpsnr_member</th>\n",
       "      <th>activities</th>\n",
       "      <th>small_holders</th>\n",
       "      <th>locations</th>\n",
       "      <th>headquarter_country</th>\n",
       "      <th>notes</th>\n",
       "      <th>website</th>\n",
       "      <th>landbank_oil_ha</th>\n",
       "      <th>rspo_member</th>\n",
       "      <th>member_since</th>\n",
       "    </tr>\n",
       "  </thead>\n",
       "  <tbody>\n",
       "    <tr>\n",
       "      <th>0</th>\n",
       "      <td>Austindo Nusantara Jaya Tbk PT</td>\n",
       "      <td>NaN</td>\n",
       "      <td>NaN</td>\n",
       "      <td>NaN</td>\n",
       "      <td>NaN</td>\n",
       "      <td>NaN</td>\n",
       "      <td>NaN</td>\n",
       "      <td>NaN</td>\n",
       "      <td>NaN</td>\n",
       "      <td>No</td>\n",
       "      <td>NaN</td>\n",
       "      <td>NaN</td>\n",
       "      <td>NaN</td>\n",
       "      <td>NaN</td>\n",
       "      <td>NaN</td>\n",
       "      <td>NaN</td>\n",
       "      <td>NaN</td>\n",
       "      <td>NaN</td>\n",
       "      <td>NaN</td>\n",
       "    </tr>\n",
       "    <tr>\n",
       "      <th>1</th>\n",
       "      <td>Bakrie Sumatera Plantations Tbk PT</td>\n",
       "      <td>PT Bakrie &amp; Brothers Tbk</td>\n",
       "      <td>PT Huma Indah Mekar (HIM)</td>\n",
       "      <td>2.000000e+07</td>\n",
       "      <td>UNSP IJ Equity</td>\n",
       "      <td>UNSP.JK</td>\n",
       "      <td>ID1000099708</td>\n",
       "      <td>NaN</td>\n",
       "      <td>19789.0</td>\n",
       "      <td>No</td>\n",
       "      <td>Natural rubber cultivation and processing</td>\n",
       "      <td>Unclear whether company has industrial plantat...</td>\n",
       "      <td>Indonesia (Sumatra)</td>\n",
       "      <td>Indonesia</td>\n",
       "      <td>NaN</td>\n",
       "      <td>https://www.bakriesumatera.com/</td>\n",
       "      <td>NaN</td>\n",
       "      <td>NaN</td>\n",
       "      <td>NaN</td>\n",
       "    </tr>\n",
       "    <tr>\n",
       "      <th>2</th>\n",
       "      <td>Bridgestone Corporation</td>\n",
       "      <td>NaN</td>\n",
       "      <td>Firestone Natural Rubber Company, LLC</td>\n",
       "      <td>2.919700e+10</td>\n",
       "      <td>5108 JP Equity</td>\n",
       "      <td>5108.T</td>\n",
       "      <td>JP3830800003</td>\n",
       "      <td>NaN</td>\n",
       "      <td>NaN</td>\n",
       "      <td>Yes</td>\n",
       "      <td>Natural rubber cultivation, processing and dis...</td>\n",
       "      <td>Company has industrial plantation suppliers; C...</td>\n",
       "      <td>Liberia (Harbel), Indonesia (Kalimantan, Sumat...</td>\n",
       "      <td>Japan</td>\n",
       "      <td>NaN</td>\n",
       "      <td>https://www.bridgestone.com</td>\n",
       "      <td>NaN</td>\n",
       "      <td>NaN</td>\n",
       "      <td>NaN</td>\n",
       "    </tr>\n",
       "    <tr>\n",
       "      <th>3</th>\n",
       "      <td>Cheng Shin Rubber Industry Co Ltd (正新橡胶工业股份有限公司)</td>\n",
       "      <td>NaN</td>\n",
       "      <td>Cheng Shin Rubber (China) Co., Ltd. and Cheng ...</td>\n",
       "      <td>4.124000e+09</td>\n",
       "      <td>2105 TT Equity</td>\n",
       "      <td>NaN</td>\n",
       "      <td>TW0002105004</td>\n",
       "      <td>NaN</td>\n",
       "      <td>NaN</td>\n",
       "      <td>No</td>\n",
       "      <td>Natural rubber manufacturing, trading and dist...</td>\n",
       "      <td>Company has scheme/outgrower smallholder suppl...</td>\n",
       "      <td>China (Xiamen, Chongqing, Zhangzhou)</td>\n",
       "      <td>Taiwan</td>\n",
       "      <td>NaN</td>\n",
       "      <td>https://www.csttires.com/int/about-cst/</td>\n",
       "      <td>NaN</td>\n",
       "      <td>NaN</td>\n",
       "      <td>NaN</td>\n",
       "    </tr>\n",
       "    <tr>\n",
       "      <th>4</th>\n",
       "      <td>Continental AG</td>\n",
       "      <td>NaN</td>\n",
       "      <td>General Tire, Continental Reifen Deutschland GmbH</td>\n",
       "      <td>1.580400e+10</td>\n",
       "      <td>CON GR Equity</td>\n",
       "      <td>NaN</td>\n",
       "      <td>DE0005439004</td>\n",
       "      <td>NaN</td>\n",
       "      <td>NaN</td>\n",
       "      <td>No</td>\n",
       "      <td>Natural rubber manufacturing</td>\n",
       "      <td>Company has scheme/outgrower smallholder suppl...</td>\n",
       "      <td>Germany (Hanover, Korbatch), Czech Republic (O...</td>\n",
       "      <td>Germany</td>\n",
       "      <td>NaN</td>\n",
       "      <td>https://www.continental.com/en/</td>\n",
       "      <td>NaN</td>\n",
       "      <td>NaN</td>\n",
       "      <td>NaN</td>\n",
       "    </tr>\n",
       "  </tbody>\n",
       "</table>\n",
       "</div>"
      ],
      "text/plain": [
       "                                       company_name            parent_company  \\\n",
       "0                    Austindo Nusantara Jaya Tbk PT                       NaN   \n",
       "1                Bakrie Sumatera Plantations Tbk PT  PT Bakrie & Brothers Tbk   \n",
       "2                           Bridgestone Corporation                       NaN   \n",
       "3  Cheng Shin Rubber Industry Co Ltd (正新橡胶工业股份有限公司)                       NaN   \n",
       "4                                    Continental AG                       NaN   \n",
       "\n",
       "                                        subsidiaries    market_cap  \\\n",
       "0                                                NaN           NaN   \n",
       "1                          PT Huma Indah Mekar (HIM)  2.000000e+07   \n",
       "2              Firestone Natural Rubber Company, LLC  2.919700e+10   \n",
       "3  Cheng Shin Rubber (China) Co., Ltd. and Cheng ...  4.124000e+09   \n",
       "4  General Tire, Continental Reifen Deutschland GmbH  1.580400e+10   \n",
       "\n",
       "       bbg_ticker reuters_ticker          isin sedol  landbank_ha  \\\n",
       "0             NaN            NaN           NaN   NaN          NaN   \n",
       "1  UNSP IJ Equity        UNSP.JK  ID1000099708   NaN      19789.0   \n",
       "2  5108 JP Equity         5108.T  JP3830800003   NaN          NaN   \n",
       "3  2105 TT Equity            NaN  TW0002105004   NaN          NaN   \n",
       "4   CON GR Equity            NaN  DE0005439004   NaN          NaN   \n",
       "\n",
       "  gpsnr_member                                         activities  \\\n",
       "0           No                                                NaN   \n",
       "1           No          Natural rubber cultivation and processing   \n",
       "2          Yes  Natural rubber cultivation, processing and dis...   \n",
       "3           No  Natural rubber manufacturing, trading and dist...   \n",
       "4           No                       Natural rubber manufacturing   \n",
       "\n",
       "                                       small_holders  \\\n",
       "0                                                NaN   \n",
       "1  Unclear whether company has industrial plantat...   \n",
       "2  Company has industrial plantation suppliers; C...   \n",
       "3  Company has scheme/outgrower smallholder suppl...   \n",
       "4  Company has scheme/outgrower smallholder suppl...   \n",
       "\n",
       "                                           locations headquarter_country  \\\n",
       "0                                                NaN                 NaN   \n",
       "1                                Indonesia (Sumatra)           Indonesia   \n",
       "2  Liberia (Harbel), Indonesia (Kalimantan, Sumat...               Japan   \n",
       "3               China (Xiamen, Chongqing, Zhangzhou)              Taiwan   \n",
       "4  Germany (Hanover, Korbatch), Czech Republic (O...             Germany   \n",
       "\n",
       "  notes                                  website  landbank_oil_ha rspo_member  \\\n",
       "0   NaN                                      NaN              NaN         NaN   \n",
       "1   NaN          https://www.bakriesumatera.com/              NaN         NaN   \n",
       "2   NaN              https://www.bridgestone.com              NaN         NaN   \n",
       "3   NaN  https://www.csttires.com/int/about-cst/              NaN         NaN   \n",
       "4   NaN          https://www.continental.com/en/              NaN         NaN   \n",
       "\n",
       "  member_since  \n",
       "0          NaN  \n",
       "1          NaN  \n",
       "2          NaN  \n",
       "3          NaN  \n",
       "4          NaN  "
      ]
     },
     "execution_count": 18,
     "metadata": {},
     "output_type": "execute_result"
    }
   ],
   "source": [
    "spott_df.head()"
   ]
  },
  {
   "cell_type": "code",
   "execution_count": 20,
   "id": "ed82c758",
   "metadata": {},
   "outputs": [
    {
     "name": "stdout",
     "output_type": "stream",
     "text": [
      "Total companies in SPOTT 245\n"
     ]
    }
   ],
   "source": [
    "print('Total companies in SPOTT {}'.format(spott_df.shape[0]))"
   ]
  },
  {
   "cell_type": "markdown",
   "id": "0cc95b95",
   "metadata": {},
   "source": [
    "## 2. Save pre-processed SPOTT"
   ]
  },
  {
   "cell_type": "code",
   "execution_count": 22,
   "id": "70b802f9",
   "metadata": {},
   "outputs": [],
   "source": [
    "# Save locally to \"data\" folder\n",
    "saved_path = \"..\\..\\data\\pre_processed\"\n",
    "filename = \"spott_pre_processed.csv\"\n",
    "spott_filename = os.path.join(saved_path, filename)\n",
    "spott_df.to_csv(spott_filename, header=True, index=False)"
   ]
  },
  {
   "cell_type": "code",
   "execution_count": 23,
   "id": "b3f2a21b",
   "metadata": {},
   "outputs": [],
   "source": [
    "# Save final results to S3\n",
    "s3_filename = 'SPOTT/pre_processed/spott_pre_processed.csv'\n",
    "s3_resource.meta.client.upload_file(Filename=spott_filename, Bucket=bucket_name, Key=s3_filename)"
   ]
  },
  {
   "cell_type": "code",
   "execution_count": null,
   "id": "a254670c",
   "metadata": {},
   "outputs": [],
   "source": []
  }
 ],
 "metadata": {
  "kernelspec": {
   "display_name": "Python 3 (ipykernel)",
   "language": "python",
   "name": "python3"
  },
  "language_info": {
   "codemirror_mode": {
    "name": "ipython",
    "version": 3
   },
   "file_extension": ".py",
   "mimetype": "text/x-python",
   "name": "python",
   "nbconvert_exporter": "python",
   "pygments_lexer": "ipython3",
   "version": "3.8.10"
  }
 },
 "nbformat": 4,
 "nbformat_minor": 5
}
