{
 "cells": [
  {
   "cell_type": "markdown",
   "id": "b9adfe2d",
   "metadata": {},
   "source": [
    "# Cleaning CORPWATCH pre-processed file"
   ]
  },
  {
   "cell_type": "markdown",
   "id": "82c2b39f",
   "metadata": {},
   "source": [
    "This notebook reads the pre-processed CORPWATCH dataset from local data folder and performs the cleaning of country and company's names. The final result is saved locally and in the CORPWATCH S3 bucket."
   ]
  },
  {
   "cell_type": "code",
   "execution_count": 1,
   "id": "25b3d075",
   "metadata": {},
   "outputs": [],
   "source": [
    "import pandas as pd\n",
    "import os\n",
    "\n",
    "from financial_entity_cleaner.location import CountryCleaner\n",
    "from financial_entity_cleaner.company import CompanyNameCleaner\n",
    "from financial_entity_cleaner.id import BankingIdCleaner\n",
    "pd.set_option('display.max_columns',50)\n",
    "from dotenv import dotenv_values, load_dotenv"
   ]
  },
  {
   "cell_type": "code",
   "execution_count": 2,
   "id": "9ca4bb66",
   "metadata": {},
   "outputs": [],
   "source": [
    "env_var = dotenv_values('../../.env')"
   ]
  },
  {
   "cell_type": "code",
   "execution_count": 3,
   "id": "e9eaf0a3",
   "metadata": {},
   "outputs": [],
   "source": [
    "import boto3\n",
    "s3_resource = boto3.resource(\n",
    "    service_name=\"s3\",\n",
    "    endpoint_url=env_var['S3_ENDPOINT'],\n",
    "    aws_access_key_id=env_var['S3_ACCESS_KEY'],\n",
    "    aws_secret_access_key=env_var['S3_SECRET_KEY'],\n",
    ")\n",
    "bucket_name = env_var['S3_BUCKET']\n",
    "bucket = s3_resource.Bucket(bucket_name)"
   ]
  },
  {
   "cell_type": "markdown",
   "id": "7868f300",
   "metadata": {},
   "source": [
    "## 1. Read CORPWATCH pre-processed file"
   ]
  },
  {
   "cell_type": "code",
   "execution_count": 4,
   "id": "61e37780",
   "metadata": {},
   "outputs": [],
   "source": [
    "corpwatch = bucket.Object('CorpWatch/pre_processed/corpwatch_pre_processed.csv').get()['Body']\n",
    "corpwatch_df = pd.read_csv(corpwatch, encoding='utf-8', delimiter=',', low_memory=False)"
   ]
  },
  {
   "cell_type": "code",
   "execution_count": 5,
   "id": "b35e3fd4",
   "metadata": {},
   "outputs": [
    {
     "data": {
      "text/html": [
       "<div>\n",
       "<style scoped>\n",
       "    .dataframe tbody tr th:only-of-type {\n",
       "        vertical-align: middle;\n",
       "    }\n",
       "\n",
       "    .dataframe tbody tr th {\n",
       "        vertical-align: top;\n",
       "    }\n",
       "\n",
       "    .dataframe thead th {\n",
       "        text-align: right;\n",
       "    }\n",
       "</style>\n",
       "<table border=\"1\" class=\"dataframe\">\n",
       "  <thead>\n",
       "    <tr style=\"text-align: right;\">\n",
       "      <th></th>\n",
       "      <th>cw_id</th>\n",
       "      <th>cik</th>\n",
       "      <th>company_name</th>\n",
       "      <th>city</th>\n",
       "      <th>country_code</th>\n",
       "      <th>company_name_lei</th>\n",
       "      <th>lei</th>\n",
       "    </tr>\n",
       "  </thead>\n",
       "  <tbody>\n",
       "    <tr>\n",
       "      <th>0</th>\n",
       "      <td>781188.0</td>\n",
       "      <td>13.0</td>\n",
       "      <td>CORPORATE INCOME FUND SEVENTY NINTH SHORT TERM...</td>\n",
       "      <td>NEW YORK</td>\n",
       "      <td>US</td>\n",
       "      <td>NaN</td>\n",
       "      <td>NaN</td>\n",
       "    </tr>\n",
       "    <tr>\n",
       "      <th>1</th>\n",
       "      <td>1.0</td>\n",
       "      <td>20.0</td>\n",
       "      <td>K TRON INTERNATIONAL INC</td>\n",
       "      <td>PITMAN</td>\n",
       "      <td>US</td>\n",
       "      <td>NaN</td>\n",
       "      <td>NaN</td>\n",
       "    </tr>\n",
       "    <tr>\n",
       "      <th>2</th>\n",
       "      <td>1249859.0</td>\n",
       "      <td>63.0</td>\n",
       "      <td>FNW BANCORP INC</td>\n",
       "      <td>ELGIN</td>\n",
       "      <td>US</td>\n",
       "      <td>NaN</td>\n",
       "      <td>NaN</td>\n",
       "    </tr>\n",
       "    <tr>\n",
       "      <th>3</th>\n",
       "      <td>2.0</td>\n",
       "      <td>1750.0</td>\n",
       "      <td>AAR CORP</td>\n",
       "      <td>WOOD DALE</td>\n",
       "      <td>US</td>\n",
       "      <td>Aar Corp</td>\n",
       "      <td>MP76T5YQX3YK5VVAQ802</td>\n",
       "    </tr>\n",
       "    <tr>\n",
       "      <th>4</th>\n",
       "      <td>3.0</td>\n",
       "      <td>1800.0</td>\n",
       "      <td>ABBOTT LABORATORIES</td>\n",
       "      <td>ABBOTT PARK</td>\n",
       "      <td>US</td>\n",
       "      <td>Abbott Laboratories</td>\n",
       "      <td>549300ZYY7524VF6JP88</td>\n",
       "    </tr>\n",
       "  </tbody>\n",
       "</table>\n",
       "</div>"
      ],
      "text/plain": [
       "       cw_id     cik                                       company_name  \\\n",
       "0   781188.0    13.0  CORPORATE INCOME FUND SEVENTY NINTH SHORT TERM...   \n",
       "1        1.0    20.0                           K TRON INTERNATIONAL INC   \n",
       "2  1249859.0    63.0                                    FNW BANCORP INC   \n",
       "3        2.0  1750.0                                           AAR CORP   \n",
       "4        3.0  1800.0                                ABBOTT LABORATORIES   \n",
       "\n",
       "          city country_code     company_name_lei                   lei  \n",
       "0     NEW YORK           US                  NaN                   NaN  \n",
       "1       PITMAN           US                  NaN                   NaN  \n",
       "2        ELGIN           US                  NaN                   NaN  \n",
       "3    WOOD DALE           US             Aar Corp  MP76T5YQX3YK5VVAQ802  \n",
       "4  ABBOTT PARK           US  Abbott Laboratories  549300ZYY7524VF6JP88  "
      ]
     },
     "execution_count": 5,
     "metadata": {},
     "output_type": "execute_result"
    }
   ],
   "source": [
    "corpwatch_df.head()"
   ]
  },
  {
   "cell_type": "markdown",
   "id": "f61ff115",
   "metadata": {},
   "source": [
    "## 2. Cleaning County information"
   ]
  },
  {
   "cell_type": "code",
   "execution_count": 6,
   "id": "2e5448c6",
   "metadata": {},
   "outputs": [],
   "source": [
    "# Create an object based on CountryCleaner() class\n",
    "country_cleaner_obj=CountryCleaner()"
   ]
  },
  {
   "cell_type": "code",
   "execution_count": 7,
   "id": "1e4366c5",
   "metadata": {},
   "outputs": [],
   "source": [
    "country_cleaner_obj.letter_case='lower'\n",
    "country_cleaner_obj.output_info = [CountryCleaner.ATTRIBUTE_ALPHA2,\n",
    "                                   CountryCleaner.ATTRIBUTE_SHORT_NAME]"
   ]
  },
  {
   "cell_type": "code",
   "execution_count": 8,
   "id": "acc9f59d",
   "metadata": {},
   "outputs": [
    {
     "name": "stderr",
     "output_type": "stream",
     "text": [
      "Normalizing countries... 44%|█████████████████████▉                            | 315884/719598 [00:56<01:12, 5598.46it/s]\n"
     ]
    },
    {
     "ename": "KeyboardInterrupt",
     "evalue": "",
     "output_type": "error",
     "traceback": [
      "\u001b[0;31m---------------------------------------------------------------------------\u001b[0m",
      "\u001b[0;31mKeyboardInterrupt\u001b[0m                         Traceback (most recent call last)",
      "Cell \u001b[0;32mIn[8], line 1\u001b[0m\n\u001b[0;32m----> 1\u001b[0m corpwatch_df \u001b[39m=\u001b[39m country_cleaner_obj\u001b[39m.\u001b[39;49mclean_df(df\u001b[39m=\u001b[39;49mcorpwatch_df, cols\u001b[39m=\u001b[39;49m[\u001b[39m'\u001b[39;49m\u001b[39mcountry_code\u001b[39;49m\u001b[39m'\u001b[39;49m], output_names_as\u001b[39m=\u001b[39;49m \u001b[39m'\u001b[39;49m\u001b[39msuffix\u001b[39;49m\u001b[39m'\u001b[39;49m)\n",
      "File \u001b[0;32m~/Desktop/OS-C/env/lib/python3.10/site-packages/financial_entity_cleaner/location/country.py:648\u001b[0m, in \u001b[0;36mCountryCleaner.clean_df\u001b[0;34m(self, df, cols, remove_cols, output_names_as)\u001b[0m\n\u001b[1;32m    645\u001b[0m \u001b[39mfor\u001b[39;00m column_name \u001b[39min\u001b[39;00m cols:\n\u001b[1;32m    646\u001b[0m     \u001b[39m# Temporary variable to store the new column name\u001b[39;00m\n\u001b[1;32m    647\u001b[0m     new_col_name \u001b[39m=\u001b[39m \u001b[39m'\u001b[39m\u001b[39m'\u001b[39m\n\u001b[0;32m--> 648\u001b[0m     country_info \u001b[39m=\u001b[39m \u001b[39mself\u001b[39;49m\u001b[39m.\u001b[39;49m__get_clean_df(row[column_name])\n\u001b[1;32m    650\u001b[0m     \u001b[39mfor\u001b[39;00m key \u001b[39min\u001b[39;00m country_info\u001b[39m.\u001b[39mkeys():\n\u001b[1;32m    651\u001b[0m         \u001b[39m# Set the name for the new columns that will hold the cleaning results\u001b[39;00m\n\u001b[1;32m    652\u001b[0m         \u001b[39mif\u001b[39;00m output_names_as \u001b[39m==\u001b[39m \u001b[39m'\u001b[39m\u001b[39msuffix\u001b[39m\u001b[39m'\u001b[39m:\n",
      "File \u001b[0;32m~/Desktop/OS-C/env/lib/python3.10/site-packages/financial_entity_cleaner/location/country.py:575\u001b[0m, in \u001b[0;36mCountryCleaner.__get_clean_df\u001b[0;34m(self, country)\u001b[0m\n\u001b[1;32m    562\u001b[0m \u001b[39mdef\u001b[39;00m \u001b[39m__get_clean_df\u001b[39m(\u001b[39mself\u001b[39m, country: \u001b[39mstr\u001b[39m):\n\u001b[1;32m    563\u001b[0m \u001b[39m    \u001b[39m\u001b[39m\"\"\"\u001b[39;00m\n\u001b[1;32m    564\u001b[0m \u001b[39m    This is an internal method that supports get_clean_df() method as a mean to treat the case in which\u001b[39;00m\n\u001b[1;32m    565\u001b[0m \u001b[39m    get_clean_data() method returns None (country was not found). In this case, a dictionary of NaN objects is\u001b[39;00m\n\u001b[0;32m   (...)\u001b[0m\n\u001b[1;32m    573\u001b[0m \n\u001b[1;32m    574\u001b[0m \u001b[39m    \"\"\"\u001b[39;00m\n\u001b[0;32m--> 575\u001b[0m     dict_country_info \u001b[39m=\u001b[39m \u001b[39mself\u001b[39;49m\u001b[39m.\u001b[39;49mclean(country)\n\u001b[1;32m    577\u001b[0m     \u001b[39m# If the search failed, prepare an empty dictionary to feed the dataframe row\u001b[39;00m\n\u001b[1;32m    578\u001b[0m     \u001b[39mif\u001b[39;00m dict_country_info \u001b[39mis\u001b[39;00m \u001b[39mNone\u001b[39;00m:\n",
      "File \u001b[0;32m~/Desktop/OS-C/env/lib/python3.10/site-packages/financial_entity_cleaner/location/country.py:525\u001b[0m, in \u001b[0;36mCountryCleaner.clean\u001b[0;34m(self, country)\u001b[0m\n\u001b[1;32m    522\u001b[0m     value \u001b[39m=\u001b[39m \u001b[39mself\u001b[39m\u001b[39m.\u001b[39m__OTHER_COUNTRY_NAMES[value]\n\u001b[1;32m    524\u001b[0m \u001b[39m# Search for country information\u001b[39;00m\n\u001b[0;32m--> 525\u001b[0m info_country \u001b[39m=\u001b[39m _search_country\u001b[39m.\u001b[39;49msearch_country_info(value)\n\u001b[1;32m    527\u001b[0m \u001b[39m# Prepare the returning info\u001b[39;00m\n\u001b[1;32m    528\u001b[0m \u001b[39mif\u001b[39;00m pd\u001b[39m.\u001b[39misna(info_country[\u001b[39m'\u001b[39m\u001b[39mcountry_name\u001b[39m\u001b[39m'\u001b[39m]):\n",
      "File \u001b[0;32m~/Desktop/OS-C/env/lib/python3.10/site-packages/financial_entity_cleaner/location/_search_country.py:171\u001b[0m, in \u001b[0;36msearch_country_info\u001b[0;34m(value)\u001b[0m\n\u001b[1;32m    169\u001b[0m         country_name \u001b[39m=\u001b[39m country_info\n\u001b[1;32m    170\u001b[0m         alpha2_code \u001b[39m=\u001b[39m value\n\u001b[0;32m--> 171\u001b[0m         alpha3_code \u001b[39m=\u001b[39m get_alpha3_from_name(country_name)\n\u001b[1;32m    172\u001b[0m \u001b[39melif\u001b[39;00m \u001b[39mlen\u001b[39m(value) \u001b[39m==\u001b[39m \u001b[39m3\u001b[39m:\n\u001b[1;32m    173\u001b[0m     \u001b[39m# Search by alpha3 code\u001b[39;00m\n\u001b[1;32m    174\u001b[0m     country_info \u001b[39m=\u001b[39m get_name_from_alpha3(value)\n",
      "File \u001b[0;32m~/Desktop/OS-C/env/lib/python3.10/site-packages/financial_entity_cleaner/location/_search_country.py:62\u001b[0m, in \u001b[0;36mget_alpha3_from_name\u001b[0;34m(country, lookup_dict_from_web)\u001b[0m\n\u001b[1;32m     48\u001b[0m \u001b[39m\u001b[39m\u001b[39m\"\"\"\u001b[39;00m\n\u001b[1;32m     49\u001b[0m \u001b[39mGets the alpha3 code of a country given its name.\u001b[39;00m\n\u001b[1;32m     50\u001b[0m \n\u001b[0;32m   (...)\u001b[0m\n\u001b[1;32m     58\u001b[0m \u001b[39m    No exception is raised.\u001b[39;00m\n\u001b[1;32m     59\u001b[0m \u001b[39m\"\"\"\u001b[39;00m\n\u001b[1;32m     61\u001b[0m \u001b[39m# First, the function looks for an exact match\u001b[39;00m\n\u001b[0;32m---> 62\u001b[0m alpha_code \u001b[39m=\u001b[39m Country\u001b[39m.\u001b[39;49mget_iso3_country_code(country, use_live\u001b[39m=\u001b[39;49mlookup_dict_from_web)\n\u001b[1;32m     64\u001b[0m \u001b[39m# Returns the alpha3 code if the country was found\u001b[39;00m\n\u001b[1;32m     65\u001b[0m \u001b[39mif\u001b[39;00m alpha_code:\n",
      "File \u001b[0;32m~/Desktop/OS-C/env/lib/python3.10/site-packages/hdx/location/country.py:728\u001b[0m, in \u001b[0;36mCountry.get_iso3_country_code\u001b[0;34m(cls, country, use_live, exception)\u001b[0m\n\u001b[1;32m    711\u001b[0m \u001b[39m@classmethod\u001b[39m\n\u001b[1;32m    712\u001b[0m \u001b[39mdef\u001b[39;00m \u001b[39mget_iso3_country_code\u001b[39m(\n\u001b[1;32m    713\u001b[0m     \u001b[39mcls\u001b[39m,\n\u001b[0;32m   (...)\u001b[0m\n\u001b[1;32m    716\u001b[0m     exception: Optional[ExceptionUpperBound] \u001b[39m=\u001b[39m \u001b[39mNone\u001b[39;00m,\n\u001b[1;32m    717\u001b[0m ) \u001b[39m-\u001b[39m\u001b[39m>\u001b[39m Optional[\u001b[39mstr\u001b[39m]:\n\u001b[1;32m    718\u001b[0m \u001b[39m    \u001b[39m\u001b[39m\"\"\"Get ISO3 code for cls. Only exact matches or None are returned.\u001b[39;00m\n\u001b[1;32m    719\u001b[0m \n\u001b[1;32m    720\u001b[0m \u001b[39m    Args:\u001b[39;00m\n\u001b[0;32m   (...)\u001b[0m\n\u001b[1;32m    726\u001b[0m \u001b[39m        Optional[str]: ISO3 country code or None\u001b[39;00m\n\u001b[1;32m    727\u001b[0m \u001b[39m    \"\"\"\u001b[39;00m\n\u001b[0;32m--> 728\u001b[0m     countriesdata \u001b[39m=\u001b[39m \u001b[39mcls\u001b[39;49m\u001b[39m.\u001b[39;49mcountriesdata(use_live\u001b[39m=\u001b[39;49muse_live)\n\u001b[1;32m    729\u001b[0m     countryupper \u001b[39m=\u001b[39m country\u001b[39m.\u001b[39mstrip()\u001b[39m.\u001b[39mupper()\n\u001b[1;32m    730\u001b[0m     \u001b[39mif\u001b[39;00m countryupper\u001b[39m.\u001b[39misupper():\n",
      "\u001b[0;31mKeyboardInterrupt\u001b[0m: "
     ]
    }
   ],
   "source": [
    "corpwatch_df = country_cleaner_obj.clean_df(df=corpwatch_df, cols=['country_code'], output_names_as= 'suffix')"
   ]
  },
  {
   "cell_type": "code",
   "execution_count": 12,
   "id": "73b72875",
   "metadata": {},
   "outputs": [],
   "source": [
    "corpwatch_df.drop('country_code', axis=1, inplace=True)"
   ]
  },
  {
   "cell_type": "code",
   "execution_count": 13,
   "id": "494437ec",
   "metadata": {},
   "outputs": [
    {
     "data": {
      "text/html": [
       "<div>\n",
       "<style scoped>\n",
       "    .dataframe tbody tr th:only-of-type {\n",
       "        vertical-align: middle;\n",
       "    }\n",
       "\n",
       "    .dataframe tbody tr th {\n",
       "        vertical-align: top;\n",
       "    }\n",
       "\n",
       "    .dataframe thead th {\n",
       "        text-align: right;\n",
       "    }\n",
       "</style>\n",
       "<table border=\"1\" class=\"dataframe\">\n",
       "  <thead>\n",
       "    <tr style=\"text-align: right;\">\n",
       "      <th></th>\n",
       "      <th>cw_id</th>\n",
       "      <th>cik</th>\n",
       "      <th>company_name</th>\n",
       "      <th>city</th>\n",
       "      <th>company_name_lei</th>\n",
       "      <th>lei</th>\n",
       "      <th>country_code_short_name</th>\n",
       "      <th>country_code_alpha2</th>\n",
       "    </tr>\n",
       "  </thead>\n",
       "  <tbody>\n",
       "    <tr>\n",
       "      <th>0</th>\n",
       "      <td>781188.0</td>\n",
       "      <td>13.0</td>\n",
       "      <td>CORPORATE INCOME FUND SEVENTY NINTH SHORT TERM...</td>\n",
       "      <td>NEW YORK</td>\n",
       "      <td>NaN</td>\n",
       "      <td>NaN</td>\n",
       "      <td>united states</td>\n",
       "      <td>us</td>\n",
       "    </tr>\n",
       "    <tr>\n",
       "      <th>1</th>\n",
       "      <td>1.0</td>\n",
       "      <td>20.0</td>\n",
       "      <td>K TRON INTERNATIONAL INC</td>\n",
       "      <td>PITMAN</td>\n",
       "      <td>NaN</td>\n",
       "      <td>NaN</td>\n",
       "      <td>united states</td>\n",
       "      <td>us</td>\n",
       "    </tr>\n",
       "    <tr>\n",
       "      <th>2</th>\n",
       "      <td>1249859.0</td>\n",
       "      <td>63.0</td>\n",
       "      <td>FNW BANCORP INC</td>\n",
       "      <td>ELGIN</td>\n",
       "      <td>NaN</td>\n",
       "      <td>NaN</td>\n",
       "      <td>united states</td>\n",
       "      <td>us</td>\n",
       "    </tr>\n",
       "    <tr>\n",
       "      <th>3</th>\n",
       "      <td>2.0</td>\n",
       "      <td>1750.0</td>\n",
       "      <td>AAR CORP</td>\n",
       "      <td>WOOD DALE</td>\n",
       "      <td>Aar Corp</td>\n",
       "      <td>MP76T5YQX3YK5VVAQ802</td>\n",
       "      <td>united states</td>\n",
       "      <td>us</td>\n",
       "    </tr>\n",
       "    <tr>\n",
       "      <th>4</th>\n",
       "      <td>3.0</td>\n",
       "      <td>1800.0</td>\n",
       "      <td>ABBOTT LABORATORIES</td>\n",
       "      <td>ABBOTT PARK</td>\n",
       "      <td>Abbott Laboratories</td>\n",
       "      <td>549300ZYY7524VF6JP88</td>\n",
       "      <td>united states</td>\n",
       "      <td>us</td>\n",
       "    </tr>\n",
       "  </tbody>\n",
       "</table>\n",
       "</div>"
      ],
      "text/plain": [
       "       cw_id     cik                                       company_name  \\\n",
       "0   781188.0    13.0  CORPORATE INCOME FUND SEVENTY NINTH SHORT TERM...   \n",
       "1        1.0    20.0                           K TRON INTERNATIONAL INC   \n",
       "2  1249859.0    63.0                                    FNW BANCORP INC   \n",
       "3        2.0  1750.0                                           AAR CORP   \n",
       "4        3.0  1800.0                                ABBOTT LABORATORIES   \n",
       "\n",
       "          city     company_name_lei                   lei  \\\n",
       "0     NEW YORK                  NaN                   NaN   \n",
       "1       PITMAN                  NaN                   NaN   \n",
       "2        ELGIN                  NaN                   NaN   \n",
       "3    WOOD DALE             Aar Corp  MP76T5YQX3YK5VVAQ802   \n",
       "4  ABBOTT PARK  Abbott Laboratories  549300ZYY7524VF6JP88   \n",
       "\n",
       "  country_code_short_name country_code_alpha2  \n",
       "0           united states                  us  \n",
       "1           united states                  us  \n",
       "2           united states                  us  \n",
       "3           united states                  us  \n",
       "4           united states                  us  "
      ]
     },
     "execution_count": 13,
     "metadata": {},
     "output_type": "execute_result"
    }
   ],
   "source": [
    "corpwatch_df.head()"
   ]
  },
  {
   "cell_type": "markdown",
   "id": "c14078ed",
   "metadata": {},
   "source": [
    "## 3. Cleaning LEI"
   ]
  },
  {
   "cell_type": "code",
   "execution_count": 15,
   "id": "c7603747",
   "metadata": {},
   "outputs": [],
   "source": [
    "# Create an object based on the BankingIdCleaner() class\n",
    "id_cleaner_obj = BankingIdCleaner()"
   ]
  },
  {
   "cell_type": "code",
   "execution_count": 17,
   "id": "e6f0ac15",
   "metadata": {},
   "outputs": [],
   "source": [
    "# Setup cleaning properties\n",
    "id_cleaner_obj.invalid_ids_as_nan = True\n",
    "id_cleaner_obj.validation_as_categorical = True\n",
    "id_cleaner_obj.output_lettercase = \"BankingIdCleaner.UPPER_LETTER_CASE\""
   ]
  },
  {
   "cell_type": "code",
   "execution_count": 18,
   "id": "53a6cc0e",
   "metadata": {},
   "outputs": [
    {
     "name": "stderr",
     "output_type": "stream",
     "text": [
      "Column [lei] Type [lei] : 100%|██████████████████████████████████████████████████| 719598/719598 [38:54<00:00, 308.19it/s]\n"
     ]
    }
   ],
   "source": [
    "corpwatch_df = id_cleaner_obj.clean_df(corpwatch_df, cols=['lei'], \n",
    "                                     remove_cols= True, \n",
    "                                     output_names_as= 'suffix',\n",
    "                                     types = ['lei'])"
   ]
  },
  {
   "cell_type": "code",
   "execution_count": 21,
   "id": "9e84469d",
   "metadata": {},
   "outputs": [],
   "source": [
    "corpwatch_df.drop('lei_isvalid_id', axis=1, inplace=True)"
   ]
  },
  {
   "cell_type": "code",
   "execution_count": 22,
   "id": "0ddf1791",
   "metadata": {},
   "outputs": [
    {
     "data": {
      "text/html": [
       "<div>\n",
       "<style scoped>\n",
       "    .dataframe tbody tr th:only-of-type {\n",
       "        vertical-align: middle;\n",
       "    }\n",
       "\n",
       "    .dataframe tbody tr th {\n",
       "        vertical-align: top;\n",
       "    }\n",
       "\n",
       "    .dataframe thead th {\n",
       "        text-align: right;\n",
       "    }\n",
       "</style>\n",
       "<table border=\"1\" class=\"dataframe\">\n",
       "  <thead>\n",
       "    <tr style=\"text-align: right;\">\n",
       "      <th></th>\n",
       "      <th>cw_id</th>\n",
       "      <th>cik</th>\n",
       "      <th>company_name</th>\n",
       "      <th>city</th>\n",
       "      <th>company_name_lei</th>\n",
       "      <th>country_code_short_name</th>\n",
       "      <th>country_code_alpha2</th>\n",
       "      <th>lei_cleaned_id</th>\n",
       "    </tr>\n",
       "  </thead>\n",
       "  <tbody>\n",
       "    <tr>\n",
       "      <th>0</th>\n",
       "      <td>781188.0</td>\n",
       "      <td>13.0</td>\n",
       "      <td>CORPORATE INCOME FUND SEVENTY NINTH SHORT TERM...</td>\n",
       "      <td>NEW YORK</td>\n",
       "      <td>NaN</td>\n",
       "      <td>united states</td>\n",
       "      <td>us</td>\n",
       "      <td>NaN</td>\n",
       "    </tr>\n",
       "    <tr>\n",
       "      <th>1</th>\n",
       "      <td>1.0</td>\n",
       "      <td>20.0</td>\n",
       "      <td>K TRON INTERNATIONAL INC</td>\n",
       "      <td>PITMAN</td>\n",
       "      <td>NaN</td>\n",
       "      <td>united states</td>\n",
       "      <td>us</td>\n",
       "      <td>NaN</td>\n",
       "    </tr>\n",
       "    <tr>\n",
       "      <th>2</th>\n",
       "      <td>1249859.0</td>\n",
       "      <td>63.0</td>\n",
       "      <td>FNW BANCORP INC</td>\n",
       "      <td>ELGIN</td>\n",
       "      <td>NaN</td>\n",
       "      <td>united states</td>\n",
       "      <td>us</td>\n",
       "      <td>NaN</td>\n",
       "    </tr>\n",
       "    <tr>\n",
       "      <th>3</th>\n",
       "      <td>2.0</td>\n",
       "      <td>1750.0</td>\n",
       "      <td>AAR CORP</td>\n",
       "      <td>WOOD DALE</td>\n",
       "      <td>Aar Corp</td>\n",
       "      <td>united states</td>\n",
       "      <td>us</td>\n",
       "      <td>MP76T5YQX3YK5VVAQ802</td>\n",
       "    </tr>\n",
       "    <tr>\n",
       "      <th>4</th>\n",
       "      <td>3.0</td>\n",
       "      <td>1800.0</td>\n",
       "      <td>ABBOTT LABORATORIES</td>\n",
       "      <td>ABBOTT PARK</td>\n",
       "      <td>Abbott Laboratories</td>\n",
       "      <td>united states</td>\n",
       "      <td>us</td>\n",
       "      <td>549300ZYY7524VF6JP88</td>\n",
       "    </tr>\n",
       "  </tbody>\n",
       "</table>\n",
       "</div>"
      ],
      "text/plain": [
       "       cw_id     cik                                       company_name  \\\n",
       "0   781188.0    13.0  CORPORATE INCOME FUND SEVENTY NINTH SHORT TERM...   \n",
       "1        1.0    20.0                           K TRON INTERNATIONAL INC   \n",
       "2  1249859.0    63.0                                    FNW BANCORP INC   \n",
       "3        2.0  1750.0                                           AAR CORP   \n",
       "4        3.0  1800.0                                ABBOTT LABORATORIES   \n",
       "\n",
       "          city     company_name_lei country_code_short_name  \\\n",
       "0     NEW YORK                  NaN           united states   \n",
       "1       PITMAN                  NaN           united states   \n",
       "2        ELGIN                  NaN           united states   \n",
       "3    WOOD DALE             Aar Corp           united states   \n",
       "4  ABBOTT PARK  Abbott Laboratories           united states   \n",
       "\n",
       "  country_code_alpha2        lei_cleaned_id  \n",
       "0                  us                   NaN  \n",
       "1                  us                   NaN  \n",
       "2                  us                   NaN  \n",
       "3                  us  MP76T5YQX3YK5VVAQ802  \n",
       "4                  us  549300ZYY7524VF6JP88  "
      ]
     },
     "execution_count": 22,
     "metadata": {},
     "output_type": "execute_result"
    }
   ],
   "source": [
    "corpwatch_df.head()"
   ]
  },
  {
   "cell_type": "markdown",
   "id": "3a803532",
   "metadata": {},
   "source": [
    "## 4. Cleaning Company's names"
   ]
  },
  {
   "cell_type": "code",
   "execution_count": 23,
   "id": "2d600639",
   "metadata": {},
   "outputs": [],
   "source": [
    "# Create a CompanyNameCleaner object\n",
    "company_cleaner_obj = CompanyNameCleaner()"
   ]
  },
  {
   "cell_type": "code",
   "execution_count": 24,
   "id": "99adc98c",
   "metadata": {},
   "outputs": [],
   "source": [
    "# Set cleaner properties\n",
    "company_cleaner_obj.normalize_legal_terms = True\n",
    "company_cleaner_obj.letter_case=\"lower\"\n",
    "company_cleaner_obj.remove_accents = True\n",
    "company_cleaner_obj.default_cleaning_rules = ['place_word_the_at_the_beginning',\n",
    "                                                'remove_words_in_asterisk', \n",
    "                                                'remove_words_in_parentheses',\n",
    "                                                'remove_question_marks_in_parentheses', \n",
    "                                                'replace_hyphen_by_space', \n",
    "                                                'replace_underscore_by_space', \n",
    "                                                'remove_text_puctuation_except_dot', \n",
    "                                                'remove_math_symbols', \n",
    "                                                'remove_parentheses', \n",
    "                                                'remove_brackets', \n",
    "                                                'remove_curly_brackets', \n",
    "                                                'remove_single_quote_next_character', \n",
    "                                                'remove_double_quote', \n",
    "                                                'enforce_single_space_between_words']\n",
    "company_cleaner_obj.post_cleaning_rules = ['remove_all_punctuation']"
   ]
  },
  {
   "cell_type": "code",
   "execution_count": 25,
   "id": "6aae82f9",
   "metadata": {},
   "outputs": [],
   "source": [
    "corpwatch_df = company_cleaner_obj.clean_df(corpwatch_df, 'company_name', 'company_name_clean', 'country_code_alpha2', 'True')"
   ]
  },
  {
   "cell_type": "code",
   "execution_count": 26,
   "id": "c8d8a796",
   "metadata": {},
   "outputs": [],
   "source": [
    "corpwatch_df = company_cleaner_obj.clean_df(corpwatch_df, 'company_name_lei', 'company_name_lei_clean', 'country_code_alpha2', 'True')"
   ]
  },
  {
   "cell_type": "code",
   "execution_count": 42,
   "id": "7d89790f",
   "metadata": {},
   "outputs": [],
   "source": [
    "corpwatch_df.reset_index(inplace=True)\n",
    "corpwatch_df = corpwatch_df.rename(columns = {'index':'company_id'})"
   ]
  },
  {
   "cell_type": "code",
   "execution_count": 45,
   "id": "698f6ecc",
   "metadata": {},
   "outputs": [
    {
     "data": {
      "text/html": [
       "<div>\n",
       "<style scoped>\n",
       "    .dataframe tbody tr th:only-of-type {\n",
       "        vertical-align: middle;\n",
       "    }\n",
       "\n",
       "    .dataframe tbody tr th {\n",
       "        vertical-align: top;\n",
       "    }\n",
       "\n",
       "    .dataframe thead th {\n",
       "        text-align: right;\n",
       "    }\n",
       "</style>\n",
       "<table border=\"1\" class=\"dataframe\">\n",
       "  <thead>\n",
       "    <tr style=\"text-align: right;\">\n",
       "      <th></th>\n",
       "      <th>company_id</th>\n",
       "      <th>cw_id</th>\n",
       "      <th>cik</th>\n",
       "      <th>company_name</th>\n",
       "      <th>city</th>\n",
       "      <th>company_name_lei</th>\n",
       "      <th>country_code_short_name</th>\n",
       "      <th>country_code_alpha2</th>\n",
       "      <th>lei_cleaned_id</th>\n",
       "      <th>company_name_clean</th>\n",
       "      <th>company_name_lei_clean</th>\n",
       "    </tr>\n",
       "  </thead>\n",
       "  <tbody>\n",
       "    <tr>\n",
       "      <th>0</th>\n",
       "      <td>0</td>\n",
       "      <td>781188.0</td>\n",
       "      <td>13.0</td>\n",
       "      <td>CORPORATE INCOME FUND SEVENTY NINTH SHORT TERM...</td>\n",
       "      <td>NEW YORK</td>\n",
       "      <td>NaN</td>\n",
       "      <td>united states</td>\n",
       "      <td>us</td>\n",
       "      <td>NaN</td>\n",
       "      <td>corporate income fund seventy ninth short term...</td>\n",
       "      <td>NaN</td>\n",
       "    </tr>\n",
       "    <tr>\n",
       "      <th>1</th>\n",
       "      <td>1</td>\n",
       "      <td>1.0</td>\n",
       "      <td>20.0</td>\n",
       "      <td>K TRON INTERNATIONAL INC</td>\n",
       "      <td>PITMAN</td>\n",
       "      <td>NaN</td>\n",
       "      <td>united states</td>\n",
       "      <td>us</td>\n",
       "      <td>NaN</td>\n",
       "      <td>k tron international incorporated</td>\n",
       "      <td>NaN</td>\n",
       "    </tr>\n",
       "    <tr>\n",
       "      <th>2</th>\n",
       "      <td>2</td>\n",
       "      <td>1249859.0</td>\n",
       "      <td>63.0</td>\n",
       "      <td>FNW BANCORP INC</td>\n",
       "      <td>ELGIN</td>\n",
       "      <td>NaN</td>\n",
       "      <td>united states</td>\n",
       "      <td>us</td>\n",
       "      <td>NaN</td>\n",
       "      <td>fnw bancorp incorporated</td>\n",
       "      <td>NaN</td>\n",
       "    </tr>\n",
       "    <tr>\n",
       "      <th>3</th>\n",
       "      <td>3</td>\n",
       "      <td>2.0</td>\n",
       "      <td>1750.0</td>\n",
       "      <td>AAR CORP</td>\n",
       "      <td>WOOD DALE</td>\n",
       "      <td>Aar Corp</td>\n",
       "      <td>united states</td>\n",
       "      <td>us</td>\n",
       "      <td>MP76T5YQX3YK5VVAQ802</td>\n",
       "      <td>aar corporation</td>\n",
       "      <td>aar corporation</td>\n",
       "    </tr>\n",
       "    <tr>\n",
       "      <th>4</th>\n",
       "      <td>4</td>\n",
       "      <td>3.0</td>\n",
       "      <td>1800.0</td>\n",
       "      <td>ABBOTT LABORATORIES</td>\n",
       "      <td>ABBOTT PARK</td>\n",
       "      <td>Abbott Laboratories</td>\n",
       "      <td>united states</td>\n",
       "      <td>us</td>\n",
       "      <td>549300ZYY7524VF6JP88</td>\n",
       "      <td>abbott laboratories</td>\n",
       "      <td>abbott laboratories</td>\n",
       "    </tr>\n",
       "  </tbody>\n",
       "</table>\n",
       "</div>"
      ],
      "text/plain": [
       "   company_id      cw_id     cik  \\\n",
       "0           0   781188.0    13.0   \n",
       "1           1        1.0    20.0   \n",
       "2           2  1249859.0    63.0   \n",
       "3           3        2.0  1750.0   \n",
       "4           4        3.0  1800.0   \n",
       "\n",
       "                                        company_name         city  \\\n",
       "0  CORPORATE INCOME FUND SEVENTY NINTH SHORT TERM...     NEW YORK   \n",
       "1                           K TRON INTERNATIONAL INC       PITMAN   \n",
       "2                                    FNW BANCORP INC        ELGIN   \n",
       "3                                           AAR CORP    WOOD DALE   \n",
       "4                                ABBOTT LABORATORIES  ABBOTT PARK   \n",
       "\n",
       "      company_name_lei country_code_short_name country_code_alpha2  \\\n",
       "0                  NaN           united states                  us   \n",
       "1                  NaN           united states                  us   \n",
       "2                  NaN           united states                  us   \n",
       "3             Aar Corp           united states                  us   \n",
       "4  Abbott Laboratories           united states                  us   \n",
       "\n",
       "         lei_cleaned_id                                 company_name_clean  \\\n",
       "0                   NaN  corporate income fund seventy ninth short term...   \n",
       "1                   NaN                  k tron international incorporated   \n",
       "2                   NaN                           fnw bancorp incorporated   \n",
       "3  MP76T5YQX3YK5VVAQ802                                    aar corporation   \n",
       "4  549300ZYY7524VF6JP88                                abbott laboratories   \n",
       "\n",
       "  company_name_lei_clean  \n",
       "0                    NaN  \n",
       "1                    NaN  \n",
       "2                    NaN  \n",
       "3        aar corporation  \n",
       "4    abbott laboratories  "
      ]
     },
     "execution_count": 45,
     "metadata": {},
     "output_type": "execute_result"
    }
   ],
   "source": [
    "corpwatch_df.head()"
   ]
  },
  {
   "cell_type": "code",
   "execution_count": 46,
   "id": "b097480d",
   "metadata": {},
   "outputs": [
    {
     "name": "stdout",
     "output_type": "stream",
     "text": [
      "Total companies in CORPWATCH 719598\n"
     ]
    }
   ],
   "source": [
    "print('Total companies in CORPWATCH {}'.format(corpwatch_df.shape[0]))"
   ]
  },
  {
   "cell_type": "markdown",
   "id": "38eff9b6",
   "metadata": {},
   "source": [
    "## 4. Save cleaned CORPWATCH"
   ]
  },
  {
   "cell_type": "code",
   "execution_count": 47,
   "id": "ee8def7a",
   "metadata": {},
   "outputs": [],
   "source": [
    "# Save locally to \"dataset\" folder\n",
    "saved_path = \"../../../dataset/cleaned\"\n",
    "filename = \"corpwatch_cleaned.csv\"\n",
    "corpwatch_filename = os.path.join(saved_path, filename)\n",
    "corpwatch_df.to_csv(corpwatch_filename, header=True, index=False)"
   ]
  },
  {
   "cell_type": "code",
   "execution_count": null,
   "id": "d5f3175b",
   "metadata": {},
   "outputs": [],
   "source": [
    "# Save final results to S3\n",
    "s3_filename = 'CorpWatch/cleaned/corpwatch_cleaned.csv'\n",
    "s3_resource.meta.client.upload_file(Filename=corpwatch_filename, Bucket=bucket_name, Key=s3_filename)"
   ]
  },
  {
   "cell_type": "code",
   "execution_count": null,
   "id": "2b2a32cf",
   "metadata": {},
   "outputs": [],
   "source": []
  }
 ],
 "metadata": {
  "kernelspec": {
   "display_name": "Python 3 (ipykernel)",
   "language": "python",
   "name": "python3"
  },
  "language_info": {
   "codemirror_mode": {
    "name": "ipython",
    "version": 3
   },
   "file_extension": ".py",
   "mimetype": "text/x-python",
   "name": "python",
   "nbconvert_exporter": "python",
   "pygments_lexer": "ipython3",
   "version": "3.10.6"
  }
 },
 "nbformat": 4,
 "nbformat_minor": 5
}
