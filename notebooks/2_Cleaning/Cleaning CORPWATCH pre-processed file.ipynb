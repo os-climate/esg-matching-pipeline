{
 "cells": [
  {
   "cell_type": "markdown",
   "id": "b9adfe2d",
   "metadata": {},
   "source": [
    "# Cleaning CORPWATCH pre-processed file"
   ]
  },
  {
   "cell_type": "markdown",
   "id": "82c2b39f",
   "metadata": {},
   "source": [
    "This notebook reads the pre-processed CORPWATCH dataset from local data folder and performs the cleaning of country and company's names. The final result is saved locally and in the CORPWATCH S3 bucket."
   ]
  },
  {
   "cell_type": "code",
   "execution_count": 1,
   "id": "25b3d075",
   "metadata": {},
   "outputs": [],
   "source": [
    "import pandas as pd\n",
    "import os"
   ]
  },
  {
   "cell_type": "code",
   "execution_count": 2,
   "id": "e9eaf0a3",
   "metadata": {},
   "outputs": [],
   "source": [
    "# Import CountryCleaner\n",
    "from financial_entity_cleaner.location import CountryCleaner"
   ]
  },
  {
   "cell_type": "code",
   "execution_count": 3,
   "id": "295a1585",
   "metadata": {},
   "outputs": [],
   "source": [
    "# Import the module for cleaning company's name\n",
    "from financial_entity_cleaner.company import CompanyNameCleaner"
   ]
  },
  {
   "cell_type": "code",
   "execution_count": 14,
   "id": "1f0e22f5",
   "metadata": {},
   "outputs": [],
   "source": [
    "# Import BankingIdCleaner\n",
    "from financial_entity_cleaner.id import BankingIdCleaner"
   ]
  },
  {
   "cell_type": "markdown",
   "id": "7868f300",
   "metadata": {},
   "source": [
    "## 1. Read CORPWATCH pre-processed file"
   ]
  },
  {
   "cell_type": "code",
   "execution_count": 4,
   "id": "61e37780",
   "metadata": {},
   "outputs": [],
   "source": [
    "# Save locally to \"data\" folder\n",
    "saved_path = \"..\\..\\data\\pre_processed\"\n",
    "filename = \"corpwatch_pre_processed.csv\""
   ]
  },
  {
   "cell_type": "code",
   "execution_count": 6,
   "id": "cfe58e41",
   "metadata": {},
   "outputs": [],
   "source": [
    "corpwatch_df = pd.read_csv(os.path.join(saved_path, filename), low_memory=False)"
   ]
  },
  {
   "cell_type": "code",
   "execution_count": 7,
   "id": "b35e3fd4",
   "metadata": {},
   "outputs": [
    {
     "data": {
      "text/html": [
       "<div>\n",
       "<style scoped>\n",
       "    .dataframe tbody tr th:only-of-type {\n",
       "        vertical-align: middle;\n",
       "    }\n",
       "\n",
       "    .dataframe tbody tr th {\n",
       "        vertical-align: top;\n",
       "    }\n",
       "\n",
       "    .dataframe thead th {\n",
       "        text-align: right;\n",
       "    }\n",
       "</style>\n",
       "<table border=\"1\" class=\"dataframe\">\n",
       "  <thead>\n",
       "    <tr style=\"text-align: right;\">\n",
       "      <th></th>\n",
       "      <th>cw_id</th>\n",
       "      <th>cik</th>\n",
       "      <th>company_name</th>\n",
       "      <th>city</th>\n",
       "      <th>country_code</th>\n",
       "      <th>company_name_lei</th>\n",
       "      <th>lei</th>\n",
       "    </tr>\n",
       "  </thead>\n",
       "  <tbody>\n",
       "    <tr>\n",
       "      <th>0</th>\n",
       "      <td>781188.0</td>\n",
       "      <td>13.0</td>\n",
       "      <td>CORPORATE INCOME FUND SEVENTY NINTH SHORT TERM...</td>\n",
       "      <td>NEW YORK</td>\n",
       "      <td>US</td>\n",
       "      <td>NaN</td>\n",
       "      <td>NaN</td>\n",
       "    </tr>\n",
       "    <tr>\n",
       "      <th>1</th>\n",
       "      <td>1.0</td>\n",
       "      <td>20.0</td>\n",
       "      <td>K TRON INTERNATIONAL INC</td>\n",
       "      <td>PITMAN</td>\n",
       "      <td>US</td>\n",
       "      <td>NaN</td>\n",
       "      <td>NaN</td>\n",
       "    </tr>\n",
       "    <tr>\n",
       "      <th>2</th>\n",
       "      <td>1249859.0</td>\n",
       "      <td>63.0</td>\n",
       "      <td>FNW BANCORP INC</td>\n",
       "      <td>ELGIN</td>\n",
       "      <td>US</td>\n",
       "      <td>NaN</td>\n",
       "      <td>NaN</td>\n",
       "    </tr>\n",
       "    <tr>\n",
       "      <th>3</th>\n",
       "      <td>2.0</td>\n",
       "      <td>1750.0</td>\n",
       "      <td>AAR CORP</td>\n",
       "      <td>WOOD DALE</td>\n",
       "      <td>US</td>\n",
       "      <td>Aar Corp</td>\n",
       "      <td>MP76T5YQX3YK5VVAQ802</td>\n",
       "    </tr>\n",
       "    <tr>\n",
       "      <th>4</th>\n",
       "      <td>3.0</td>\n",
       "      <td>1800.0</td>\n",
       "      <td>ABBOTT LABORATORIES</td>\n",
       "      <td>ABBOTT PARK</td>\n",
       "      <td>US</td>\n",
       "      <td>Abbott Laboratories</td>\n",
       "      <td>549300ZYY7524VF6JP88</td>\n",
       "    </tr>\n",
       "  </tbody>\n",
       "</table>\n",
       "</div>"
      ],
      "text/plain": [
       "       cw_id     cik                                       company_name  \\\n",
       "0   781188.0    13.0  CORPORATE INCOME FUND SEVENTY NINTH SHORT TERM...   \n",
       "1        1.0    20.0                           K TRON INTERNATIONAL INC   \n",
       "2  1249859.0    63.0                                    FNW BANCORP INC   \n",
       "3        2.0  1750.0                                           AAR CORP   \n",
       "4        3.0  1800.0                                ABBOTT LABORATORIES   \n",
       "\n",
       "          city country_code     company_name_lei                   lei  \n",
       "0     NEW YORK           US                  NaN                   NaN  \n",
       "1       PITMAN           US                  NaN                   NaN  \n",
       "2        ELGIN           US                  NaN                   NaN  \n",
       "3    WOOD DALE           US             Aar Corp  MP76T5YQX3YK5VVAQ802  \n",
       "4  ABBOTT PARK           US  Abbott Laboratories  549300ZYY7524VF6JP88  "
      ]
     },
     "execution_count": 7,
     "metadata": {},
     "output_type": "execute_result"
    }
   ],
   "source": [
    "corpwatch_df.head()"
   ]
  },
  {
   "cell_type": "markdown",
   "id": "f61ff115",
   "metadata": {},
   "source": [
    "## 2. Cleaning County information"
   ]
  },
  {
   "cell_type": "code",
   "execution_count": 8,
   "id": "2e5448c6",
   "metadata": {},
   "outputs": [],
   "source": [
    "# Create an object based on CountryCleaner() class\n",
    "country_cleaner_obj=CountryCleaner()"
   ]
  },
  {
   "cell_type": "code",
   "execution_count": 9,
   "id": "1e4366c5",
   "metadata": {},
   "outputs": [],
   "source": [
    "country_cleaner_obj.letter_case='lower'\n",
    "country_cleaner_obj.output_info = [CountryCleaner.ATTRIBUTE_ALPHA2,\n",
    "                                   CountryCleaner.ATTRIBUTE_SHORT_NAME]"
   ]
  },
  {
   "cell_type": "code",
   "execution_count": 10,
   "id": "acc9f59d",
   "metadata": {},
   "outputs": [
    {
     "name": "stderr",
     "output_type": "stream",
     "text": [
      "Cleaning column [country_code]: 100%|██████████████████████████████████████████████████| 719598/719598 [38:47<00:00, 309.23it/s]\n"
     ]
    }
   ],
   "source": [
    "corpwatch_df = country_cleaner_obj.clean_df(df=corpwatch_df, cols=['country_code'], output_names_as= 'suffix')"
   ]
  },
  {
   "cell_type": "code",
   "execution_count": 12,
   "id": "73b72875",
   "metadata": {},
   "outputs": [],
   "source": [
    "corpwatch_df.drop('country_code', axis=1, inplace=True)"
   ]
  },
  {
   "cell_type": "code",
   "execution_count": 13,
   "id": "494437ec",
   "metadata": {},
   "outputs": [
    {
     "data": {
      "text/html": [
       "<div>\n",
       "<style scoped>\n",
       "    .dataframe tbody tr th:only-of-type {\n",
       "        vertical-align: middle;\n",
       "    }\n",
       "\n",
       "    .dataframe tbody tr th {\n",
       "        vertical-align: top;\n",
       "    }\n",
       "\n",
       "    .dataframe thead th {\n",
       "        text-align: right;\n",
       "    }\n",
       "</style>\n",
       "<table border=\"1\" class=\"dataframe\">\n",
       "  <thead>\n",
       "    <tr style=\"text-align: right;\">\n",
       "      <th></th>\n",
       "      <th>cw_id</th>\n",
       "      <th>cik</th>\n",
       "      <th>company_name</th>\n",
       "      <th>city</th>\n",
       "      <th>company_name_lei</th>\n",
       "      <th>lei</th>\n",
       "      <th>country_code_short_name</th>\n",
       "      <th>country_code_alpha2</th>\n",
       "    </tr>\n",
       "  </thead>\n",
       "  <tbody>\n",
       "    <tr>\n",
       "      <th>0</th>\n",
       "      <td>781188.0</td>\n",
       "      <td>13.0</td>\n",
       "      <td>CORPORATE INCOME FUND SEVENTY NINTH SHORT TERM...</td>\n",
       "      <td>NEW YORK</td>\n",
       "      <td>NaN</td>\n",
       "      <td>NaN</td>\n",
       "      <td>united states</td>\n",
       "      <td>us</td>\n",
       "    </tr>\n",
       "    <tr>\n",
       "      <th>1</th>\n",
       "      <td>1.0</td>\n",
       "      <td>20.0</td>\n",
       "      <td>K TRON INTERNATIONAL INC</td>\n",
       "      <td>PITMAN</td>\n",
       "      <td>NaN</td>\n",
       "      <td>NaN</td>\n",
       "      <td>united states</td>\n",
       "      <td>us</td>\n",
       "    </tr>\n",
       "    <tr>\n",
       "      <th>2</th>\n",
       "      <td>1249859.0</td>\n",
       "      <td>63.0</td>\n",
       "      <td>FNW BANCORP INC</td>\n",
       "      <td>ELGIN</td>\n",
       "      <td>NaN</td>\n",
       "      <td>NaN</td>\n",
       "      <td>united states</td>\n",
       "      <td>us</td>\n",
       "    </tr>\n",
       "    <tr>\n",
       "      <th>3</th>\n",
       "      <td>2.0</td>\n",
       "      <td>1750.0</td>\n",
       "      <td>AAR CORP</td>\n",
       "      <td>WOOD DALE</td>\n",
       "      <td>Aar Corp</td>\n",
       "      <td>MP76T5YQX3YK5VVAQ802</td>\n",
       "      <td>united states</td>\n",
       "      <td>us</td>\n",
       "    </tr>\n",
       "    <tr>\n",
       "      <th>4</th>\n",
       "      <td>3.0</td>\n",
       "      <td>1800.0</td>\n",
       "      <td>ABBOTT LABORATORIES</td>\n",
       "      <td>ABBOTT PARK</td>\n",
       "      <td>Abbott Laboratories</td>\n",
       "      <td>549300ZYY7524VF6JP88</td>\n",
       "      <td>united states</td>\n",
       "      <td>us</td>\n",
       "    </tr>\n",
       "  </tbody>\n",
       "</table>\n",
       "</div>"
      ],
      "text/plain": [
       "       cw_id     cik                                       company_name  \\\n",
       "0   781188.0    13.0  CORPORATE INCOME FUND SEVENTY NINTH SHORT TERM...   \n",
       "1        1.0    20.0                           K TRON INTERNATIONAL INC   \n",
       "2  1249859.0    63.0                                    FNW BANCORP INC   \n",
       "3        2.0  1750.0                                           AAR CORP   \n",
       "4        3.0  1800.0                                ABBOTT LABORATORIES   \n",
       "\n",
       "          city     company_name_lei                   lei  \\\n",
       "0     NEW YORK                  NaN                   NaN   \n",
       "1       PITMAN                  NaN                   NaN   \n",
       "2        ELGIN                  NaN                   NaN   \n",
       "3    WOOD DALE             Aar Corp  MP76T5YQX3YK5VVAQ802   \n",
       "4  ABBOTT PARK  Abbott Laboratories  549300ZYY7524VF6JP88   \n",
       "\n",
       "  country_code_short_name country_code_alpha2  \n",
       "0           united states                  us  \n",
       "1           united states                  us  \n",
       "2           united states                  us  \n",
       "3           united states                  us  \n",
       "4           united states                  us  "
      ]
     },
     "execution_count": 13,
     "metadata": {},
     "output_type": "execute_result"
    }
   ],
   "source": [
    "corpwatch_df.head()"
   ]
  },
  {
   "cell_type": "markdown",
   "id": "c14078ed",
   "metadata": {},
   "source": [
    "## 3. Cleaning LEI"
   ]
  },
  {
   "cell_type": "code",
   "execution_count": 15,
   "id": "c7603747",
   "metadata": {},
   "outputs": [],
   "source": [
    "# Create an object based on the BankingIdCleaner() class\n",
    "id_cleaner_obj = BankingIdCleaner()"
   ]
  },
  {
   "cell_type": "code",
   "execution_count": 17,
   "id": "e6f0ac15",
   "metadata": {},
   "outputs": [],
   "source": [
    "# Setup cleaning properties\n",
    "id_cleaner_obj.invalid_ids_as_nan = True\n",
    "id_cleaner_obj.validation_as_categorical = True\n",
    "id_cleaner_obj.output_lettercase = \"BankingIdCleaner.UPPER_LETTER_CASE\""
   ]
  },
  {
   "cell_type": "code",
   "execution_count": 18,
   "id": "53a6cc0e",
   "metadata": {},
   "outputs": [
    {
     "name": "stderr",
     "output_type": "stream",
     "text": [
      "Column [lei] Type [lei] : 100%|██████████████████████████████████████████████████| 719598/719598 [38:54<00:00, 308.19it/s]\n"
     ]
    }
   ],
   "source": [
    "corpwatch_df = id_cleaner_obj.clean_df(corpwatch_df, cols=['lei'], \n",
    "                                     remove_cols= True, \n",
    "                                     output_names_as= 'suffix',\n",
    "                                     types = ['lei'])"
   ]
  },
  {
   "cell_type": "code",
   "execution_count": 21,
   "id": "9e84469d",
   "metadata": {},
   "outputs": [],
   "source": [
    "corpwatch_df.drop('lei_isvalid_id', axis=1, inplace=True)"
   ]
  },
  {
   "cell_type": "code",
   "execution_count": 22,
   "id": "0ddf1791",
   "metadata": {},
   "outputs": [
    {
     "data": {
      "text/html": [
       "<div>\n",
       "<style scoped>\n",
       "    .dataframe tbody tr th:only-of-type {\n",
       "        vertical-align: middle;\n",
       "    }\n",
       "\n",
       "    .dataframe tbody tr th {\n",
       "        vertical-align: top;\n",
       "    }\n",
       "\n",
       "    .dataframe thead th {\n",
       "        text-align: right;\n",
       "    }\n",
       "</style>\n",
       "<table border=\"1\" class=\"dataframe\">\n",
       "  <thead>\n",
       "    <tr style=\"text-align: right;\">\n",
       "      <th></th>\n",
       "      <th>cw_id</th>\n",
       "      <th>cik</th>\n",
       "      <th>company_name</th>\n",
       "      <th>city</th>\n",
       "      <th>company_name_lei</th>\n",
       "      <th>country_code_short_name</th>\n",
       "      <th>country_code_alpha2</th>\n",
       "      <th>lei_cleaned_id</th>\n",
       "    </tr>\n",
       "  </thead>\n",
       "  <tbody>\n",
       "    <tr>\n",
       "      <th>0</th>\n",
       "      <td>781188.0</td>\n",
       "      <td>13.0</td>\n",
       "      <td>CORPORATE INCOME FUND SEVENTY NINTH SHORT TERM...</td>\n",
       "      <td>NEW YORK</td>\n",
       "      <td>NaN</td>\n",
       "      <td>united states</td>\n",
       "      <td>us</td>\n",
       "      <td>NaN</td>\n",
       "    </tr>\n",
       "    <tr>\n",
       "      <th>1</th>\n",
       "      <td>1.0</td>\n",
       "      <td>20.0</td>\n",
       "      <td>K TRON INTERNATIONAL INC</td>\n",
       "      <td>PITMAN</td>\n",
       "      <td>NaN</td>\n",
       "      <td>united states</td>\n",
       "      <td>us</td>\n",
       "      <td>NaN</td>\n",
       "    </tr>\n",
       "    <tr>\n",
       "      <th>2</th>\n",
       "      <td>1249859.0</td>\n",
       "      <td>63.0</td>\n",
       "      <td>FNW BANCORP INC</td>\n",
       "      <td>ELGIN</td>\n",
       "      <td>NaN</td>\n",
       "      <td>united states</td>\n",
       "      <td>us</td>\n",
       "      <td>NaN</td>\n",
       "    </tr>\n",
       "    <tr>\n",
       "      <th>3</th>\n",
       "      <td>2.0</td>\n",
       "      <td>1750.0</td>\n",
       "      <td>AAR CORP</td>\n",
       "      <td>WOOD DALE</td>\n",
       "      <td>Aar Corp</td>\n",
       "      <td>united states</td>\n",
       "      <td>us</td>\n",
       "      <td>MP76T5YQX3YK5VVAQ802</td>\n",
       "    </tr>\n",
       "    <tr>\n",
       "      <th>4</th>\n",
       "      <td>3.0</td>\n",
       "      <td>1800.0</td>\n",
       "      <td>ABBOTT LABORATORIES</td>\n",
       "      <td>ABBOTT PARK</td>\n",
       "      <td>Abbott Laboratories</td>\n",
       "      <td>united states</td>\n",
       "      <td>us</td>\n",
       "      <td>549300ZYY7524VF6JP88</td>\n",
       "    </tr>\n",
       "  </tbody>\n",
       "</table>\n",
       "</div>"
      ],
      "text/plain": [
       "       cw_id     cik                                       company_name  \\\n",
       "0   781188.0    13.0  CORPORATE INCOME FUND SEVENTY NINTH SHORT TERM...   \n",
       "1        1.0    20.0                           K TRON INTERNATIONAL INC   \n",
       "2  1249859.0    63.0                                    FNW BANCORP INC   \n",
       "3        2.0  1750.0                                           AAR CORP   \n",
       "4        3.0  1800.0                                ABBOTT LABORATORIES   \n",
       "\n",
       "          city     company_name_lei country_code_short_name  \\\n",
       "0     NEW YORK                  NaN           united states   \n",
       "1       PITMAN                  NaN           united states   \n",
       "2        ELGIN                  NaN           united states   \n",
       "3    WOOD DALE             Aar Corp           united states   \n",
       "4  ABBOTT PARK  Abbott Laboratories           united states   \n",
       "\n",
       "  country_code_alpha2        lei_cleaned_id  \n",
       "0                  us                   NaN  \n",
       "1                  us                   NaN  \n",
       "2                  us                   NaN  \n",
       "3                  us  MP76T5YQX3YK5VVAQ802  \n",
       "4                  us  549300ZYY7524VF6JP88  "
      ]
     },
     "execution_count": 22,
     "metadata": {},
     "output_type": "execute_result"
    }
   ],
   "source": [
    "corpwatch_df.head()"
   ]
  },
  {
   "cell_type": "markdown",
   "id": "3a803532",
   "metadata": {},
   "source": [
    "## 4. Cleaning Company's names"
   ]
  },
  {
   "cell_type": "code",
   "execution_count": 23,
   "id": "2d600639",
   "metadata": {},
   "outputs": [],
   "source": [
    "# Create a CompanyNameCleaner object\n",
    "company_cleaner_obj = CompanyNameCleaner()"
   ]
  },
  {
   "cell_type": "code",
   "execution_count": 24,
   "id": "99adc98c",
   "metadata": {},
   "outputs": [],
   "source": [
    "# Set cleaner properties\n",
    "company_cleaner_obj.normalize_legal_terms = True\n",
    "company_cleaner_obj.letter_case=\"lower\"\n",
    "company_cleaner_obj.remove_accents = True\n",
    "company_cleaner_obj.default_cleaning_rules = ['place_word_the_at_the_beginning',\n",
    "                                              'remove_words_in_asterisk', \n",
    "                                              'remove_words_in_parentheses',\n",
    "                                              'remove_question_marks_in_parentheses', \n",
    "                                              'replace_hyphen_by_space', \n",
    "                                              'replace_underscore_by_space', \n",
    "                                              'remove_text_puctuation_except_dot', \n",
    "                                              'remove_math_symbols', \n",
    "                                              'remove_parentheses', \n",
    "                                              'remove_brackets', \n",
    "                                              'remove_curly_brackets', \n",
    "                                              'remove_single_quote_next_character', \n",
    "                                              'remove_double_quote', \n",
    "                                              'enforce_single_space_between_words']"
   ]
  },
  {
   "cell_type": "code",
   "execution_count": 25,
   "id": "6aae82f9",
   "metadata": {},
   "outputs": [],
   "source": [
    "corpwatch_df = company_cleaner_obj.clean_df(corpwatch_df, 'company_name', 'company_name_clean', 'country_code_alpha2', 'True')"
   ]
  },
  {
   "cell_type": "code",
   "execution_count": 26,
   "id": "c8d8a796",
   "metadata": {},
   "outputs": [],
   "source": [
    "corpwatch_df = company_cleaner_obj.clean_df(corpwatch_df, 'company_name_lei', 'company_name_lei_clean', 'country_code_alpha2', 'True')"
   ]
  },
  {
   "cell_type": "code",
   "execution_count": 42,
   "id": "7d89790f",
   "metadata": {},
   "outputs": [],
   "source": [
    "corpwatch_df.reset_index(inplace=True)\n",
    "corpwatch_df = corpwatch_df.rename(columns = {'index':'company_id'})"
   ]
  },
  {
   "cell_type": "code",
   "execution_count": 45,
   "id": "698f6ecc",
   "metadata": {},
   "outputs": [
    {
     "data": {
      "text/html": [
       "<div>\n",
       "<style scoped>\n",
       "    .dataframe tbody tr th:only-of-type {\n",
       "        vertical-align: middle;\n",
       "    }\n",
       "\n",
       "    .dataframe tbody tr th {\n",
       "        vertical-align: top;\n",
       "    }\n",
       "\n",
       "    .dataframe thead th {\n",
       "        text-align: right;\n",
       "    }\n",
       "</style>\n",
       "<table border=\"1\" class=\"dataframe\">\n",
       "  <thead>\n",
       "    <tr style=\"text-align: right;\">\n",
       "      <th></th>\n",
       "      <th>company_id</th>\n",
       "      <th>cw_id</th>\n",
       "      <th>cik</th>\n",
       "      <th>company_name</th>\n",
       "      <th>city</th>\n",
       "      <th>company_name_lei</th>\n",
       "      <th>country_code_short_name</th>\n",
       "      <th>country_code_alpha2</th>\n",
       "      <th>lei_cleaned_id</th>\n",
       "      <th>company_name_clean</th>\n",
       "      <th>company_name_lei_clean</th>\n",
       "    </tr>\n",
       "  </thead>\n",
       "  <tbody>\n",
       "    <tr>\n",
       "      <th>0</th>\n",
       "      <td>0</td>\n",
       "      <td>781188.0</td>\n",
       "      <td>13.0</td>\n",
       "      <td>CORPORATE INCOME FUND SEVENTY NINTH SHORT TERM...</td>\n",
       "      <td>NEW YORK</td>\n",
       "      <td>NaN</td>\n",
       "      <td>united states</td>\n",
       "      <td>us</td>\n",
       "      <td>NaN</td>\n",
       "      <td>corporate income fund seventy ninth short term...</td>\n",
       "      <td>NaN</td>\n",
       "    </tr>\n",
       "    <tr>\n",
       "      <th>1</th>\n",
       "      <td>1</td>\n",
       "      <td>1.0</td>\n",
       "      <td>20.0</td>\n",
       "      <td>K TRON INTERNATIONAL INC</td>\n",
       "      <td>PITMAN</td>\n",
       "      <td>NaN</td>\n",
       "      <td>united states</td>\n",
       "      <td>us</td>\n",
       "      <td>NaN</td>\n",
       "      <td>k tron international incorporated</td>\n",
       "      <td>NaN</td>\n",
       "    </tr>\n",
       "    <tr>\n",
       "      <th>2</th>\n",
       "      <td>2</td>\n",
       "      <td>1249859.0</td>\n",
       "      <td>63.0</td>\n",
       "      <td>FNW BANCORP INC</td>\n",
       "      <td>ELGIN</td>\n",
       "      <td>NaN</td>\n",
       "      <td>united states</td>\n",
       "      <td>us</td>\n",
       "      <td>NaN</td>\n",
       "      <td>fnw bancorp incorporated</td>\n",
       "      <td>NaN</td>\n",
       "    </tr>\n",
       "    <tr>\n",
       "      <th>3</th>\n",
       "      <td>3</td>\n",
       "      <td>2.0</td>\n",
       "      <td>1750.0</td>\n",
       "      <td>AAR CORP</td>\n",
       "      <td>WOOD DALE</td>\n",
       "      <td>Aar Corp</td>\n",
       "      <td>united states</td>\n",
       "      <td>us</td>\n",
       "      <td>MP76T5YQX3YK5VVAQ802</td>\n",
       "      <td>aar corporation</td>\n",
       "      <td>aar corporation</td>\n",
       "    </tr>\n",
       "    <tr>\n",
       "      <th>4</th>\n",
       "      <td>4</td>\n",
       "      <td>3.0</td>\n",
       "      <td>1800.0</td>\n",
       "      <td>ABBOTT LABORATORIES</td>\n",
       "      <td>ABBOTT PARK</td>\n",
       "      <td>Abbott Laboratories</td>\n",
       "      <td>united states</td>\n",
       "      <td>us</td>\n",
       "      <td>549300ZYY7524VF6JP88</td>\n",
       "      <td>abbott laboratories</td>\n",
       "      <td>abbott laboratories</td>\n",
       "    </tr>\n",
       "  </tbody>\n",
       "</table>\n",
       "</div>"
      ],
      "text/plain": [
       "   company_id      cw_id     cik  \\\n",
       "0           0   781188.0    13.0   \n",
       "1           1        1.0    20.0   \n",
       "2           2  1249859.0    63.0   \n",
       "3           3        2.0  1750.0   \n",
       "4           4        3.0  1800.0   \n",
       "\n",
       "                                        company_name         city  \\\n",
       "0  CORPORATE INCOME FUND SEVENTY NINTH SHORT TERM...     NEW YORK   \n",
       "1                           K TRON INTERNATIONAL INC       PITMAN   \n",
       "2                                    FNW BANCORP INC        ELGIN   \n",
       "3                                           AAR CORP    WOOD DALE   \n",
       "4                                ABBOTT LABORATORIES  ABBOTT PARK   \n",
       "\n",
       "      company_name_lei country_code_short_name country_code_alpha2  \\\n",
       "0                  NaN           united states                  us   \n",
       "1                  NaN           united states                  us   \n",
       "2                  NaN           united states                  us   \n",
       "3             Aar Corp           united states                  us   \n",
       "4  Abbott Laboratories           united states                  us   \n",
       "\n",
       "         lei_cleaned_id                                 company_name_clean  \\\n",
       "0                   NaN  corporate income fund seventy ninth short term...   \n",
       "1                   NaN                  k tron international incorporated   \n",
       "2                   NaN                           fnw bancorp incorporated   \n",
       "3  MP76T5YQX3YK5VVAQ802                                    aar corporation   \n",
       "4  549300ZYY7524VF6JP88                                abbott laboratories   \n",
       "\n",
       "  company_name_lei_clean  \n",
       "0                    NaN  \n",
       "1                    NaN  \n",
       "2                    NaN  \n",
       "3        aar corporation  \n",
       "4    abbott laboratories  "
      ]
     },
     "execution_count": 45,
     "metadata": {},
     "output_type": "execute_result"
    }
   ],
   "source": [
    "corpwatch_df.head()"
   ]
  },
  {
   "cell_type": "code",
   "execution_count": 46,
   "id": "b097480d",
   "metadata": {},
   "outputs": [
    {
     "name": "stdout",
     "output_type": "stream",
     "text": [
      "Total companies in CORPWATCH 719598\n"
     ]
    }
   ],
   "source": [
    "print('Total companies in CORPWATCH {}'.format(corpwatch_df.shape[0]))"
   ]
  },
  {
   "cell_type": "markdown",
   "id": "38eff9b6",
   "metadata": {},
   "source": [
    "## 4. Save cleaned CORPWATCH"
   ]
  },
  {
   "cell_type": "code",
   "execution_count": 47,
   "id": "ee8def7a",
   "metadata": {},
   "outputs": [],
   "source": [
    "# Save locally to \"data\" folder\n",
    "saved_path = \"..\\..\\data\\cleaned\"\n",
    "filename = \"corpwatch_cleaned.csv\"\n",
    "corpwatch_filename = os.path.join(saved_path, filename)\n",
    "corpwatch_df.to_csv(corpwatch_filename, header=True, index=False)"
   ]
  },
  {
   "cell_type": "code",
   "execution_count": 32,
   "id": "86f7c2e0",
   "metadata": {},
   "outputs": [],
   "source": [
    "# From the AWS Account page, copy the export scripts from the appropriate role using the \"Command Line or Programmatic Access\" link\n",
    "# Paste the copied text into ~/credentials.env\n",
    "\n",
    "from dotenv import dotenv_values, load_dotenv\n",
    "import os\n",
    "import pathlib\n",
    "\n",
    "dotenv_dir = os.environ.get('CREDENTIAL_DOTENV_DIR', os.environ.get('PWD', '/opt/app-root/src'))\n",
    "dotenv_path = pathlib.Path(dotenv_dir) / 'credentials.env'\n",
    "if os.path.exists(dotenv_path):\n",
    "    load_dotenv(dotenv_path=dotenv_path,override=True)"
   ]
  },
  {
   "cell_type": "code",
   "execution_count": 33,
   "id": "2c09c777",
   "metadata": {},
   "outputs": [],
   "source": [
    "import boto3\n",
    "s3_resource = boto3.resource(\n",
    "    service_name=\"s3\",\n",
    "    endpoint_url=os.environ['S3_LANDING_ENDPOINT'],\n",
    "    aws_access_key_id=os.environ['S3_LANDING_ACCESS_KEY'],\n",
    "    aws_secret_access_key=os.environ['S3_LANDING_SECRET_KEY'],\n",
    ")\n",
    "bucket_name = os.environ['S3_LANDING_BUCKET']\n",
    "bucket = s3_resource.Bucket(bucket_name)"
   ]
  },
  {
   "cell_type": "code",
   "execution_count": 34,
   "id": "5a8df31e",
   "metadata": {},
   "outputs": [],
   "source": [
    "# Save final results to S3\n",
    "s3_filename = 'CorpWatch/cleaned/corpwatch_cleaned.csv'\n",
    "s3_resource.meta.client.upload_file(Filename=corpwatch_filename, Bucket=bucket_name, Key=s3_filename)"
   ]
  },
  {
   "cell_type": "code",
   "execution_count": null,
   "id": "2b2a32cf",
   "metadata": {},
   "outputs": [],
   "source": []
  }
 ],
 "metadata": {
  "kernelspec": {
   "display_name": "Python 3 (ipykernel)",
   "language": "python",
   "name": "python3"
  },
  "language_info": {
   "codemirror_mode": {
    "name": "ipython",
    "version": 3
   },
   "file_extension": ".py",
   "mimetype": "text/x-python",
   "name": "python",
   "nbconvert_exporter": "python",
   "pygments_lexer": "ipython3",
   "version": "3.8.10"
  }
 },
 "nbformat": 4,
 "nbformat_minor": 5
}
