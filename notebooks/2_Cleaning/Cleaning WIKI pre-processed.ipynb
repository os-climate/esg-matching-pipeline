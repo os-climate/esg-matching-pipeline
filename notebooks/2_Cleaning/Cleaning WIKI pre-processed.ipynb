{
 "cells": [
  {
   "cell_type": "markdown",
   "id": "b9adfe2d",
   "metadata": {},
   "source": [
    "# Cleaning WIKI pre-processed file"
   ]
  },
  {
   "cell_type": "markdown",
   "id": "82c2b39f",
   "metadata": {},
   "source": [
    "This notebook reads the pre-processed WIKI dataset from local data folder and performs the cleaning of country, LEI and company's names. The final result is saved locally and in the WIKI S3 bucket."
   ]
  },
  {
   "cell_type": "code",
   "execution_count": null,
   "id": "25b3d075",
   "metadata": {},
   "outputs": [],
   "source": [
    "import pandas as pd\n",
    "import os\n",
    "from dotenv import dotenv_values, load_dotenv\n",
    "\n",
    "# Import CountryCleaner\n",
    "from financial_entity_cleaner.location import CountryCleaner\n",
    "\n",
    "# Import the module for cleaning company's name\n",
    "from financial_entity_cleaner.company import CompanyNameCleaner\n",
    "\n",
    "# Import BankingIdCleaner\n",
    "from financial_entity_cleaner.id import BankingIdCleaner"
   ]
  },
  {
   "cell_type": "code",
   "execution_count": 2,
   "id": "e9eaf0a3",
   "metadata": {},
   "outputs": [],
   "source": [
    "env_var = dotenv_values('../../.env')"
   ]
  },
  {
   "cell_type": "code",
   "execution_count": 3,
   "id": "295a1585",
   "metadata": {},
   "outputs": [],
   "source": [
    "import boto3\n",
    "s3_resource = boto3.resource(\n",
    "    service_name=\"s3\",\n",
    "    endpoint_url=env_var['S3_ENDPOINT'],\n",
    "    aws_access_key_id=env_var['S3_ACCESS_KEY'],\n",
    "    aws_secret_access_key=env_var['S3_SECRET_KEY'],\n",
    ")\n",
    "bucket_name = env_var['S3_BUCKET']\n",
    "bucket = s3_resource.Bucket(bucket_name)"
   ]
  },
  {
   "cell_type": "markdown",
   "id": "7868f300",
   "metadata": {},
   "source": [
    "## 1. Read WIKI pre-processed file"
   ]
  },
  {
   "cell_type": "code",
   "execution_count": 3,
   "id": "61e37780",
   "metadata": {},
   "outputs": [],
   "source": [
    "# Save locally to \"dataset\" folder\n",
    "saved_path = \"../../../dataset/pre_processed/\"\n",
    "company = \"wiki_company.csv\"\n",
    "companies = \"wiki_companies.csv\""
   ]
  },
  {
   "cell_type": "code",
   "execution_count": 4,
   "id": "cfe58e41",
   "metadata": {},
   "outputs": [],
   "source": [
    "company_df = pd.read_csv(os.path.join(saved_path, company), low_memory=False)\n",
    "companies_df = pd.read_csv(os.path.join(saved_path, companies), low_memory=False)"
   ]
  },
  {
   "cell_type": "code",
   "execution_count": 5,
   "id": "b35e3fd4",
   "metadata": {},
   "outputs": [
    {
     "data": {
      "text/html": [
       "<div>\n",
       "<style scoped>\n",
       "    .dataframe tbody tr th:only-of-type {\n",
       "        vertical-align: middle;\n",
       "    }\n",
       "\n",
       "    .dataframe tbody tr th {\n",
       "        vertical-align: top;\n",
       "    }\n",
       "\n",
       "    .dataframe thead th {\n",
       "        text-align: right;\n",
       "    }\n",
       "</style>\n",
       "<table border=\"1\" class=\"dataframe\">\n",
       "  <thead>\n",
       "    <tr style=\"text-align: right;\">\n",
       "      <th></th>\n",
       "      <th>wikidata_id</th>\n",
       "      <th>name</th>\n",
       "      <th>lei</th>\n",
       "      <th>perm_id</th>\n",
       "      <th>bloomberg_id</th>\n",
       "      <th>siren</th>\n",
       "      <th>isin</th>\n",
       "      <th>siret</th>\n",
       "      <th>country_name</th>\n",
       "      <th>hq</th>\n",
       "    </tr>\n",
       "  </thead>\n",
       "  <tbody>\n",
       "    <tr>\n",
       "      <th>0</th>\n",
       "      <td>Q66</td>\n",
       "      <td>Boeing</td>\n",
       "      <td>RVHJWBXLJ1RFUBSY1F30</td>\n",
       "      <td>4295903076</td>\n",
       "      <td>NaN</td>\n",
       "      <td>NaN</td>\n",
       "      <td>US0970231058</td>\n",
       "      <td>NaN</td>\n",
       "      <td>United States of America</td>\n",
       "      <td>United States of America</td>\n",
       "    </tr>\n",
       "    <tr>\n",
       "      <th>1</th>\n",
       "      <td>Q67</td>\n",
       "      <td>Airbus</td>\n",
       "      <td>529900FCMZ4LKXFD0R69</td>\n",
       "      <td>NaN</td>\n",
       "      <td>NaN</td>\n",
       "      <td>383474814.0</td>\n",
       "      <td>NaN</td>\n",
       "      <td>NaN</td>\n",
       "      <td>France</td>\n",
       "      <td>France</td>\n",
       "    </tr>\n",
       "  </tbody>\n",
       "</table>\n",
       "</div>"
      ],
      "text/plain": [
       "  wikidata_id    name                   lei     perm_id bloomberg_id   \n",
       "0         Q66  Boeing  RVHJWBXLJ1RFUBSY1F30  4295903076          NaN  \\\n",
       "1         Q67  Airbus  529900FCMZ4LKXFD0R69         NaN          NaN   \n",
       "\n",
       "         siren          isin siret              country_name   \n",
       "0          NaN  US0970231058   NaN  United States of America  \\\n",
       "1  383474814.0           NaN   NaN                    France   \n",
       "\n",
       "                         hq  \n",
       "0  United States of America  \n",
       "1                    France  "
      ]
     },
     "metadata": {},
     "output_type": "display_data"
    },
    {
     "data": {
      "text/html": [
       "<div>\n",
       "<style scoped>\n",
       "    .dataframe tbody tr th:only-of-type {\n",
       "        vertical-align: middle;\n",
       "    }\n",
       "\n",
       "    .dataframe tbody tr th {\n",
       "        vertical-align: top;\n",
       "    }\n",
       "\n",
       "    .dataframe thead th {\n",
       "        text-align: right;\n",
       "    }\n",
       "</style>\n",
       "<table border=\"1\" class=\"dataframe\">\n",
       "  <thead>\n",
       "    <tr style=\"text-align: right;\">\n",
       "      <th></th>\n",
       "      <th>wikidata_id</th>\n",
       "      <th>name</th>\n",
       "      <th>alias</th>\n",
       "      <th>country_name</th>\n",
       "      <th>hq</th>\n",
       "    </tr>\n",
       "  </thead>\n",
       "  <tbody>\n",
       "    <tr>\n",
       "      <th>0</th>\n",
       "      <td>Q66</td>\n",
       "      <td>Boeing</td>\n",
       "      <td>The Boeing Company</td>\n",
       "      <td>United States of America</td>\n",
       "      <td>United States of America</td>\n",
       "    </tr>\n",
       "    <tr>\n",
       "      <th>1</th>\n",
       "      <td>Q66</td>\n",
       "      <td>Boeing</td>\n",
       "      <td>Boeing Company</td>\n",
       "      <td>United States of America</td>\n",
       "      <td>United States of America</td>\n",
       "    </tr>\n",
       "  </tbody>\n",
       "</table>\n",
       "</div>"
      ],
      "text/plain": [
       "  wikidata_id    name               alias              country_name   \n",
       "0         Q66  Boeing  The Boeing Company  United States of America  \\\n",
       "1         Q66  Boeing      Boeing Company  United States of America   \n",
       "\n",
       "                         hq  \n",
       "0  United States of America  \n",
       "1  United States of America  "
      ]
     },
     "metadata": {},
     "output_type": "display_data"
    }
   ],
   "source": [
    "display(company_df.head(2))\n",
    "display(companies_df.head(2))"
   ]
  },
  {
   "cell_type": "markdown",
   "id": "f61ff115",
   "metadata": {},
   "source": [
    "## 2. Cleaning County information"
   ]
  },
  {
   "cell_type": "code",
   "execution_count": null,
   "id": "2e5448c6",
   "metadata": {},
   "outputs": [],
   "source": [
    "# Create an object based on CountryCleaner() class\n",
    "country_cleaner_obj=CountryCleaner()"
   ]
  },
  {
   "cell_type": "code",
   "execution_count": 9,
   "id": "1e4366c5",
   "metadata": {},
   "outputs": [],
   "source": [
    "country_cleaner_obj.letter_case='lower'\n",
    "country_cleaner_obj.output_info = [CountryCleaner.ATTRIBUTE_ALPHA2,\n",
    "                                   CountryCleaner.ATTRIBUTE_SHORT_NAME]"
   ]
  },
  {
   "cell_type": "code",
   "execution_count": 10,
   "id": "acc9f59d",
   "metadata": {},
   "outputs": [
    {
     "name": "stderr",
     "output_type": "stream",
     "text": [
      "Normalizing countries...100%|██████████████████████████████████████████████████| 173935/173935 [01:25<00:00, 2025.59it/s]\n"
     ]
    }
   ],
   "source": [
    "company_df = country_cleaner_obj.clean_df(df=company_df, \n",
    "                                            cols=['country_name','hq'],\n",
    "                                            output_names_as= 'suffix')"
   ]
  },
  {
   "cell_type": "code",
   "execution_count": 11,
   "id": "494437ec",
   "metadata": {},
   "outputs": [
    {
     "name": "stderr",
     "output_type": "stream",
     "text": [
      "Normalizing countries...100%|██████████████████████████████████████████████████| 93410/93410 [00:43<00:00, 2130.53it/s]\n"
     ]
    }
   ],
   "source": [
    "companies_df = country_cleaner_obj.clean_df(df=companies_df, \n",
    "                                            cols=['country_name','hq'],\n",
    "                                            output_names_as= 'suffix')"
   ]
  },
  {
   "cell_type": "code",
   "execution_count": 12,
   "id": "f5b0f513",
   "metadata": {},
   "outputs": [
    {
     "data": {
      "text/html": [
       "<div>\n",
       "<style scoped>\n",
       "    .dataframe tbody tr th:only-of-type {\n",
       "        vertical-align: middle;\n",
       "    }\n",
       "\n",
       "    .dataframe tbody tr th {\n",
       "        vertical-align: top;\n",
       "    }\n",
       "\n",
       "    .dataframe thead th {\n",
       "        text-align: right;\n",
       "    }\n",
       "</style>\n",
       "<table border=\"1\" class=\"dataframe\">\n",
       "  <thead>\n",
       "    <tr style=\"text-align: right;\">\n",
       "      <th></th>\n",
       "      <th>wikidata_id</th>\n",
       "      <th>name</th>\n",
       "      <th>lei</th>\n",
       "      <th>perm_id</th>\n",
       "      <th>bloomberg_id</th>\n",
       "      <th>siren</th>\n",
       "      <th>isin</th>\n",
       "      <th>siret</th>\n",
       "      <th>country_name</th>\n",
       "      <th>hq</th>\n",
       "      <th>country_name_short_name</th>\n",
       "      <th>country_name_alpha2</th>\n",
       "      <th>hq_short_name</th>\n",
       "      <th>hq_alpha2</th>\n",
       "    </tr>\n",
       "  </thead>\n",
       "  <tbody>\n",
       "    <tr>\n",
       "      <th>0</th>\n",
       "      <td>Q66</td>\n",
       "      <td>Boeing</td>\n",
       "      <td>RVHJWBXLJ1RFUBSY1F30</td>\n",
       "      <td>4295903076</td>\n",
       "      <td>NaN</td>\n",
       "      <td>NaN</td>\n",
       "      <td>US0970231058</td>\n",
       "      <td>NaN</td>\n",
       "      <td>United States of America</td>\n",
       "      <td>United States of America</td>\n",
       "      <td>united states</td>\n",
       "      <td>us</td>\n",
       "      <td>united states</td>\n",
       "      <td>us</td>\n",
       "    </tr>\n",
       "    <tr>\n",
       "      <th>1</th>\n",
       "      <td>Q67</td>\n",
       "      <td>Airbus</td>\n",
       "      <td>529900FCMZ4LKXFD0R69</td>\n",
       "      <td>NaN</td>\n",
       "      <td>NaN</td>\n",
       "      <td>383474814.0</td>\n",
       "      <td>NaN</td>\n",
       "      <td>NaN</td>\n",
       "      <td>France</td>\n",
       "      <td>France</td>\n",
       "      <td>france</td>\n",
       "      <td>fr</td>\n",
       "      <td>france</td>\n",
       "      <td>fr</td>\n",
       "    </tr>\n",
       "  </tbody>\n",
       "</table>\n",
       "</div>"
      ],
      "text/plain": [
       "  wikidata_id    name                   lei     perm_id bloomberg_id  \\\n",
       "0         Q66  Boeing  RVHJWBXLJ1RFUBSY1F30  4295903076          NaN   \n",
       "1         Q67  Airbus  529900FCMZ4LKXFD0R69         NaN          NaN   \n",
       "\n",
       "         siren          isin siret              country_name  \\\n",
       "0          NaN  US0970231058   NaN  United States of America   \n",
       "1  383474814.0           NaN   NaN                    France   \n",
       "\n",
       "                         hq country_name_short_name country_name_alpha2  \\\n",
       "0  United States of America           united states                  us   \n",
       "1                    France                  france                  fr   \n",
       "\n",
       "   hq_short_name hq_alpha2  \n",
       "0  united states        us  \n",
       "1         france        fr  "
      ]
     },
     "metadata": {},
     "output_type": "display_data"
    },
    {
     "data": {
      "text/html": [
       "<div>\n",
       "<style scoped>\n",
       "    .dataframe tbody tr th:only-of-type {\n",
       "        vertical-align: middle;\n",
       "    }\n",
       "\n",
       "    .dataframe tbody tr th {\n",
       "        vertical-align: top;\n",
       "    }\n",
       "\n",
       "    .dataframe thead th {\n",
       "        text-align: right;\n",
       "    }\n",
       "</style>\n",
       "<table border=\"1\" class=\"dataframe\">\n",
       "  <thead>\n",
       "    <tr style=\"text-align: right;\">\n",
       "      <th></th>\n",
       "      <th>wikidata_id</th>\n",
       "      <th>name</th>\n",
       "      <th>alias</th>\n",
       "      <th>country_name</th>\n",
       "      <th>hq</th>\n",
       "      <th>country_name_short_name</th>\n",
       "      <th>country_name_alpha2</th>\n",
       "      <th>hq_short_name</th>\n",
       "      <th>hq_alpha2</th>\n",
       "    </tr>\n",
       "  </thead>\n",
       "  <tbody>\n",
       "    <tr>\n",
       "      <th>0</th>\n",
       "      <td>Q66</td>\n",
       "      <td>Boeing</td>\n",
       "      <td>The Boeing Company</td>\n",
       "      <td>United States of America</td>\n",
       "      <td>United States of America</td>\n",
       "      <td>united states</td>\n",
       "      <td>us</td>\n",
       "      <td>united states</td>\n",
       "      <td>us</td>\n",
       "    </tr>\n",
       "    <tr>\n",
       "      <th>1</th>\n",
       "      <td>Q66</td>\n",
       "      <td>Boeing</td>\n",
       "      <td>Boeing Company</td>\n",
       "      <td>United States of America</td>\n",
       "      <td>United States of America</td>\n",
       "      <td>united states</td>\n",
       "      <td>us</td>\n",
       "      <td>united states</td>\n",
       "      <td>us</td>\n",
       "    </tr>\n",
       "  </tbody>\n",
       "</table>\n",
       "</div>"
      ],
      "text/plain": [
       "  wikidata_id    name               alias              country_name  \\\n",
       "0         Q66  Boeing  The Boeing Company  United States of America   \n",
       "1         Q66  Boeing      Boeing Company  United States of America   \n",
       "\n",
       "                         hq country_name_short_name country_name_alpha2  \\\n",
       "0  United States of America           united states                  us   \n",
       "1  United States of America           united states                  us   \n",
       "\n",
       "   hq_short_name hq_alpha2  \n",
       "0  united states        us  \n",
       "1  united states        us  "
      ]
     },
     "metadata": {},
     "output_type": "display_data"
    }
   ],
   "source": [
    "display(company_df.head(2))\n",
    "display(companies_df.head(2))"
   ]
  },
  {
   "cell_type": "markdown",
   "id": "c14078ed",
   "metadata": {},
   "source": [
    "## 3. Cleaning IDs"
   ]
  },
  {
   "cell_type": "code",
   "execution_count": 13,
   "id": "c7603747",
   "metadata": {},
   "outputs": [],
   "source": [
    "# Create an object based on the BankingIdCleaner() class\n",
    "id_cleaner_obj = BankingIdCleaner()"
   ]
  },
  {
   "cell_type": "code",
   "execution_count": 14,
   "id": "e6f0ac15",
   "metadata": {},
   "outputs": [],
   "source": [
    "# Setup cleaning properties\n",
    "id_cleaner_obj.invalid_ids_as_nan = True\n",
    "id_cleaner_obj.validation_as_categorical = True\n",
    "id_cleaner_obj.output_lettercase = \"BankingIdCleaner.UPPER_LETTER_CASE\""
   ]
  },
  {
   "cell_type": "code",
   "execution_count": 15,
   "id": "53a6cc0e",
   "metadata": {},
   "outputs": [
    {
     "name": "stderr",
     "output_type": "stream",
     "text": [
      "Normalizing IDs...100%|██████████████████████████████████████████████████| 173935/173935 [01:30<00:00, 1924.04it/s]\n"
     ]
    }
   ],
   "source": [
    "company_df = id_cleaner_obj.clean_df(company_df, cols=['lei','isin','siren','siret'], \n",
    "                                    remove_cols= True, \n",
    "                                    output_names_as= 'suffix',\n",
    "                                    types = ['lei','isin','siren','siret'])"
   ]
  },
  {
   "cell_type": "code",
   "execution_count": 16,
   "id": "0ddf1791",
   "metadata": {},
   "outputs": [
    {
     "data": {
      "text/html": [
       "<div>\n",
       "<style scoped>\n",
       "    .dataframe tbody tr th:only-of-type {\n",
       "        vertical-align: middle;\n",
       "    }\n",
       "\n",
       "    .dataframe tbody tr th {\n",
       "        vertical-align: top;\n",
       "    }\n",
       "\n",
       "    .dataframe thead th {\n",
       "        text-align: right;\n",
       "    }\n",
       "</style>\n",
       "<table border=\"1\" class=\"dataframe\">\n",
       "  <thead>\n",
       "    <tr style=\"text-align: right;\">\n",
       "      <th></th>\n",
       "      <th>wikidata_id</th>\n",
       "      <th>name</th>\n",
       "      <th>perm_id</th>\n",
       "      <th>bloomberg_id</th>\n",
       "      <th>country_name</th>\n",
       "      <th>hq</th>\n",
       "      <th>country_name_short_name</th>\n",
       "      <th>country_name_alpha2</th>\n",
       "      <th>hq_short_name</th>\n",
       "      <th>hq_alpha2</th>\n",
       "      <th>lei_cleaned_id</th>\n",
       "      <th>lei_isvalid_id</th>\n",
       "      <th>isin_cleaned_id</th>\n",
       "      <th>isin_isvalid_id</th>\n",
       "      <th>siren_cleaned_id</th>\n",
       "      <th>siren_isvalid_id</th>\n",
       "      <th>siret_cleaned_id</th>\n",
       "      <th>siret_isvalid_id</th>\n",
       "    </tr>\n",
       "  </thead>\n",
       "  <tbody>\n",
       "    <tr>\n",
       "      <th>0</th>\n",
       "      <td>Q66</td>\n",
       "      <td>Boeing</td>\n",
       "      <td>4295903076</td>\n",
       "      <td>NaN</td>\n",
       "      <td>United States of America</td>\n",
       "      <td>United States of America</td>\n",
       "      <td>united states</td>\n",
       "      <td>us</td>\n",
       "      <td>united states</td>\n",
       "      <td>us</td>\n",
       "      <td>RVHJWBXLJ1RFUBSY1F30</td>\n",
       "      <td>1.0</td>\n",
       "      <td>US0970231058</td>\n",
       "      <td>1.0</td>\n",
       "      <td>NaN</td>\n",
       "      <td>NaN</td>\n",
       "      <td>NaN</td>\n",
       "      <td>NaN</td>\n",
       "    </tr>\n",
       "    <tr>\n",
       "      <th>1</th>\n",
       "      <td>Q67</td>\n",
       "      <td>Airbus</td>\n",
       "      <td>NaN</td>\n",
       "      <td>NaN</td>\n",
       "      <td>France</td>\n",
       "      <td>France</td>\n",
       "      <td>france</td>\n",
       "      <td>fr</td>\n",
       "      <td>france</td>\n",
       "      <td>fr</td>\n",
       "      <td>529900FCMZ4LKXFD0R69</td>\n",
       "      <td>1.0</td>\n",
       "      <td>NaN</td>\n",
       "      <td>NaN</td>\n",
       "      <td>NaN</td>\n",
       "      <td>NaN</td>\n",
       "      <td>NaN</td>\n",
       "      <td>NaN</td>\n",
       "    </tr>\n",
       "    <tr>\n",
       "      <th>2</th>\n",
       "      <td>Q95</td>\n",
       "      <td>Google</td>\n",
       "      <td>4295899948</td>\n",
       "      <td>NaN</td>\n",
       "      <td>United States of America</td>\n",
       "      <td>United States of America</td>\n",
       "      <td>united states</td>\n",
       "      <td>us</td>\n",
       "      <td>united states</td>\n",
       "      <td>us</td>\n",
       "      <td>7ZW8QJWVPR4P1J1KQY45</td>\n",
       "      <td>1.0</td>\n",
       "      <td>NaN</td>\n",
       "      <td>NaN</td>\n",
       "      <td>NaN</td>\n",
       "      <td>NaN</td>\n",
       "      <td>NaN</td>\n",
       "      <td>NaN</td>\n",
       "    </tr>\n",
       "    <tr>\n",
       "      <th>3</th>\n",
       "      <td>Q248</td>\n",
       "      <td>Intel</td>\n",
       "      <td>4295906830</td>\n",
       "      <td>NaN</td>\n",
       "      <td>United States of America</td>\n",
       "      <td>United States of America</td>\n",
       "      <td>united states</td>\n",
       "      <td>us</td>\n",
       "      <td>united states</td>\n",
       "      <td>us</td>\n",
       "      <td>KNX4USFCNGPY45LOCE31</td>\n",
       "      <td>1.0</td>\n",
       "      <td>US4581401001</td>\n",
       "      <td>1.0</td>\n",
       "      <td>NaN</td>\n",
       "      <td>NaN</td>\n",
       "      <td>NaN</td>\n",
       "      <td>NaN</td>\n",
       "    </tr>\n",
       "    <tr>\n",
       "      <th>4</th>\n",
       "      <td>Q312</td>\n",
       "      <td>Apple</td>\n",
       "      <td>4295905573</td>\n",
       "      <td>NaN</td>\n",
       "      <td>United States of America</td>\n",
       "      <td>United States of America</td>\n",
       "      <td>united states</td>\n",
       "      <td>us</td>\n",
       "      <td>united states</td>\n",
       "      <td>us</td>\n",
       "      <td>HWUPKR0MPOU8FGXBT394</td>\n",
       "      <td>1.0</td>\n",
       "      <td>US0378331005</td>\n",
       "      <td>1.0</td>\n",
       "      <td>NaN</td>\n",
       "      <td>NaN</td>\n",
       "      <td>NaN</td>\n",
       "      <td>NaN</td>\n",
       "    </tr>\n",
       "  </tbody>\n",
       "</table>\n",
       "</div>"
      ],
      "text/plain": [
       "  wikidata_id    name     perm_id bloomberg_id              country_name  \\\n",
       "0         Q66  Boeing  4295903076          NaN  United States of America   \n",
       "1         Q67  Airbus         NaN          NaN                    France   \n",
       "2         Q95  Google  4295899948          NaN  United States of America   \n",
       "3        Q248   Intel  4295906830          NaN  United States of America   \n",
       "4        Q312   Apple  4295905573          NaN  United States of America   \n",
       "\n",
       "                         hq country_name_short_name country_name_alpha2  \\\n",
       "0  United States of America           united states                  us   \n",
       "1                    France                  france                  fr   \n",
       "2  United States of America           united states                  us   \n",
       "3  United States of America           united states                  us   \n",
       "4  United States of America           united states                  us   \n",
       "\n",
       "   hq_short_name hq_alpha2        lei_cleaned_id  lei_isvalid_id  \\\n",
       "0  united states        us  RVHJWBXLJ1RFUBSY1F30             1.0   \n",
       "1         france        fr  529900FCMZ4LKXFD0R69             1.0   \n",
       "2  united states        us  7ZW8QJWVPR4P1J1KQY45             1.0   \n",
       "3  united states        us  KNX4USFCNGPY45LOCE31             1.0   \n",
       "4  united states        us  HWUPKR0MPOU8FGXBT394             1.0   \n",
       "\n",
       "  isin_cleaned_id  isin_isvalid_id  siren_cleaned_id  siren_isvalid_id  \\\n",
       "0    US0970231058              1.0               NaN               NaN   \n",
       "1             NaN              NaN               NaN               NaN   \n",
       "2             NaN              NaN               NaN               NaN   \n",
       "3    US4581401001              1.0               NaN               NaN   \n",
       "4    US0378331005              1.0               NaN               NaN   \n",
       "\n",
       "  siret_cleaned_id  siret_isvalid_id  \n",
       "0              NaN               NaN  \n",
       "1              NaN               NaN  \n",
       "2              NaN               NaN  \n",
       "3              NaN               NaN  \n",
       "4              NaN               NaN  "
      ]
     },
     "execution_count": 16,
     "metadata": {},
     "output_type": "execute_result"
    }
   ],
   "source": [
    "company_df.head()"
   ]
  },
  {
   "cell_type": "code",
   "execution_count": 17,
   "id": "bc9285fd",
   "metadata": {},
   "outputs": [],
   "source": [
    "company_df.drop(['country_name',\n",
    "                'hq',\n",
    "                'isin_isvalid_id',\n",
    "                'siren_isvalid_id',\n",
    "                'siret_isvalid_id',\n",
    "                'lei_isvalid_id'],axis='columns',inplace=True)"
   ]
  },
  {
   "attachments": {},
   "cell_type": "markdown",
   "id": "3a803532",
   "metadata": {},
   "source": [
    "## 4. Cleaning Company's names"
   ]
  },
  {
   "cell_type": "code",
   "execution_count": 18,
   "id": "2d600639",
   "metadata": {},
   "outputs": [],
   "source": [
    "# Create a CompanyNameCleaner object\n",
    "company_cleaner_obj = CompanyNameCleaner()"
   ]
  },
  {
   "cell_type": "code",
   "execution_count": 19,
   "id": "99adc98c",
   "metadata": {},
   "outputs": [],
   "source": [
    "# Set cleaner properties\n",
    "company_cleaner_obj.normalize_legal_terms = True\n",
    "company_cleaner_obj.letter_case=\"lower\"\n",
    "company_cleaner_obj.remove_accents = True\n",
    "company_cleaner_obj.default_cleaning_rules = ['place_word_the_at_the_beginning',\n",
    "                                                'remove_words_in_asterisk', \n",
    "                                                'remove_words_in_parentheses',\n",
    "                                                'remove_question_marks_in_parentheses', \n",
    "                                                'replace_hyphen_by_space', \n",
    "                                                'replace_underscore_by_space', \n",
    "                                                'remove_text_puctuation_except_dot', \n",
    "                                                'remove_math_symbols', \n",
    "                                                'remove_parentheses', \n",
    "                                                'remove_brackets', \n",
    "                                                'remove_curly_brackets', \n",
    "                                                'remove_single_quote_next_character', \n",
    "                                                'remove_double_quote', \n",
    "                                                'enforce_single_space_between_words']\n",
    "company_cleaner_obj.post_cleaning_rules = ['remove_all_punctuation']"
   ]
  },
  {
   "cell_type": "code",
   "execution_count": 20,
   "id": "6aae82f9",
   "metadata": {},
   "outputs": [
    {
     "name": "stderr",
     "output_type": "stream",
     "text": [
      "Cleaning company name...100%|██████████████████████████████████████████████████| 189/189 [01:19<00:00,  2.37it/s]\n",
      "Cleaning company name...100%|██████████████████████████████████████████████████| 173/173 [00:46<00:00,  3.71it/s]\n"
     ]
    }
   ],
   "source": [
    "company_df = company_cleaner_obj.clean_df(company_df,\n",
    "                                            'name',\n",
    "                                            'name_clean',\n",
    "                                            'country_name_alpha2',\n",
    "                                            'True')\n",
    "companies_df = company_cleaner_obj.clean_df(companies_df,\n",
    "                                            'alias',\n",
    "                                            'alias_clean',\n",
    "                                            'country_name_alpha2',\n",
    "                                            'True')"
   ]
  },
  {
   "cell_type": "markdown",
   "id": "70f7b5a0",
   "metadata": {},
   "source": [
    "## 5. Check and save"
   ]
  },
  {
   "cell_type": "code",
   "execution_count": 21,
   "id": "c61d869e",
   "metadata": {},
   "outputs": [
    {
     "name": "stdout",
     "output_type": "stream",
     "text": [
      "Total company in WIKIDATA : 173935\n"
     ]
    }
   ],
   "source": [
    "print(f'Total company in WIKIDATA : {company_df.shape[0]}')"
   ]
  },
  {
   "cell_type": "code",
   "execution_count": 22,
   "id": "783b7c0c",
   "metadata": {},
   "outputs": [],
   "source": [
    "saved_path = \"../../../dataset/cleaned/\"\n",
    "company_clean = \"company_cleaned.csv\"\n",
    "companies_clean = \"companies_cleaned.csv\"\n",
    "\n",
    "\n",
    "company_filename = os.path.join(saved_path, company_clean)\n",
    "companies_filename = os.path.join(saved_path, companies_clean)\n",
    "\n",
    "company_df.to_csv(company_filename,encoding='utf-8',header=True, index=False)\n",
    "companies_df.to_csv(companies_filename,encoding='utf-8',header=True, index=False)"
   ]
  },
  {
   "cell_type": "code",
   "execution_count": 23,
   "id": "a93cfb44",
   "metadata": {},
   "outputs": [],
   "source": [
    "# Company\n",
    "s3_filename = 'WIKI/cleaned/company_cleaned.csv'\n",
    "s3_resource.meta.client.upload_file(Filename=company_filename,\n",
    "                                    Bucket=env_var['S3_BUCKET'], \n",
    "                                    Key=s3_filename)\n",
    "\n",
    "# Companies\n",
    "s3_filename = 'WIKI/cleaned/companies_cleaned.csv'\n",
    "s3_resource.meta.client.upload_file(Filename=companies_filename,\n",
    "                                    Bucket=env_var['S3_BUCKET'], \n",
    "                                    Key=s3_filename)"
   ]
  }
 ],
 "metadata": {
  "kernelspec": {
   "display_name": "Python 3 (ipykernel)",
   "language": "python",
   "name": "python3"
  },
  "language_info": {
   "codemirror_mode": {
    "name": "ipython",
    "version": 3
   },
   "file_extension": ".py",
   "mimetype": "text/x-python",
   "name": "python",
   "nbconvert_exporter": "python",
   "pygments_lexer": "ipython3",
   "version": "3.10.6"
  }
 },
 "nbformat": 4,
 "nbformat_minor": 5
}
