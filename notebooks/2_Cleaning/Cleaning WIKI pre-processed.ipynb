{
 "cells": [
  {
   "cell_type": "markdown",
   "id": "b9adfe2d",
   "metadata": {},
   "source": [
    "# Cleaning WIKI pre-processed file"
   ]
  },
  {
   "cell_type": "markdown",
   "id": "82c2b39f",
   "metadata": {},
   "source": [
    "This notebook reads the pre-processed WIKI dataset from local data folder and performs the cleaning of country, LEI and company's names. The final result is saved locally and in the WIKI S3 bucket."
   ]
  },
  {
   "cell_type": "code",
   "execution_count": 1,
   "id": "25b3d075",
   "metadata": {},
   "outputs": [],
   "source": [
    "import pandas as pd\n",
    "import os"
   ]
  },
  {
   "cell_type": "code",
   "execution_count": 2,
   "id": "e9eaf0a3",
   "metadata": {},
   "outputs": [],
   "source": [
    "# Import CountryCleaner\n",
    "from financial_entity_cleaner.location import CountryCleaner"
   ]
  },
  {
   "cell_type": "code",
   "execution_count": 3,
   "id": "295a1585",
   "metadata": {},
   "outputs": [],
   "source": [
    "# Import the module for cleaning company's name\n",
    "from financial_entity_cleaner.company import CompanyNameCleaner"
   ]
  },
  {
   "cell_type": "code",
   "execution_count": 4,
   "id": "1f0e22f5",
   "metadata": {},
   "outputs": [],
   "source": [
    "# Import BankingIdCleaner\n",
    "from financial_entity_cleaner.id import BankingIdCleaner"
   ]
  },
  {
   "cell_type": "markdown",
   "id": "7868f300",
   "metadata": {},
   "source": [
    "## 1. Read WIKI pre-processed file"
   ]
  },
  {
   "cell_type": "code",
   "execution_count": 5,
   "id": "61e37780",
   "metadata": {},
   "outputs": [],
   "source": [
    "# Save locally to \"data\" folder\n",
    "saved_path = \"..\\..\\data\\pre_processed\"\n",
    "filename = \"wiki_pre_processed.csv\""
   ]
  },
  {
   "cell_type": "code",
   "execution_count": 6,
   "id": "cfe58e41",
   "metadata": {},
   "outputs": [],
   "source": [
    "wiki_df = pd.read_csv(os.path.join(saved_path, filename))"
   ]
  },
  {
   "cell_type": "code",
   "execution_count": 7,
   "id": "b35e3fd4",
   "metadata": {},
   "outputs": [
    {
     "data": {
      "text/html": [
       "<div>\n",
       "<style scoped>\n",
       "    .dataframe tbody tr th:only-of-type {\n",
       "        vertical-align: middle;\n",
       "    }\n",
       "\n",
       "    .dataframe tbody tr th {\n",
       "        vertical-align: top;\n",
       "    }\n",
       "\n",
       "    .dataframe thead th {\n",
       "        text-align: right;\n",
       "    }\n",
       "</style>\n",
       "<table border=\"1\" class=\"dataframe\">\n",
       "  <thead>\n",
       "    <tr style=\"text-align: right;\">\n",
       "      <th></th>\n",
       "      <th>short_name</th>\n",
       "      <th>aliases</th>\n",
       "      <th>company_name</th>\n",
       "      <th>country</th>\n",
       "      <th>lei</th>\n",
       "    </tr>\n",
       "  </thead>\n",
       "  <tbody>\n",
       "    <tr>\n",
       "      <th>0</th>\n",
       "      <td>Boeing</td>\n",
       "      <td>['The Boeing Company', 'Boeing Company']</td>\n",
       "      <td>THE BOEING COMPANY</td>\n",
       "      <td>United States of America</td>\n",
       "      <td>RVHJWBXLJ1RFUBSY1F30</td>\n",
       "    </tr>\n",
       "    <tr>\n",
       "      <th>1</th>\n",
       "      <td>Airbus</td>\n",
       "      <td>['Airbus Commercial Aircraft']</td>\n",
       "      <td>Airbus SE</td>\n",
       "      <td>France</td>\n",
       "      <td>529900FCMZ4LKXFD0R69</td>\n",
       "    </tr>\n",
       "    <tr>\n",
       "      <th>2</th>\n",
       "      <td>Google</td>\n",
       "      <td>['Google Inc.', 'Google LLC']</td>\n",
       "      <td>Google LLC</td>\n",
       "      <td>United States of America</td>\n",
       "      <td>7ZW8QJWVPR4P1J1KQY45</td>\n",
       "    </tr>\n",
       "    <tr>\n",
       "      <th>3</th>\n",
       "      <td>Intel</td>\n",
       "      <td>['Intel Corporation', 'N M Electronics', 'Inte...</td>\n",
       "      <td>Intel Corporation</td>\n",
       "      <td>United States of America</td>\n",
       "      <td>KNX4USFCNGPY45LOCE31</td>\n",
       "    </tr>\n",
       "    <tr>\n",
       "      <th>4</th>\n",
       "      <td>Apple Inc.</td>\n",
       "      <td>['Apple Computer, Inc.', 'Apple Computer Inc',...</td>\n",
       "      <td>Apple Inc.</td>\n",
       "      <td>United States of America</td>\n",
       "      <td>HWUPKR0MPOU8FGXBT394</td>\n",
       "    </tr>\n",
       "  </tbody>\n",
       "</table>\n",
       "</div>"
      ],
      "text/plain": [
       "   short_name                                            aliases  \\\n",
       "0      Boeing           ['The Boeing Company', 'Boeing Company']   \n",
       "1      Airbus                     ['Airbus Commercial Aircraft']   \n",
       "2      Google                      ['Google Inc.', 'Google LLC']   \n",
       "3       Intel  ['Intel Corporation', 'N M Electronics', 'Inte...   \n",
       "4  Apple Inc.  ['Apple Computer, Inc.', 'Apple Computer Inc',...   \n",
       "\n",
       "         company_name                   country                   lei  \n",
       "0  THE BOEING COMPANY  United States of America  RVHJWBXLJ1RFUBSY1F30  \n",
       "1           Airbus SE                    France  529900FCMZ4LKXFD0R69  \n",
       "2          Google LLC  United States of America  7ZW8QJWVPR4P1J1KQY45  \n",
       "3   Intel Corporation  United States of America  KNX4USFCNGPY45LOCE31  \n",
       "4          Apple Inc.  United States of America  HWUPKR0MPOU8FGXBT394  "
      ]
     },
     "execution_count": 7,
     "metadata": {},
     "output_type": "execute_result"
    }
   ],
   "source": [
    "wiki_df.head()"
   ]
  },
  {
   "cell_type": "markdown",
   "id": "f61ff115",
   "metadata": {},
   "source": [
    "## 2. Cleaning County information"
   ]
  },
  {
   "cell_type": "code",
   "execution_count": 8,
   "id": "2e5448c6",
   "metadata": {},
   "outputs": [],
   "source": [
    "# Create an object based on CountryCleaner() class\n",
    "country_cleaner_obj=CountryCleaner()"
   ]
  },
  {
   "cell_type": "code",
   "execution_count": 9,
   "id": "1e4366c5",
   "metadata": {},
   "outputs": [],
   "source": [
    "country_cleaner_obj.letter_case='lower'\n",
    "country_cleaner_obj.output_info = [CountryCleaner.ATTRIBUTE_ALPHA2,\n",
    "                                   CountryCleaner.ATTRIBUTE_SHORT_NAME]"
   ]
  },
  {
   "cell_type": "code",
   "execution_count": 10,
   "id": "acc9f59d",
   "metadata": {},
   "outputs": [
    {
     "name": "stderr",
     "output_type": "stream",
     "text": [
      "Cleaning column [country]:  85%|██████████████████████████████████████████▎       | 168133/198509 [11:25<02:34, 197.02it/s]IOPub message rate exceeded.\n",
      "The notebook server will temporarily stop sending output\n",
      "to the client in order to avoid crashing it.\n",
      "To change this limit, set the config variable\n",
      "`--NotebookApp.iopub_msg_rate_limit`.\n",
      "\n",
      "Current values:\n",
      "NotebookApp.iopub_msg_rate_limit=1000.0 (msgs/sec)\n",
      "NotebookApp.rate_limit_window=3.0 (secs)\n",
      "\n",
      "Cleaning column [country]:  92%|██████████████████████████████████████████████    | 182705/198509 [12:16<00:59, 264.99it/s]IOPub message rate exceeded.\n",
      "The notebook server will temporarily stop sending output\n",
      "to the client in order to avoid crashing it.\n",
      "To change this limit, set the config variable\n",
      "`--NotebookApp.iopub_msg_rate_limit`.\n",
      "\n",
      "Current values:\n",
      "NotebookApp.iopub_msg_rate_limit=1000.0 (msgs/sec)\n",
      "NotebookApp.rate_limit_window=3.0 (secs)\n",
      "\n",
      "Cleaning column [country]:  94%|███████████████████████████████████████████████   | 186771/198509 [12:32<00:55, 211.43it/s]IOPub message rate exceeded.\n",
      "The notebook server will temporarily stop sending output\n",
      "to the client in order to avoid crashing it.\n",
      "To change this limit, set the config variable\n",
      "`--NotebookApp.iopub_msg_rate_limit`.\n",
      "\n",
      "Current values:\n",
      "NotebookApp.iopub_msg_rate_limit=1000.0 (msgs/sec)\n",
      "NotebookApp.rate_limit_window=3.0 (secs)\n",
      "\n",
      "Cleaning column [country]:  96%|████████████████████████████████████████████████  | 190712/198509 [12:46<00:30, 254.64it/s]IOPub message rate exceeded.\n",
      "The notebook server will temporarily stop sending output\n",
      "to the client in order to avoid crashing it.\n",
      "To change this limit, set the config variable\n",
      "`--NotebookApp.iopub_msg_rate_limit`.\n",
      "\n",
      "Current values:\n",
      "NotebookApp.iopub_msg_rate_limit=1000.0 (msgs/sec)\n",
      "NotebookApp.rate_limit_window=3.0 (secs)\n",
      "\n",
      "Cleaning column [country]:  98%|████████████████████████████████████████████████▉ | 194341/198509 [12:59<00:13, 311.26it/s]IOPub message rate exceeded.\n",
      "The notebook server will temporarily stop sending output\n",
      "to the client in order to avoid crashing it.\n",
      "To change this limit, set the config variable\n",
      "`--NotebookApp.iopub_msg_rate_limit`.\n",
      "\n",
      "Current values:\n",
      "NotebookApp.iopub_msg_rate_limit=1000.0 (msgs/sec)\n",
      "NotebookApp.rate_limit_window=3.0 (secs)\n",
      "\n",
      "Cleaning column [country]: 100%|██████████████████████████████████████████████████| 198509/198509 [13:15<00:00, 249.69it/s]\n"
     ]
    }
   ],
   "source": [
    "wiki_df = country_cleaner_obj.clean_df(df=wiki_df, cols=['country'], output_names_as= 'suffix')"
   ]
  },
  {
   "cell_type": "code",
   "execution_count": 15,
   "id": "494437ec",
   "metadata": {},
   "outputs": [
    {
     "data": {
      "text/html": [
       "<div>\n",
       "<style scoped>\n",
       "    .dataframe tbody tr th:only-of-type {\n",
       "        vertical-align: middle;\n",
       "    }\n",
       "\n",
       "    .dataframe tbody tr th {\n",
       "        vertical-align: top;\n",
       "    }\n",
       "\n",
       "    .dataframe thead th {\n",
       "        text-align: right;\n",
       "    }\n",
       "</style>\n",
       "<table border=\"1\" class=\"dataframe\">\n",
       "  <thead>\n",
       "    <tr style=\"text-align: right;\">\n",
       "      <th></th>\n",
       "      <th>short_name</th>\n",
       "      <th>aliases</th>\n",
       "      <th>company_name</th>\n",
       "      <th>country</th>\n",
       "      <th>lei</th>\n",
       "      <th>country_short_name</th>\n",
       "      <th>country_alpha2</th>\n",
       "    </tr>\n",
       "  </thead>\n",
       "  <tbody>\n",
       "    <tr>\n",
       "      <th>0</th>\n",
       "      <td>Boeing</td>\n",
       "      <td>['The Boeing Company', 'Boeing Company']</td>\n",
       "      <td>THE BOEING COMPANY</td>\n",
       "      <td>United States of America</td>\n",
       "      <td>RVHJWBXLJ1RFUBSY1F30</td>\n",
       "      <td>united states</td>\n",
       "      <td>us</td>\n",
       "    </tr>\n",
       "    <tr>\n",
       "      <th>1</th>\n",
       "      <td>Airbus</td>\n",
       "      <td>['Airbus Commercial Aircraft']</td>\n",
       "      <td>Airbus SE</td>\n",
       "      <td>France</td>\n",
       "      <td>529900FCMZ4LKXFD0R69</td>\n",
       "      <td>france</td>\n",
       "      <td>fr</td>\n",
       "    </tr>\n",
       "    <tr>\n",
       "      <th>2</th>\n",
       "      <td>Google</td>\n",
       "      <td>['Google Inc.', 'Google LLC']</td>\n",
       "      <td>Google LLC</td>\n",
       "      <td>United States of America</td>\n",
       "      <td>7ZW8QJWVPR4P1J1KQY45</td>\n",
       "      <td>united states</td>\n",
       "      <td>us</td>\n",
       "    </tr>\n",
       "    <tr>\n",
       "      <th>3</th>\n",
       "      <td>Intel</td>\n",
       "      <td>['Intel Corporation', 'N M Electronics', 'Inte...</td>\n",
       "      <td>Intel Corporation</td>\n",
       "      <td>United States of America</td>\n",
       "      <td>KNX4USFCNGPY45LOCE31</td>\n",
       "      <td>united states</td>\n",
       "      <td>us</td>\n",
       "    </tr>\n",
       "    <tr>\n",
       "      <th>4</th>\n",
       "      <td>Apple Inc.</td>\n",
       "      <td>['Apple Computer, Inc.', 'Apple Computer Inc',...</td>\n",
       "      <td>Apple Inc.</td>\n",
       "      <td>United States of America</td>\n",
       "      <td>HWUPKR0MPOU8FGXBT394</td>\n",
       "      <td>united states</td>\n",
       "      <td>us</td>\n",
       "    </tr>\n",
       "  </tbody>\n",
       "</table>\n",
       "</div>"
      ],
      "text/plain": [
       "   short_name                                            aliases  \\\n",
       "0      Boeing           ['The Boeing Company', 'Boeing Company']   \n",
       "1      Airbus                     ['Airbus Commercial Aircraft']   \n",
       "2      Google                      ['Google Inc.', 'Google LLC']   \n",
       "3       Intel  ['Intel Corporation', 'N M Electronics', 'Inte...   \n",
       "4  Apple Inc.  ['Apple Computer, Inc.', 'Apple Computer Inc',...   \n",
       "\n",
       "         company_name                   country                   lei  \\\n",
       "0  THE BOEING COMPANY  United States of America  RVHJWBXLJ1RFUBSY1F30   \n",
       "1           Airbus SE                    France  529900FCMZ4LKXFD0R69   \n",
       "2          Google LLC  United States of America  7ZW8QJWVPR4P1J1KQY45   \n",
       "3   Intel Corporation  United States of America  KNX4USFCNGPY45LOCE31   \n",
       "4          Apple Inc.  United States of America  HWUPKR0MPOU8FGXBT394   \n",
       "\n",
       "  country_short_name country_alpha2  \n",
       "0      united states             us  \n",
       "1             france             fr  \n",
       "2      united states             us  \n",
       "3      united states             us  \n",
       "4      united states             us  "
      ]
     },
     "execution_count": 15,
     "metadata": {},
     "output_type": "execute_result"
    }
   ],
   "source": [
    "wiki_df.head()"
   ]
  },
  {
   "cell_type": "markdown",
   "id": "c14078ed",
   "metadata": {},
   "source": [
    "## 3. Cleaning IDs"
   ]
  },
  {
   "cell_type": "code",
   "execution_count": 13,
   "id": "c7603747",
   "metadata": {},
   "outputs": [],
   "source": [
    "# Create an object based on the BankingIdCleaner() class\n",
    "id_cleaner_obj = BankingIdCleaner()"
   ]
  },
  {
   "cell_type": "code",
   "execution_count": 14,
   "id": "e6f0ac15",
   "metadata": {},
   "outputs": [],
   "source": [
    "# Setup cleaning properties\n",
    "id_cleaner_obj.invalid_ids_as_nan = True\n",
    "id_cleaner_obj.validation_as_categorical = True\n",
    "id_cleaner_obj.output_lettercase = \"BankingIdCleaner.UPPER_LETTER_CASE\""
   ]
  },
  {
   "cell_type": "code",
   "execution_count": 16,
   "id": "53a6cc0e",
   "metadata": {},
   "outputs": [
    {
     "name": "stderr",
     "output_type": "stream",
     "text": [
      "Column [lei] Type [lei] : 100%|██████████████████████████████████████████████████| 198509/198509 [11:41<00:00, 283.01it/s]\n"
     ]
    }
   ],
   "source": [
    "wiki_df = id_cleaner_obj.clean_df(wiki_df, cols=['lei'], remove_cols= True, \n",
    "                                   output_names_as= 'suffix', types = ['lei'])"
   ]
  },
  {
   "cell_type": "code",
   "execution_count": 25,
   "id": "0ddf1791",
   "metadata": {},
   "outputs": [
    {
     "data": {
      "text/html": [
       "<div>\n",
       "<style scoped>\n",
       "    .dataframe tbody tr th:only-of-type {\n",
       "        vertical-align: middle;\n",
       "    }\n",
       "\n",
       "    .dataframe tbody tr th {\n",
       "        vertical-align: top;\n",
       "    }\n",
       "\n",
       "    .dataframe thead th {\n",
       "        text-align: right;\n",
       "    }\n",
       "</style>\n",
       "<table border=\"1\" class=\"dataframe\">\n",
       "  <thead>\n",
       "    <tr style=\"text-align: right;\">\n",
       "      <th></th>\n",
       "      <th>short_name</th>\n",
       "      <th>aliases</th>\n",
       "      <th>company_name</th>\n",
       "      <th>country</th>\n",
       "      <th>country_short_name</th>\n",
       "      <th>country_alpha2</th>\n",
       "      <th>lei_cleaned_id</th>\n",
       "      <th>lei_isvalid_id</th>\n",
       "      <th>company_name_clean</th>\n",
       "    </tr>\n",
       "  </thead>\n",
       "  <tbody>\n",
       "    <tr>\n",
       "      <th>0</th>\n",
       "      <td>Boeing</td>\n",
       "      <td>['The Boeing Company', 'Boeing Company']</td>\n",
       "      <td>THE BOEING COMPANY</td>\n",
       "      <td>United States of America</td>\n",
       "      <td>united states</td>\n",
       "      <td>us</td>\n",
       "      <td>RVHJWBXLJ1RFUBSY1F30</td>\n",
       "      <td>1.0</td>\n",
       "      <td>the boeing company</td>\n",
       "    </tr>\n",
       "    <tr>\n",
       "      <th>1</th>\n",
       "      <td>Airbus</td>\n",
       "      <td>['Airbus Commercial Aircraft']</td>\n",
       "      <td>Airbus SE</td>\n",
       "      <td>France</td>\n",
       "      <td>france</td>\n",
       "      <td>fr</td>\n",
       "      <td>529900FCMZ4LKXFD0R69</td>\n",
       "      <td>1.0</td>\n",
       "      <td>airbus se</td>\n",
       "    </tr>\n",
       "    <tr>\n",
       "      <th>2</th>\n",
       "      <td>Google</td>\n",
       "      <td>['Google Inc.', 'Google LLC']</td>\n",
       "      <td>Google LLC</td>\n",
       "      <td>United States of America</td>\n",
       "      <td>united states</td>\n",
       "      <td>us</td>\n",
       "      <td>7ZW8QJWVPR4P1J1KQY45</td>\n",
       "      <td>1.0</td>\n",
       "      <td>google limited liability company</td>\n",
       "    </tr>\n",
       "    <tr>\n",
       "      <th>3</th>\n",
       "      <td>Intel</td>\n",
       "      <td>['Intel Corporation', 'N M Electronics', 'Inte...</td>\n",
       "      <td>Intel Corporation</td>\n",
       "      <td>United States of America</td>\n",
       "      <td>united states</td>\n",
       "      <td>us</td>\n",
       "      <td>KNX4USFCNGPY45LOCE31</td>\n",
       "      <td>1.0</td>\n",
       "      <td>intel corporation</td>\n",
       "    </tr>\n",
       "    <tr>\n",
       "      <th>4</th>\n",
       "      <td>Apple Inc.</td>\n",
       "      <td>['Apple Computer, Inc.', 'Apple Computer Inc',...</td>\n",
       "      <td>Apple Inc.</td>\n",
       "      <td>United States of America</td>\n",
       "      <td>united states</td>\n",
       "      <td>us</td>\n",
       "      <td>HWUPKR0MPOU8FGXBT394</td>\n",
       "      <td>1.0</td>\n",
       "      <td>apple incorporated</td>\n",
       "    </tr>\n",
       "  </tbody>\n",
       "</table>\n",
       "</div>"
      ],
      "text/plain": [
       "   short_name                                            aliases  \\\n",
       "0      Boeing           ['The Boeing Company', 'Boeing Company']   \n",
       "1      Airbus                     ['Airbus Commercial Aircraft']   \n",
       "2      Google                      ['Google Inc.', 'Google LLC']   \n",
       "3       Intel  ['Intel Corporation', 'N M Electronics', 'Inte...   \n",
       "4  Apple Inc.  ['Apple Computer, Inc.', 'Apple Computer Inc',...   \n",
       "\n",
       "         company_name                   country country_short_name  \\\n",
       "0  THE BOEING COMPANY  United States of America      united states   \n",
       "1           Airbus SE                    France             france   \n",
       "2          Google LLC  United States of America      united states   \n",
       "3   Intel Corporation  United States of America      united states   \n",
       "4          Apple Inc.  United States of America      united states   \n",
       "\n",
       "  country_alpha2        lei_cleaned_id  lei_isvalid_id  \\\n",
       "0             us  RVHJWBXLJ1RFUBSY1F30             1.0   \n",
       "1             fr  529900FCMZ4LKXFD0R69             1.0   \n",
       "2             us  7ZW8QJWVPR4P1J1KQY45             1.0   \n",
       "3             us  KNX4USFCNGPY45LOCE31             1.0   \n",
       "4             us  HWUPKR0MPOU8FGXBT394             1.0   \n",
       "\n",
       "                 company_name_clean  \n",
       "0                the boeing company  \n",
       "1                         airbus se  \n",
       "2  google limited liability company  \n",
       "3                 intel corporation  \n",
       "4                apple incorporated  "
      ]
     },
     "execution_count": 25,
     "metadata": {},
     "output_type": "execute_result"
    }
   ],
   "source": [
    "wiki_df.head()"
   ]
  },
  {
   "cell_type": "markdown",
   "id": "3a803532",
   "metadata": {},
   "source": [
    "## 5. Cleaning Company's names"
   ]
  },
  {
   "cell_type": "code",
   "execution_count": 26,
   "id": "2d600639",
   "metadata": {},
   "outputs": [],
   "source": [
    "# Create a CompanyNameCleaner object\n",
    "company_cleaner_obj = CompanyNameCleaner()"
   ]
  },
  {
   "cell_type": "code",
   "execution_count": 27,
   "id": "99adc98c",
   "metadata": {},
   "outputs": [],
   "source": [
    "# Set cleaner properties\n",
    "company_cleaner_obj.normalize_legal_terms = True\n",
    "company_cleaner_obj.letter_case=\"lower\"\n",
    "company_cleaner_obj.remove_accents = True\n",
    "company_cleaner_obj.default_cleaning_rules = ['place_word_the_at_the_beginning',\n",
    "                                              'remove_words_in_asterisk', \n",
    "                                              'remove_words_in_parentheses',\n",
    "                                              'remove_question_marks_in_parentheses', \n",
    "                                              'replace_hyphen_by_space', \n",
    "                                              'replace_underscore_by_space', \n",
    "                                              'remove_text_puctuation_except_dot', \n",
    "                                              'remove_math_symbols', \n",
    "                                              'remove_parentheses', \n",
    "                                              'remove_brackets', \n",
    "                                              'remove_curly_brackets', \n",
    "                                              'remove_single_quote_next_character', \n",
    "                                              'remove_double_quote', \n",
    "                                              'enforce_single_space_between_words']"
   ]
  },
  {
   "cell_type": "code",
   "execution_count": 24,
   "id": "6aae82f9",
   "metadata": {},
   "outputs": [],
   "source": [
    "wiki_df = company_cleaner_obj.clean_df(wiki_df, 'company_name', 'company_name_clean', 'country_alpha2', 'True')"
   ]
  },
  {
   "cell_type": "code",
   "execution_count": 34,
   "id": "018e78a2",
   "metadata": {},
   "outputs": [],
   "source": [
    "wiki_df.reset_index(inplace=True)\n",
    "wiki_df = wiki_df.rename(columns = {'index':'company_id'})"
   ]
  },
  {
   "cell_type": "code",
   "execution_count": 35,
   "id": "698f6ecc",
   "metadata": {},
   "outputs": [
    {
     "data": {
      "text/html": [
       "<div>\n",
       "<style scoped>\n",
       "    .dataframe tbody tr th:only-of-type {\n",
       "        vertical-align: middle;\n",
       "    }\n",
       "\n",
       "    .dataframe tbody tr th {\n",
       "        vertical-align: top;\n",
       "    }\n",
       "\n",
       "    .dataframe thead th {\n",
       "        text-align: right;\n",
       "    }\n",
       "</style>\n",
       "<table border=\"1\" class=\"dataframe\">\n",
       "  <thead>\n",
       "    <tr style=\"text-align: right;\">\n",
       "      <th></th>\n",
       "      <th>company_id</th>\n",
       "      <th>short_name</th>\n",
       "      <th>aliases</th>\n",
       "      <th>company_name</th>\n",
       "      <th>country</th>\n",
       "      <th>country_short_name</th>\n",
       "      <th>country_alpha2</th>\n",
       "      <th>lei_cleaned_id</th>\n",
       "      <th>lei_isvalid_id</th>\n",
       "      <th>company_name_clean</th>\n",
       "    </tr>\n",
       "  </thead>\n",
       "  <tbody>\n",
       "    <tr>\n",
       "      <th>0</th>\n",
       "      <td>0</td>\n",
       "      <td>Boeing</td>\n",
       "      <td>['The Boeing Company', 'Boeing Company']</td>\n",
       "      <td>THE BOEING COMPANY</td>\n",
       "      <td>United States of America</td>\n",
       "      <td>united states</td>\n",
       "      <td>us</td>\n",
       "      <td>RVHJWBXLJ1RFUBSY1F30</td>\n",
       "      <td>1.0</td>\n",
       "      <td>the boeing company</td>\n",
       "    </tr>\n",
       "    <tr>\n",
       "      <th>1</th>\n",
       "      <td>1</td>\n",
       "      <td>Airbus</td>\n",
       "      <td>['Airbus Commercial Aircraft']</td>\n",
       "      <td>Airbus SE</td>\n",
       "      <td>France</td>\n",
       "      <td>france</td>\n",
       "      <td>fr</td>\n",
       "      <td>529900FCMZ4LKXFD0R69</td>\n",
       "      <td>1.0</td>\n",
       "      <td>airbus se</td>\n",
       "    </tr>\n",
       "    <tr>\n",
       "      <th>2</th>\n",
       "      <td>2</td>\n",
       "      <td>Google</td>\n",
       "      <td>['Google Inc.', 'Google LLC']</td>\n",
       "      <td>Google LLC</td>\n",
       "      <td>United States of America</td>\n",
       "      <td>united states</td>\n",
       "      <td>us</td>\n",
       "      <td>7ZW8QJWVPR4P1J1KQY45</td>\n",
       "      <td>1.0</td>\n",
       "      <td>google limited liability company</td>\n",
       "    </tr>\n",
       "    <tr>\n",
       "      <th>3</th>\n",
       "      <td>3</td>\n",
       "      <td>Intel</td>\n",
       "      <td>['Intel Corporation', 'N M Electronics', 'Inte...</td>\n",
       "      <td>Intel Corporation</td>\n",
       "      <td>United States of America</td>\n",
       "      <td>united states</td>\n",
       "      <td>us</td>\n",
       "      <td>KNX4USFCNGPY45LOCE31</td>\n",
       "      <td>1.0</td>\n",
       "      <td>intel corporation</td>\n",
       "    </tr>\n",
       "    <tr>\n",
       "      <th>4</th>\n",
       "      <td>4</td>\n",
       "      <td>Apple Inc.</td>\n",
       "      <td>['Apple Computer, Inc.', 'Apple Computer Inc',...</td>\n",
       "      <td>Apple Inc.</td>\n",
       "      <td>United States of America</td>\n",
       "      <td>united states</td>\n",
       "      <td>us</td>\n",
       "      <td>HWUPKR0MPOU8FGXBT394</td>\n",
       "      <td>1.0</td>\n",
       "      <td>apple incorporated</td>\n",
       "    </tr>\n",
       "  </tbody>\n",
       "</table>\n",
       "</div>"
      ],
      "text/plain": [
       "   company_id  short_name                                            aliases  \\\n",
       "0           0      Boeing           ['The Boeing Company', 'Boeing Company']   \n",
       "1           1      Airbus                     ['Airbus Commercial Aircraft']   \n",
       "2           2      Google                      ['Google Inc.', 'Google LLC']   \n",
       "3           3       Intel  ['Intel Corporation', 'N M Electronics', 'Inte...   \n",
       "4           4  Apple Inc.  ['Apple Computer, Inc.', 'Apple Computer Inc',...   \n",
       "\n",
       "         company_name                   country country_short_name  \\\n",
       "0  THE BOEING COMPANY  United States of America      united states   \n",
       "1           Airbus SE                    France             france   \n",
       "2          Google LLC  United States of America      united states   \n",
       "3   Intel Corporation  United States of America      united states   \n",
       "4          Apple Inc.  United States of America      united states   \n",
       "\n",
       "  country_alpha2        lei_cleaned_id  lei_isvalid_id  \\\n",
       "0             us  RVHJWBXLJ1RFUBSY1F30             1.0   \n",
       "1             fr  529900FCMZ4LKXFD0R69             1.0   \n",
       "2             us  7ZW8QJWVPR4P1J1KQY45             1.0   \n",
       "3             us  KNX4USFCNGPY45LOCE31             1.0   \n",
       "4             us  HWUPKR0MPOU8FGXBT394             1.0   \n",
       "\n",
       "                 company_name_clean  \n",
       "0                the boeing company  \n",
       "1                         airbus se  \n",
       "2  google limited liability company  \n",
       "3                 intel corporation  \n",
       "4                apple incorporated  "
      ]
     },
     "execution_count": 35,
     "metadata": {},
     "output_type": "execute_result"
    }
   ],
   "source": [
    "wiki_df.head()"
   ]
  },
  {
   "cell_type": "code",
   "execution_count": 36,
   "id": "b097480d",
   "metadata": {},
   "outputs": [
    {
     "name": "stdout",
     "output_type": "stream",
     "text": [
      "Total companies in WIKI 198509\n"
     ]
    }
   ],
   "source": [
    "print('Total companies in WIKI {}'.format(wiki_df.shape[0]))"
   ]
  },
  {
   "cell_type": "markdown",
   "id": "38eff9b6",
   "metadata": {},
   "source": [
    "## 6. Save cleaned WIKI"
   ]
  },
  {
   "cell_type": "code",
   "execution_count": 37,
   "id": "ee8def7a",
   "metadata": {},
   "outputs": [],
   "source": [
    "# Save locally to \"data\" folder\n",
    "saved_path = \"..\\..\\data\\cleaned\"\n",
    "filename = \"wiki_cleaned.csv\"\n",
    "wiki_filename = os.path.join(saved_path, filename)\n",
    "wiki_df.to_csv(wiki_filename, header=True, index=False)"
   ]
  },
  {
   "cell_type": "code",
   "execution_count": 38,
   "id": "2672d7b7",
   "metadata": {},
   "outputs": [],
   "source": [
    "# From the AWS Account page, copy the export scripts from the appropriate role using the \"Command Line or Programmatic Access\" link\n",
    "# Paste the copied text into ~/credentials.env\n",
    "\n",
    "from dotenv import dotenv_values, load_dotenv\n",
    "import os\n",
    "import pathlib\n",
    "\n",
    "dotenv_dir = os.environ.get('CREDENTIAL_DOTENV_DIR', os.environ.get('PWD', '/opt/app-root/src'))\n",
    "dotenv_path = pathlib.Path(dotenv_dir) / 'credentials.env'\n",
    "if os.path.exists(dotenv_path):\n",
    "    load_dotenv(dotenv_path=dotenv_path,override=True)"
   ]
  },
  {
   "cell_type": "code",
   "execution_count": 39,
   "id": "52cae40d",
   "metadata": {},
   "outputs": [],
   "source": [
    "import boto3\n",
    "s3_resource = boto3.resource(\n",
    "    service_name=\"s3\",\n",
    "    endpoint_url=os.environ['S3_LANDING_ENDPOINT'],\n",
    "    aws_access_key_id=os.environ['S3_LANDING_ACCESS_KEY'],\n",
    "    aws_secret_access_key=os.environ['S3_LANDING_SECRET_KEY'],\n",
    ")\n",
    "bucket_name = os.environ['S3_LANDING_BUCKET']\n",
    "bucket = s3_resource.Bucket(bucket_name)"
   ]
  },
  {
   "cell_type": "code",
   "execution_count": 40,
   "id": "5a8df31e",
   "metadata": {},
   "outputs": [],
   "source": [
    "# Save final results to S3\n",
    "s3_filename = 'WIKI/cleaned/wiki_cleaned.csv'\n",
    "s3_resource.meta.client.upload_file(Filename=wiki_filename, Bucket=bucket_name, Key=s3_filename)"
   ]
  },
  {
   "cell_type": "code",
   "execution_count": null,
   "id": "2b2a32cf",
   "metadata": {},
   "outputs": [],
   "source": []
  }
 ],
 "metadata": {
  "kernelspec": {
   "display_name": "Python 3 (ipykernel)",
   "language": "python",
   "name": "python3"
  },
  "language_info": {
   "codemirror_mode": {
    "name": "ipython",
    "version": 3
   },
   "file_extension": ".py",
   "mimetype": "text/x-python",
   "name": "python",
   "nbconvert_exporter": "python",
   "pygments_lexer": "ipython3",
   "version": "3.8.10"
  }
 },
 "nbformat": 4,
 "nbformat_minor": 5
}
