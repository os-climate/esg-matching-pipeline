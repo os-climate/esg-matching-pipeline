{
 "cells": [
  {
   "cell_type": "markdown",
   "id": "b9adfe2d",
   "metadata": {},
   "source": [
    "# Cleaning GLEIF pre-processed file"
   ]
  },
  {
   "cell_type": "markdown",
   "id": "82c2b39f",
   "metadata": {},
   "source": [
    "This notebook reads the pre-processed GLEIF dataset from local data folder and performs the cleaning of country, IDs and company's names. The final result is saved locally and in the GLEIF S3 bucket."
   ]
  },
  {
   "cell_type": "code",
   "execution_count": 1,
   "id": "25b3d075",
   "metadata": {},
   "outputs": [],
   "source": [
    "import pandas as pd\n",
    "import os"
   ]
  },
  {
   "cell_type": "code",
   "execution_count": 2,
   "id": "e9eaf0a3",
   "metadata": {},
   "outputs": [],
   "source": [
    "# Import CountryCleaner\n",
    "from financial_entity_cleaner.location import CountryCleaner"
   ]
  },
  {
   "cell_type": "code",
   "execution_count": 3,
   "id": "295a1585",
   "metadata": {},
   "outputs": [],
   "source": [
    "# Import the module for cleaning company's name\n",
    "from financial_entity_cleaner.company import CompanyNameCleaner"
   ]
  },
  {
   "cell_type": "code",
   "execution_count": 4,
   "id": "1f0e22f5",
   "metadata": {},
   "outputs": [],
   "source": [
    "# Import BankingIdCleaner\n",
    "from financial_entity_cleaner.id import BankingIdCleaner"
   ]
  },
  {
   "cell_type": "markdown",
   "id": "7868f300",
   "metadata": {},
   "source": [
    "## 1. Read GLEIF pre-processed file"
   ]
  },
  {
   "cell_type": "code",
   "execution_count": 5,
   "id": "61e37780",
   "metadata": {},
   "outputs": [],
   "source": [
    "# Save locally to \"data\" folder\n",
    "saved_path = \"..\\..\\data\\pre_processed\"\n",
    "filename = \"gleif_pre_processed.csv\""
   ]
  },
  {
   "cell_type": "code",
   "execution_count": 8,
   "id": "cfe58e41",
   "metadata": {},
   "outputs": [],
   "source": [
    "gleif_df = pd.read_csv(os.path.join(saved_path, filename), low_memory=False)"
   ]
  },
  {
   "cell_type": "code",
   "execution_count": 9,
   "id": "b35e3fd4",
   "metadata": {},
   "outputs": [
    {
     "data": {
      "text/html": [
       "<div>\n",
       "<style scoped>\n",
       "    .dataframe tbody tr th:only-of-type {\n",
       "        vertical-align: middle;\n",
       "    }\n",
       "\n",
       "    .dataframe tbody tr th {\n",
       "        vertical-align: top;\n",
       "    }\n",
       "\n",
       "    .dataframe thead th {\n",
       "        text-align: right;\n",
       "    }\n",
       "</style>\n",
       "<table border=\"1\" class=\"dataframe\">\n",
       "  <thead>\n",
       "    <tr style=\"text-align: right;\">\n",
       "      <th></th>\n",
       "      <th>lei</th>\n",
       "      <th>legal_name</th>\n",
       "      <th>other_name1</th>\n",
       "      <th>other_name2</th>\n",
       "      <th>other_name3</th>\n",
       "      <th>other_name4</th>\n",
       "      <th>other_name5</th>\n",
       "      <th>legal_country</th>\n",
       "      <th>headquarter_country</th>\n",
       "      <th>status</th>\n",
       "    </tr>\n",
       "  </thead>\n",
       "  <tbody>\n",
       "    <tr>\n",
       "      <th>0</th>\n",
       "      <td>001GPB6A9XPE8XJICC14</td>\n",
       "      <td>FIDELITY ADVISOR SERIES I - Fidelity Advisor L...</td>\n",
       "      <td>NaN</td>\n",
       "      <td>NaN</td>\n",
       "      <td>NaN</td>\n",
       "      <td>NaN</td>\n",
       "      <td>NaN</td>\n",
       "      <td>US</td>\n",
       "      <td>US</td>\n",
       "      <td>ACTIVE</td>\n",
       "    </tr>\n",
       "    <tr>\n",
       "      <th>1</th>\n",
       "      <td>004L5FPTUREIWK9T2N63</td>\n",
       "      <td>Hutchin Hill Capital, LP</td>\n",
       "      <td>NaN</td>\n",
       "      <td>NaN</td>\n",
       "      <td>NaN</td>\n",
       "      <td>NaN</td>\n",
       "      <td>NaN</td>\n",
       "      <td>US</td>\n",
       "      <td>US</td>\n",
       "      <td>ACTIVE</td>\n",
       "    </tr>\n",
       "    <tr>\n",
       "      <th>2</th>\n",
       "      <td>00EHHQ2ZHDCFXJCPCL46</td>\n",
       "      <td>Vanguard Russell 1000 Growth Index Trust</td>\n",
       "      <td>NaN</td>\n",
       "      <td>NaN</td>\n",
       "      <td>NaN</td>\n",
       "      <td>NaN</td>\n",
       "      <td>NaN</td>\n",
       "      <td>US</td>\n",
       "      <td>US</td>\n",
       "      <td>ACTIVE</td>\n",
       "    </tr>\n",
       "    <tr>\n",
       "      <th>3</th>\n",
       "      <td>00GBW0Z2GYIER7DHDS71</td>\n",
       "      <td>ARISTEIA CAPITAL, L.L.C.</td>\n",
       "      <td>NaN</td>\n",
       "      <td>NaN</td>\n",
       "      <td>NaN</td>\n",
       "      <td>NaN</td>\n",
       "      <td>NaN</td>\n",
       "      <td>US</td>\n",
       "      <td>US</td>\n",
       "      <td>ACTIVE</td>\n",
       "    </tr>\n",
       "    <tr>\n",
       "      <th>4</th>\n",
       "      <td>00KLB2PFTM3060S2N216</td>\n",
       "      <td>HARRIS ASSOCIATES INVESTMENT TRUST - Oakmark I...</td>\n",
       "      <td>NaN</td>\n",
       "      <td>NaN</td>\n",
       "      <td>NaN</td>\n",
       "      <td>NaN</td>\n",
       "      <td>NaN</td>\n",
       "      <td>US</td>\n",
       "      <td>US</td>\n",
       "      <td>ACTIVE</td>\n",
       "    </tr>\n",
       "  </tbody>\n",
       "</table>\n",
       "</div>"
      ],
      "text/plain": [
       "                    lei                                         legal_name  \\\n",
       "0  001GPB6A9XPE8XJICC14  FIDELITY ADVISOR SERIES I - Fidelity Advisor L...   \n",
       "1  004L5FPTUREIWK9T2N63                           Hutchin Hill Capital, LP   \n",
       "2  00EHHQ2ZHDCFXJCPCL46           Vanguard Russell 1000 Growth Index Trust   \n",
       "3  00GBW0Z2GYIER7DHDS71                           ARISTEIA CAPITAL, L.L.C.   \n",
       "4  00KLB2PFTM3060S2N216  HARRIS ASSOCIATES INVESTMENT TRUST - Oakmark I...   \n",
       "\n",
       "  other_name1 other_name2 other_name3 other_name4 other_name5 legal_country  \\\n",
       "0         NaN         NaN         NaN         NaN         NaN            US   \n",
       "1         NaN         NaN         NaN         NaN         NaN            US   \n",
       "2         NaN         NaN         NaN         NaN         NaN            US   \n",
       "3         NaN         NaN         NaN         NaN         NaN            US   \n",
       "4         NaN         NaN         NaN         NaN         NaN            US   \n",
       "\n",
       "  headquarter_country  status  \n",
       "0                  US  ACTIVE  \n",
       "1                  US  ACTIVE  \n",
       "2                  US  ACTIVE  \n",
       "3                  US  ACTIVE  \n",
       "4                  US  ACTIVE  "
      ]
     },
     "execution_count": 9,
     "metadata": {},
     "output_type": "execute_result"
    }
   ],
   "source": [
    "gleif_df.head()"
   ]
  },
  {
   "cell_type": "markdown",
   "id": "f61ff115",
   "metadata": {},
   "source": [
    "## 2. Cleaning County information"
   ]
  },
  {
   "cell_type": "code",
   "execution_count": 10,
   "id": "2e5448c6",
   "metadata": {},
   "outputs": [],
   "source": [
    "# Create an object based on CountryCleaner() class\n",
    "country_cleaner_obj=CountryCleaner()"
   ]
  },
  {
   "cell_type": "code",
   "execution_count": 11,
   "id": "1e4366c5",
   "metadata": {},
   "outputs": [],
   "source": [
    "country_cleaner_obj.letter_case='lower'\n",
    "country_cleaner_obj.output_info = [CountryCleaner.ATTRIBUTE_ALPHA2,\n",
    "                                   CountryCleaner.ATTRIBUTE_SHORT_NAME]"
   ]
  },
  {
   "cell_type": "code",
   "execution_count": 12,
   "id": "acc9f59d",
   "metadata": {},
   "outputs": [
    {
     "name": "stderr",
     "output_type": "stream",
     "text": [
      "Cleaning column [headquarter_country]: 100%|██████████████████████████████████████████████████| 2252977/2252977 [4:50:10<00:00, 129.40it/s]  \n"
     ]
    }
   ],
   "source": [
    "gleif_df = country_cleaner_obj.clean_df(df=gleif_df, cols=['legal_country', 'headquarter_country'], output_names_as= 'suffix')"
   ]
  },
  {
   "cell_type": "code",
   "execution_count": 14,
   "id": "06b1c6e0",
   "metadata": {},
   "outputs": [],
   "source": [
    "gleif_df=spott_df"
   ]
  },
  {
   "cell_type": "code",
   "execution_count": null,
   "id": "73b72875",
   "metadata": {},
   "outputs": [],
   "source": [
    "gleif_df.drop(['legal_country', 'headquarter_country'], axis=1, inplace=True)"
   ]
  },
  {
   "cell_type": "code",
   "execution_count": 15,
   "id": "494437ec",
   "metadata": {},
   "outputs": [
    {
     "data": {
      "text/html": [
       "<div>\n",
       "<style scoped>\n",
       "    .dataframe tbody tr th:only-of-type {\n",
       "        vertical-align: middle;\n",
       "    }\n",
       "\n",
       "    .dataframe tbody tr th {\n",
       "        vertical-align: top;\n",
       "    }\n",
       "\n",
       "    .dataframe thead th {\n",
       "        text-align: right;\n",
       "    }\n",
       "</style>\n",
       "<table border=\"1\" class=\"dataframe\">\n",
       "  <thead>\n",
       "    <tr style=\"text-align: right;\">\n",
       "      <th></th>\n",
       "      <th>lei</th>\n",
       "      <th>legal_name</th>\n",
       "      <th>other_name1</th>\n",
       "      <th>other_name2</th>\n",
       "      <th>other_name3</th>\n",
       "      <th>other_name4</th>\n",
       "      <th>other_name5</th>\n",
       "      <th>legal_country</th>\n",
       "      <th>headquarter_country</th>\n",
       "      <th>status</th>\n",
       "      <th>legal_country_short_name</th>\n",
       "      <th>legal_country_alpha2</th>\n",
       "      <th>headquarter_country_short_name</th>\n",
       "      <th>headquarter_country_alpha2</th>\n",
       "    </tr>\n",
       "  </thead>\n",
       "  <tbody>\n",
       "    <tr>\n",
       "      <th>0</th>\n",
       "      <td>001GPB6A9XPE8XJICC14</td>\n",
       "      <td>FIDELITY ADVISOR SERIES I - Fidelity Advisor L...</td>\n",
       "      <td>NaN</td>\n",
       "      <td>NaN</td>\n",
       "      <td>NaN</td>\n",
       "      <td>NaN</td>\n",
       "      <td>NaN</td>\n",
       "      <td>US</td>\n",
       "      <td>US</td>\n",
       "      <td>ACTIVE</td>\n",
       "      <td>united states</td>\n",
       "      <td>us</td>\n",
       "      <td>united states</td>\n",
       "      <td>us</td>\n",
       "    </tr>\n",
       "    <tr>\n",
       "      <th>1</th>\n",
       "      <td>004L5FPTUREIWK9T2N63</td>\n",
       "      <td>Hutchin Hill Capital, LP</td>\n",
       "      <td>NaN</td>\n",
       "      <td>NaN</td>\n",
       "      <td>NaN</td>\n",
       "      <td>NaN</td>\n",
       "      <td>NaN</td>\n",
       "      <td>US</td>\n",
       "      <td>US</td>\n",
       "      <td>ACTIVE</td>\n",
       "      <td>united states</td>\n",
       "      <td>us</td>\n",
       "      <td>united states</td>\n",
       "      <td>us</td>\n",
       "    </tr>\n",
       "    <tr>\n",
       "      <th>2</th>\n",
       "      <td>00EHHQ2ZHDCFXJCPCL46</td>\n",
       "      <td>Vanguard Russell 1000 Growth Index Trust</td>\n",
       "      <td>NaN</td>\n",
       "      <td>NaN</td>\n",
       "      <td>NaN</td>\n",
       "      <td>NaN</td>\n",
       "      <td>NaN</td>\n",
       "      <td>US</td>\n",
       "      <td>US</td>\n",
       "      <td>ACTIVE</td>\n",
       "      <td>united states</td>\n",
       "      <td>us</td>\n",
       "      <td>united states</td>\n",
       "      <td>us</td>\n",
       "    </tr>\n",
       "    <tr>\n",
       "      <th>3</th>\n",
       "      <td>00GBW0Z2GYIER7DHDS71</td>\n",
       "      <td>ARISTEIA CAPITAL, L.L.C.</td>\n",
       "      <td>NaN</td>\n",
       "      <td>NaN</td>\n",
       "      <td>NaN</td>\n",
       "      <td>NaN</td>\n",
       "      <td>NaN</td>\n",
       "      <td>US</td>\n",
       "      <td>US</td>\n",
       "      <td>ACTIVE</td>\n",
       "      <td>united states</td>\n",
       "      <td>us</td>\n",
       "      <td>united states</td>\n",
       "      <td>us</td>\n",
       "    </tr>\n",
       "    <tr>\n",
       "      <th>4</th>\n",
       "      <td>00KLB2PFTM3060S2N216</td>\n",
       "      <td>HARRIS ASSOCIATES INVESTMENT TRUST - Oakmark I...</td>\n",
       "      <td>NaN</td>\n",
       "      <td>NaN</td>\n",
       "      <td>NaN</td>\n",
       "      <td>NaN</td>\n",
       "      <td>NaN</td>\n",
       "      <td>US</td>\n",
       "      <td>US</td>\n",
       "      <td>ACTIVE</td>\n",
       "      <td>united states</td>\n",
       "      <td>us</td>\n",
       "      <td>united states</td>\n",
       "      <td>us</td>\n",
       "    </tr>\n",
       "  </tbody>\n",
       "</table>\n",
       "</div>"
      ],
      "text/plain": [
       "                    lei                                         legal_name  \\\n",
       "0  001GPB6A9XPE8XJICC14  FIDELITY ADVISOR SERIES I - Fidelity Advisor L...   \n",
       "1  004L5FPTUREIWK9T2N63                           Hutchin Hill Capital, LP   \n",
       "2  00EHHQ2ZHDCFXJCPCL46           Vanguard Russell 1000 Growth Index Trust   \n",
       "3  00GBW0Z2GYIER7DHDS71                           ARISTEIA CAPITAL, L.L.C.   \n",
       "4  00KLB2PFTM3060S2N216  HARRIS ASSOCIATES INVESTMENT TRUST - Oakmark I...   \n",
       "\n",
       "  other_name1 other_name2 other_name3 other_name4 other_name5 legal_country  \\\n",
       "0         NaN         NaN         NaN         NaN         NaN            US   \n",
       "1         NaN         NaN         NaN         NaN         NaN            US   \n",
       "2         NaN         NaN         NaN         NaN         NaN            US   \n",
       "3         NaN         NaN         NaN         NaN         NaN            US   \n",
       "4         NaN         NaN         NaN         NaN         NaN            US   \n",
       "\n",
       "  headquarter_country  status legal_country_short_name legal_country_alpha2  \\\n",
       "0                  US  ACTIVE            united states                   us   \n",
       "1                  US  ACTIVE            united states                   us   \n",
       "2                  US  ACTIVE            united states                   us   \n",
       "3                  US  ACTIVE            united states                   us   \n",
       "4                  US  ACTIVE            united states                   us   \n",
       "\n",
       "  headquarter_country_short_name headquarter_country_alpha2  \n",
       "0                  united states                         us  \n",
       "1                  united states                         us  \n",
       "2                  united states                         us  \n",
       "3                  united states                         us  \n",
       "4                  united states                         us  "
      ]
     },
     "execution_count": 15,
     "metadata": {},
     "output_type": "execute_result"
    }
   ],
   "source": [
    "gleif_df.head()"
   ]
  },
  {
   "cell_type": "markdown",
   "id": "c14078ed",
   "metadata": {},
   "source": [
    "## 3. Cleaning LEI"
   ]
  },
  {
   "cell_type": "code",
   "execution_count": null,
   "id": "c7603747",
   "metadata": {},
   "outputs": [],
   "source": [
    "# Create an object based on the BankingIdCleaner() class\n",
    "id_cleaner_obj = BankingIdCleaner()"
   ]
  },
  {
   "cell_type": "code",
   "execution_count": null,
   "id": "e6f0ac15",
   "metadata": {},
   "outputs": [],
   "source": [
    "# Setup cleaning properties\n",
    "id_cleaner_obj.invalid_ids_as_nan = True\n",
    "id_cleaner_obj.validation_as_categorical = True\n",
    "id_cleaner_obj.output_lettercase = \"BankingIdCleaner.UPPER_LETTER_CASE\""
   ]
  },
  {
   "cell_type": "code",
   "execution_count": null,
   "id": "53a6cc0e",
   "metadata": {},
   "outputs": [],
   "source": [
    "gleif_df = id_cleaner_obj.clean_df(gleif_df, cols=['lei'], remove_cols= True, \n",
    "                                   output_names_as= 'suffix', types = ['lei'])"
   ]
  },
  {
   "cell_type": "code",
   "execution_count": null,
   "id": "0ddf1791",
   "metadata": {},
   "outputs": [],
   "source": [
    "gleif_df.head()"
   ]
  },
  {
   "cell_type": "markdown",
   "id": "3a803532",
   "metadata": {},
   "source": [
    "## 5. Cleaning Company's names"
   ]
  },
  {
   "cell_type": "code",
   "execution_count": 16,
   "id": "2d600639",
   "metadata": {},
   "outputs": [],
   "source": [
    "# Create a CompanyNameCleaner object\n",
    "company_cleaner_obj = CompanyNameCleaner()"
   ]
  },
  {
   "cell_type": "code",
   "execution_count": 17,
   "id": "99adc98c",
   "metadata": {},
   "outputs": [],
   "source": [
    "# Set cleaner properties\n",
    "company_cleaner_obj.normalize_legal_terms = True\n",
    "company_cleaner_obj.letter_case=\"lower\"\n",
    "company_cleaner_obj.remove_accents = True\n",
    "company_cleaner_obj.default_cleaning_rules = ['place_word_the_at_the_beginning',\n",
    "                                              'remove_words_in_asterisk', \n",
    "                                              'remove_words_in_parentheses',\n",
    "                                              'remove_question_marks_in_parentheses', \n",
    "                                              'replace_hyphen_by_space', \n",
    "                                              'replace_underscore_by_space', \n",
    "                                              'remove_text_puctuation_except_dot', \n",
    "                                              'remove_math_symbols', \n",
    "                                              'remove_parentheses', \n",
    "                                              'remove_brackets', \n",
    "                                              'remove_curly_brackets', \n",
    "                                              'remove_single_quote_next_character', \n",
    "                                              'remove_double_quote', \n",
    "                                              'enforce_single_space_between_words']"
   ]
  },
  {
   "cell_type": "code",
   "execution_count": 20,
   "id": "6aae82f9",
   "metadata": {},
   "outputs": [],
   "source": [
    "gleif_df = company_cleaner_obj.clean_df(gleif_df, 'legal_name', 'name_legal_clean', 'legal_country_alpha2', 'False')"
   ]
  },
  {
   "cell_type": "code",
   "execution_count": 24,
   "id": "0093c5bd",
   "metadata": {},
   "outputs": [],
   "source": [
    "gleif_df = company_cleaner_obj.clean_df(gleif_df, 'legal_name', 'name_headq_clean', 'headquarter_country_alpha2', 'False')"
   ]
  },
  {
   "cell_type": "code",
   "execution_count": 29,
   "id": "b4757e7e",
   "metadata": {},
   "outputs": [],
   "source": [
    "gleif_df = company_cleaner_obj.clean_df(gleif_df, 'other_name1', 'name1_legal_clean', 'legal_country_alpha2', 'False')\n",
    "gleif_df = company_cleaner_obj.clean_df(gleif_df, 'other_name1', 'name2_legal_clean', 'legal_country_alpha2', 'False')\n",
    "gleif_df = company_cleaner_obj.clean_df(gleif_df, 'other_name1', 'name3_legal_clean', 'legal_country_alpha2', 'False')\n",
    "gleif_df = company_cleaner_obj.clean_df(gleif_df, 'other_name1', 'name4_legal_clean', 'legal_country_alpha2', 'False')\n",
    "gleif_df = company_cleaner_obj.clean_df(gleif_df, 'other_name1', 'name5_legal_clean', 'legal_country_alpha2', 'False')"
   ]
  },
  {
   "cell_type": "code",
   "execution_count": 30,
   "id": "890cadb0",
   "metadata": {},
   "outputs": [],
   "source": [
    "gleif_df = company_cleaner_obj.clean_df(gleif_df, 'other_name1', 'name1_headq_clean', 'headquarter_country_alpha2', 'False')\n",
    "gleif_df = company_cleaner_obj.clean_df(gleif_df, 'other_name1', 'name2_headq_clean', 'headquarter_country_alpha2', 'False')\n",
    "gleif_df = company_cleaner_obj.clean_df(gleif_df, 'other_name1', 'name3_headq_clean', 'headquarter_country_alpha2', 'False')\n",
    "gleif_df = company_cleaner_obj.clean_df(gleif_df, 'other_name1', 'name4_headq_clean', 'headquarter_country_alpha2', 'False')\n",
    "gleif_df = company_cleaner_obj.clean_df(gleif_df, 'other_name1', 'name5_headq_clean', 'headquarter_country_alpha2', 'False')"
   ]
  },
  {
   "cell_type": "code",
   "execution_count": 31,
   "id": "698f6ecc",
   "metadata": {},
   "outputs": [
    {
     "data": {
      "text/html": [
       "<div>\n",
       "<style scoped>\n",
       "    .dataframe tbody tr th:only-of-type {\n",
       "        vertical-align: middle;\n",
       "    }\n",
       "\n",
       "    .dataframe tbody tr th {\n",
       "        vertical-align: top;\n",
       "    }\n",
       "\n",
       "    .dataframe thead th {\n",
       "        text-align: right;\n",
       "    }\n",
       "</style>\n",
       "<table border=\"1\" class=\"dataframe\">\n",
       "  <thead>\n",
       "    <tr style=\"text-align: right;\">\n",
       "      <th></th>\n",
       "      <th>lei</th>\n",
       "      <th>legal_name</th>\n",
       "      <th>other_name1</th>\n",
       "      <th>other_name2</th>\n",
       "      <th>other_name3</th>\n",
       "      <th>other_name4</th>\n",
       "      <th>other_name5</th>\n",
       "      <th>legal_country</th>\n",
       "      <th>headquarter_country</th>\n",
       "      <th>status</th>\n",
       "      <th>...</th>\n",
       "      <th>name1_legal_clean</th>\n",
       "      <th>name2_legal_clean</th>\n",
       "      <th>name3_legal_clean</th>\n",
       "      <th>name4_legal_clean</th>\n",
       "      <th>name5_legal_clean</th>\n",
       "      <th>name1_headq_clean</th>\n",
       "      <th>name2_headq_clean</th>\n",
       "      <th>name3_headq_clean</th>\n",
       "      <th>name4_headq_clean</th>\n",
       "      <th>name5_headq_clean</th>\n",
       "    </tr>\n",
       "  </thead>\n",
       "  <tbody>\n",
       "    <tr>\n",
       "      <th>0</th>\n",
       "      <td>001GPB6A9XPE8XJICC14</td>\n",
       "      <td>FIDELITY ADVISOR SERIES I - Fidelity Advisor L...</td>\n",
       "      <td>NaN</td>\n",
       "      <td>NaN</td>\n",
       "      <td>NaN</td>\n",
       "      <td>NaN</td>\n",
       "      <td>NaN</td>\n",
       "      <td>US</td>\n",
       "      <td>US</td>\n",
       "      <td>ACTIVE</td>\n",
       "      <td>...</td>\n",
       "      <td>NaN</td>\n",
       "      <td>NaN</td>\n",
       "      <td>NaN</td>\n",
       "      <td>NaN</td>\n",
       "      <td>NaN</td>\n",
       "      <td>NaN</td>\n",
       "      <td>NaN</td>\n",
       "      <td>NaN</td>\n",
       "      <td>NaN</td>\n",
       "      <td>NaN</td>\n",
       "    </tr>\n",
       "    <tr>\n",
       "      <th>1</th>\n",
       "      <td>004L5FPTUREIWK9T2N63</td>\n",
       "      <td>Hutchin Hill Capital, LP</td>\n",
       "      <td>NaN</td>\n",
       "      <td>NaN</td>\n",
       "      <td>NaN</td>\n",
       "      <td>NaN</td>\n",
       "      <td>NaN</td>\n",
       "      <td>US</td>\n",
       "      <td>US</td>\n",
       "      <td>ACTIVE</td>\n",
       "      <td>...</td>\n",
       "      <td>NaN</td>\n",
       "      <td>NaN</td>\n",
       "      <td>NaN</td>\n",
       "      <td>NaN</td>\n",
       "      <td>NaN</td>\n",
       "      <td>NaN</td>\n",
       "      <td>NaN</td>\n",
       "      <td>NaN</td>\n",
       "      <td>NaN</td>\n",
       "      <td>NaN</td>\n",
       "    </tr>\n",
       "    <tr>\n",
       "      <th>2</th>\n",
       "      <td>00EHHQ2ZHDCFXJCPCL46</td>\n",
       "      <td>Vanguard Russell 1000 Growth Index Trust</td>\n",
       "      <td>NaN</td>\n",
       "      <td>NaN</td>\n",
       "      <td>NaN</td>\n",
       "      <td>NaN</td>\n",
       "      <td>NaN</td>\n",
       "      <td>US</td>\n",
       "      <td>US</td>\n",
       "      <td>ACTIVE</td>\n",
       "      <td>...</td>\n",
       "      <td>NaN</td>\n",
       "      <td>NaN</td>\n",
       "      <td>NaN</td>\n",
       "      <td>NaN</td>\n",
       "      <td>NaN</td>\n",
       "      <td>NaN</td>\n",
       "      <td>NaN</td>\n",
       "      <td>NaN</td>\n",
       "      <td>NaN</td>\n",
       "      <td>NaN</td>\n",
       "    </tr>\n",
       "    <tr>\n",
       "      <th>3</th>\n",
       "      <td>00GBW0Z2GYIER7DHDS71</td>\n",
       "      <td>ARISTEIA CAPITAL, L.L.C.</td>\n",
       "      <td>NaN</td>\n",
       "      <td>NaN</td>\n",
       "      <td>NaN</td>\n",
       "      <td>NaN</td>\n",
       "      <td>NaN</td>\n",
       "      <td>US</td>\n",
       "      <td>US</td>\n",
       "      <td>ACTIVE</td>\n",
       "      <td>...</td>\n",
       "      <td>NaN</td>\n",
       "      <td>NaN</td>\n",
       "      <td>NaN</td>\n",
       "      <td>NaN</td>\n",
       "      <td>NaN</td>\n",
       "      <td>NaN</td>\n",
       "      <td>NaN</td>\n",
       "      <td>NaN</td>\n",
       "      <td>NaN</td>\n",
       "      <td>NaN</td>\n",
       "    </tr>\n",
       "    <tr>\n",
       "      <th>4</th>\n",
       "      <td>00KLB2PFTM3060S2N216</td>\n",
       "      <td>HARRIS ASSOCIATES INVESTMENT TRUST - Oakmark I...</td>\n",
       "      <td>NaN</td>\n",
       "      <td>NaN</td>\n",
       "      <td>NaN</td>\n",
       "      <td>NaN</td>\n",
       "      <td>NaN</td>\n",
       "      <td>US</td>\n",
       "      <td>US</td>\n",
       "      <td>ACTIVE</td>\n",
       "      <td>...</td>\n",
       "      <td>NaN</td>\n",
       "      <td>NaN</td>\n",
       "      <td>NaN</td>\n",
       "      <td>NaN</td>\n",
       "      <td>NaN</td>\n",
       "      <td>NaN</td>\n",
       "      <td>NaN</td>\n",
       "      <td>NaN</td>\n",
       "      <td>NaN</td>\n",
       "      <td>NaN</td>\n",
       "    </tr>\n",
       "  </tbody>\n",
       "</table>\n",
       "<p>5 rows × 26 columns</p>\n",
       "</div>"
      ],
      "text/plain": [
       "                    lei                                         legal_name  \\\n",
       "0  001GPB6A9XPE8XJICC14  FIDELITY ADVISOR SERIES I - Fidelity Advisor L...   \n",
       "1  004L5FPTUREIWK9T2N63                           Hutchin Hill Capital, LP   \n",
       "2  00EHHQ2ZHDCFXJCPCL46           Vanguard Russell 1000 Growth Index Trust   \n",
       "3  00GBW0Z2GYIER7DHDS71                           ARISTEIA CAPITAL, L.L.C.   \n",
       "4  00KLB2PFTM3060S2N216  HARRIS ASSOCIATES INVESTMENT TRUST - Oakmark I...   \n",
       "\n",
       "  other_name1 other_name2 other_name3 other_name4 other_name5 legal_country  \\\n",
       "0         NaN         NaN         NaN         NaN         NaN            US   \n",
       "1         NaN         NaN         NaN         NaN         NaN            US   \n",
       "2         NaN         NaN         NaN         NaN         NaN            US   \n",
       "3         NaN         NaN         NaN         NaN         NaN            US   \n",
       "4         NaN         NaN         NaN         NaN         NaN            US   \n",
       "\n",
       "  headquarter_country  status  ... name1_legal_clean name2_legal_clean  \\\n",
       "0                  US  ACTIVE  ...               NaN               NaN   \n",
       "1                  US  ACTIVE  ...               NaN               NaN   \n",
       "2                  US  ACTIVE  ...               NaN               NaN   \n",
       "3                  US  ACTIVE  ...               NaN               NaN   \n",
       "4                  US  ACTIVE  ...               NaN               NaN   \n",
       "\n",
       "  name3_legal_clean name4_legal_clean name5_legal_clean name1_headq_clean  \\\n",
       "0               NaN               NaN               NaN               NaN   \n",
       "1               NaN               NaN               NaN               NaN   \n",
       "2               NaN               NaN               NaN               NaN   \n",
       "3               NaN               NaN               NaN               NaN   \n",
       "4               NaN               NaN               NaN               NaN   \n",
       "\n",
       "  name2_headq_clean name3_headq_clean name4_headq_clean name5_headq_clean  \n",
       "0               NaN               NaN               NaN               NaN  \n",
       "1               NaN               NaN               NaN               NaN  \n",
       "2               NaN               NaN               NaN               NaN  \n",
       "3               NaN               NaN               NaN               NaN  \n",
       "4               NaN               NaN               NaN               NaN  \n",
       "\n",
       "[5 rows x 26 columns]"
      ]
     },
     "execution_count": 31,
     "metadata": {},
     "output_type": "execute_result"
    }
   ],
   "source": [
    "gleif_df.head()"
   ]
  },
  {
   "cell_type": "code",
   "execution_count": 32,
   "id": "b097480d",
   "metadata": {},
   "outputs": [
    {
     "name": "stdout",
     "output_type": "stream",
     "text": [
      "Total companies in GLEIF 2252977\n"
     ]
    }
   ],
   "source": [
    "print('Total companies in GLEIF {}'.format(gleif_df.shape[0]))"
   ]
  },
  {
   "cell_type": "markdown",
   "id": "38eff9b6",
   "metadata": {},
   "source": [
    "## 6. Save cleaned GLEIF"
   ]
  },
  {
   "cell_type": "code",
   "execution_count": 33,
   "id": "ee8def7a",
   "metadata": {},
   "outputs": [],
   "source": [
    "# Save locally to \"data\" folder\n",
    "saved_path = \"..\\..\\data\\cleaned\"\n",
    "filename = \"gleif_cleaned.csv\"\n",
    "gleif_filename = os.path.join(saved_path, filename)\n",
    "gleif_df.to_csv(gleif_filename, header=True, index=False)"
   ]
  },
  {
   "cell_type": "code",
   "execution_count": null,
   "id": "54315cbb",
   "metadata": {},
   "outputs": [],
   "source": []
  },
  {
   "cell_type": "code",
   "execution_count": 34,
   "id": "5a8df31e",
   "metadata": {},
   "outputs": [
    {
     "ename": "NameError",
     "evalue": "name 's3_resource' is not defined",
     "output_type": "error",
     "traceback": [
      "\u001b[1;31m---------------------------------------------------------------------------\u001b[0m",
      "\u001b[1;31mNameError\u001b[0m                                 Traceback (most recent call last)",
      "Cell \u001b[1;32mIn [34], line 3\u001b[0m\n\u001b[0;32m      1\u001b[0m \u001b[38;5;66;03m# Save final results to S3\u001b[39;00m\n\u001b[0;32m      2\u001b[0m s3_filename \u001b[38;5;241m=\u001b[39m \u001b[38;5;124m'\u001b[39m\u001b[38;5;124mGLEIF/cleaned/gleif_cleaned.csv\u001b[39m\u001b[38;5;124m'\u001b[39m\n\u001b[1;32m----> 3\u001b[0m \u001b[43ms3_resource\u001b[49m\u001b[38;5;241m.\u001b[39mmeta\u001b[38;5;241m.\u001b[39mclient\u001b[38;5;241m.\u001b[39mupload_file(Filename\u001b[38;5;241m=\u001b[39mgleif_filename, Bucket\u001b[38;5;241m=\u001b[39mbucket_name, Key\u001b[38;5;241m=\u001b[39ms3_filename)\n",
      "\u001b[1;31mNameError\u001b[0m: name 's3_resource' is not defined"
     ]
    }
   ],
   "source": [
    "# Save final results to S3\n",
    "s3_filename = 'GLEIF/cleaned/gleif_cleaned.csv'\n",
    "s3_resource.meta.client.upload_file(Filename=gleif_filename, Bucket=bucket_name, Key=s3_filename)"
   ]
  },
  {
   "cell_type": "code",
   "execution_count": null,
   "id": "2b2a32cf",
   "metadata": {},
   "outputs": [],
   "source": []
  }
 ],
 "metadata": {
  "kernelspec": {
   "display_name": "Python 3 (ipykernel)",
   "language": "python",
   "name": "python3"
  },
  "language_info": {
   "codemirror_mode": {
    "name": "ipython",
    "version": 3
   },
   "file_extension": ".py",
   "mimetype": "text/x-python",
   "name": "python",
   "nbconvert_exporter": "python",
   "pygments_lexer": "ipython3",
   "version": "3.10.6"
  }
 },
 "nbformat": 4,
 "nbformat_minor": 5
}
