{
 "cells": [
  {
   "cell_type": "markdown",
   "id": "b9adfe2d",
   "metadata": {},
   "source": [
    "# Cleaning WRI pre-processed file"
   ]
  },
  {
   "cell_type": "markdown",
   "id": "82c2b39f",
   "metadata": {},
   "source": [
    "This notebook reads the pre-processed WRI dataset from local data folder and performs the cleaning of country and company's names. The final result is saved locally and in the WRI S3 bucket."
   ]
  },
  {
   "cell_type": "code",
   "execution_count": 3,
   "id": "25b3d075",
   "metadata": {},
   "outputs": [],
   "source": [
    "import pandas as pd\n",
    "import os\n",
    "\n",
    "from financial_entity_cleaner.location import CountryCleaner\n",
    "from financial_entity_cleaner.company import CompanyNameCleaner\n",
    "from financial_entity_cleaner.id import BankingIdCleaner\n",
    "pd.set_option('display.max_columns',50)\n",
    "from dotenv import dotenv_values, load_dotenv"
   ]
  },
  {
   "cell_type": "code",
   "execution_count": 4,
   "id": "e9eaf0a3",
   "metadata": {},
   "outputs": [],
   "source": [
    "env_var = dotenv_values('../../.env')"
   ]
  },
  {
   "cell_type": "code",
   "execution_count": 6,
   "id": "295a1585",
   "metadata": {},
   "outputs": [],
   "source": [
    "import boto3\n",
    "s3_resource = boto3.resource(\n",
    "    service_name=\"s3\",\n",
    "    endpoint_url=env_var['S3_ENDPOINT'],\n",
    "    aws_access_key_id=env_var['S3_ACCESS_KEY'],\n",
    "    aws_secret_access_key=env_var['S3_SECRET_KEY'],\n",
    ")\n",
    "bucket_name = env_var['S3_BUCKET']\n",
    "bucket = s3_resource.Bucket(bucket_name)"
   ]
  },
  {
   "cell_type": "markdown",
   "id": "7868f300",
   "metadata": {},
   "source": [
    "## 1. Read WRI pre-processed file"
   ]
  },
  {
   "cell_type": "code",
   "execution_count": 11,
   "id": "61e37780",
   "metadata": {},
   "outputs": [],
   "source": [
    "wri = bucket.Object('WRI/pre_processed/wri_pre_processed.csv').get()['Body']\n",
    "wri_df = pd.read_csv(wri, encoding='utf-8', delimiter=',', low_memory=False)"
   ]
  },
  {
   "cell_type": "code",
   "execution_count": 12,
   "id": "b35e3fd4",
   "metadata": {},
   "outputs": [
    {
     "data": {
      "text/html": [
       "<div>\n",
       "<style scoped>\n",
       "    .dataframe tbody tr th:only-of-type {\n",
       "        vertical-align: middle;\n",
       "    }\n",
       "\n",
       "    .dataframe tbody tr th {\n",
       "        vertical-align: top;\n",
       "    }\n",
       "\n",
       "    .dataframe thead th {\n",
       "        text-align: right;\n",
       "    }\n",
       "</style>\n",
       "<table border=\"1\" class=\"dataframe\">\n",
       "  <thead>\n",
       "    <tr style=\"text-align: right;\">\n",
       "      <th></th>\n",
       "      <th>company_name</th>\n",
       "      <th>country</th>\n",
       "    </tr>\n",
       "  </thead>\n",
       "  <tbody>\n",
       "    <tr>\n",
       "      <th>0</th>\n",
       "      <td>SociÃ©te AlgÃ©rienne de Production de l\\'Elect...</td>\n",
       "      <td>DZA</td>\n",
       "    </tr>\n",
       "    <tr>\n",
       "      <th>1</th>\n",
       "      <td>SociÃ©tÃ© AlgÃ©rienne de Production de lâ€™Ele...</td>\n",
       "      <td>DZA</td>\n",
       "    </tr>\n",
       "    <tr>\n",
       "      <th>2</th>\n",
       "      <td>Sonelgaz</td>\n",
       "      <td>DZA</td>\n",
       "    </tr>\n",
       "    <tr>\n",
       "      <th>3</th>\n",
       "      <td>Sonelgaz Production de lâ€™Electricite</td>\n",
       "      <td>DZA</td>\n",
       "    </tr>\n",
       "    <tr>\n",
       "      <th>4</th>\n",
       "      <td>Sharikat Kahraba Hadjret En-Nouss</td>\n",
       "      <td>DZA</td>\n",
       "    </tr>\n",
       "  </tbody>\n",
       "</table>\n",
       "</div>"
      ],
      "text/plain": [
       "                                        company_name country\n",
       "0  SociÃ©te AlgÃ©rienne de Production de l\\'Elect...     DZA\n",
       "1  SociÃ©tÃ© AlgÃ©rienne de Production de lâ€™Ele...     DZA\n",
       "2                                           Sonelgaz     DZA\n",
       "3             Sonelgaz Production de lâ€™Electricite     DZA\n",
       "4                  Sharikat Kahraba Hadjret En-Nouss     DZA"
      ]
     },
     "execution_count": 12,
     "metadata": {},
     "output_type": "execute_result"
    }
   ],
   "source": [
    "wri_df.head()"
   ]
  },
  {
   "cell_type": "markdown",
   "id": "f61ff115",
   "metadata": {},
   "source": [
    "## 2. Cleaning County information"
   ]
  },
  {
   "cell_type": "code",
   "execution_count": 13,
   "id": "2e5448c6",
   "metadata": {},
   "outputs": [],
   "source": [
    "# Create an object based on CountryCleaner() class\n",
    "country_cleaner_obj=CountryCleaner()"
   ]
  },
  {
   "cell_type": "code",
   "execution_count": 14,
   "id": "1e4366c5",
   "metadata": {},
   "outputs": [],
   "source": [
    "country_cleaner_obj.letter_case='lower'\n",
    "country_cleaner_obj.output_info = [CountryCleaner.ATTRIBUTE_ALPHA2,\n",
    "                                   CountryCleaner.ATTRIBUTE_SHORT_NAME]"
   ]
  },
  {
   "cell_type": "code",
   "execution_count": 15,
   "id": "acc9f59d",
   "metadata": {},
   "outputs": [
    {
     "name": "stderr",
     "output_type": "stream",
     "text": [
      "Normalizing countries...100%|██████████████████████████████████████████████████| 10181/10181 [00:01<00:00, 5588.54it/s]\n"
     ]
    }
   ],
   "source": [
    "wri_df = country_cleaner_obj.clean_df(df=wri_df, cols=['country'], output_names_as= 'suffix')"
   ]
  },
  {
   "cell_type": "code",
   "execution_count": 16,
   "id": "73b72875",
   "metadata": {},
   "outputs": [],
   "source": [
    "wri_df.drop('country', axis=1, inplace=True)"
   ]
  },
  {
   "cell_type": "code",
   "execution_count": 17,
   "id": "494437ec",
   "metadata": {},
   "outputs": [
    {
     "data": {
      "text/html": [
       "<div>\n",
       "<style scoped>\n",
       "    .dataframe tbody tr th:only-of-type {\n",
       "        vertical-align: middle;\n",
       "    }\n",
       "\n",
       "    .dataframe tbody tr th {\n",
       "        vertical-align: top;\n",
       "    }\n",
       "\n",
       "    .dataframe thead th {\n",
       "        text-align: right;\n",
       "    }\n",
       "</style>\n",
       "<table border=\"1\" class=\"dataframe\">\n",
       "  <thead>\n",
       "    <tr style=\"text-align: right;\">\n",
       "      <th></th>\n",
       "      <th>company_name</th>\n",
       "      <th>country_short_name</th>\n",
       "      <th>country_alpha2</th>\n",
       "    </tr>\n",
       "  </thead>\n",
       "  <tbody>\n",
       "    <tr>\n",
       "      <th>0</th>\n",
       "      <td>SociÃ©te AlgÃ©rienne de Production de l\\'Elect...</td>\n",
       "      <td>algeria</td>\n",
       "      <td>dz</td>\n",
       "    </tr>\n",
       "    <tr>\n",
       "      <th>1</th>\n",
       "      <td>SociÃ©tÃ© AlgÃ©rienne de Production de lâ€™Ele...</td>\n",
       "      <td>algeria</td>\n",
       "      <td>dz</td>\n",
       "    </tr>\n",
       "    <tr>\n",
       "      <th>2</th>\n",
       "      <td>Sonelgaz</td>\n",
       "      <td>algeria</td>\n",
       "      <td>dz</td>\n",
       "    </tr>\n",
       "    <tr>\n",
       "      <th>3</th>\n",
       "      <td>Sonelgaz Production de lâ€™Electricite</td>\n",
       "      <td>algeria</td>\n",
       "      <td>dz</td>\n",
       "    </tr>\n",
       "    <tr>\n",
       "      <th>4</th>\n",
       "      <td>Sharikat Kahraba Hadjret En-Nouss</td>\n",
       "      <td>algeria</td>\n",
       "      <td>dz</td>\n",
       "    </tr>\n",
       "  </tbody>\n",
       "</table>\n",
       "</div>"
      ],
      "text/plain": [
       "                                        company_name country_short_name  \\\n",
       "0  SociÃ©te AlgÃ©rienne de Production de l\\'Elect...            algeria   \n",
       "1  SociÃ©tÃ© AlgÃ©rienne de Production de lâ€™Ele...            algeria   \n",
       "2                                           Sonelgaz            algeria   \n",
       "3             Sonelgaz Production de lâ€™Electricite            algeria   \n",
       "4                  Sharikat Kahraba Hadjret En-Nouss            algeria   \n",
       "\n",
       "  country_alpha2  \n",
       "0             dz  \n",
       "1             dz  \n",
       "2             dz  \n",
       "3             dz  \n",
       "4             dz  "
      ]
     },
     "execution_count": 17,
     "metadata": {},
     "output_type": "execute_result"
    }
   ],
   "source": [
    "wri_df.head()"
   ]
  },
  {
   "cell_type": "markdown",
   "id": "3a803532",
   "metadata": {},
   "source": [
    "## 3. Cleaning Company's names"
   ]
  },
  {
   "cell_type": "code",
   "execution_count": 18,
   "id": "2d600639",
   "metadata": {},
   "outputs": [],
   "source": [
    "# Create a CompanyNameCleaner object\n",
    "company_cleaner_obj = CompanyNameCleaner()"
   ]
  },
  {
   "cell_type": "code",
   "execution_count": 19,
   "id": "99adc98c",
   "metadata": {},
   "outputs": [],
   "source": [
    "# Set cleaner properties\n",
    "company_cleaner_obj.normalize_legal_terms = True\n",
    "company_cleaner_obj.letter_case=\"lower\"\n",
    "company_cleaner_obj.remove_accents = True\n",
    "company_cleaner_obj.default_cleaning_rules = ['place_word_the_at_the_beginning',\n",
    "                                                'remove_words_in_asterisk', \n",
    "                                                'remove_words_in_parentheses',\n",
    "                                                'remove_question_marks_in_parentheses', \n",
    "                                                'replace_hyphen_by_space', \n",
    "                                                'replace_underscore_by_space', \n",
    "                                                'remove_text_puctuation_except_dot', \n",
    "                                                'remove_math_symbols', \n",
    "                                                'remove_parentheses', \n",
    "                                                'remove_brackets', \n",
    "                                                'remove_curly_brackets', \n",
    "                                                'remove_single_quote_next_character', \n",
    "                                                'remove_double_quote', \n",
    "                                                'enforce_single_space_between_words']\n",
    "company_cleaner_obj.post_cleaning_rules = ['remove_all_punctuation']"
   ]
  },
  {
   "cell_type": "code",
   "execution_count": 20,
   "id": "6aae82f9",
   "metadata": {},
   "outputs": [
    {
     "name": "stderr",
     "output_type": "stream",
     "text": [
      "Cleaning company name...100%|██████████████████████████████████████████████████| 92/92 [00:03<00:00, 30.66it/s]\n"
     ]
    }
   ],
   "source": [
    "wri_df = company_cleaner_obj.clean_df(wri_df, 'company_name', 'company_name_clean', 'country_alpha2', 'True')"
   ]
  },
  {
   "cell_type": "code",
   "execution_count": 21,
   "id": "13b0facf",
   "metadata": {},
   "outputs": [],
   "source": [
    "wri_df.reset_index(inplace=True)\n",
    "wri_df = wri_df.rename(columns = {'index':'company_id'})"
   ]
  },
  {
   "cell_type": "code",
   "execution_count": 22,
   "id": "698f6ecc",
   "metadata": {},
   "outputs": [
    {
     "data": {
      "text/html": [
       "<div>\n",
       "<style scoped>\n",
       "    .dataframe tbody tr th:only-of-type {\n",
       "        vertical-align: middle;\n",
       "    }\n",
       "\n",
       "    .dataframe tbody tr th {\n",
       "        vertical-align: top;\n",
       "    }\n",
       "\n",
       "    .dataframe thead th {\n",
       "        text-align: right;\n",
       "    }\n",
       "</style>\n",
       "<table border=\"1\" class=\"dataframe\">\n",
       "  <thead>\n",
       "    <tr style=\"text-align: right;\">\n",
       "      <th></th>\n",
       "      <th>company_id</th>\n",
       "      <th>company_name</th>\n",
       "      <th>country_short_name</th>\n",
       "      <th>country_alpha2</th>\n",
       "      <th>company_name_clean</th>\n",
       "    </tr>\n",
       "  </thead>\n",
       "  <tbody>\n",
       "    <tr>\n",
       "      <th>0</th>\n",
       "      <td>0</td>\n",
       "      <td>SociÃ©te AlgÃ©rienne de Production de l\\'Elect...</td>\n",
       "      <td>algeria</td>\n",
       "      <td>dz</td>\n",
       "      <td>socia c te alga c rienne de production de l c</td>\n",
       "    </tr>\n",
       "    <tr>\n",
       "      <th>1</th>\n",
       "      <td>1</td>\n",
       "      <td>SociÃ©tÃ© AlgÃ©rienne de Production de lâ€™Ele...</td>\n",
       "      <td>algeria</td>\n",
       "      <td>dz</td>\n",
       "      <td>socia c ta c alga c rienne de production de la...</td>\n",
       "    </tr>\n",
       "    <tr>\n",
       "      <th>2</th>\n",
       "      <td>2</td>\n",
       "      <td>Sonelgaz</td>\n",
       "      <td>algeria</td>\n",
       "      <td>dz</td>\n",
       "      <td>sonelgaz</td>\n",
       "    </tr>\n",
       "    <tr>\n",
       "      <th>3</th>\n",
       "      <td>3</td>\n",
       "      <td>Sonelgaz Production de lâ€™Electricite</td>\n",
       "      <td>algeria</td>\n",
       "      <td>dz</td>\n",
       "      <td>sonelgaz production de laEUR tm electricite</td>\n",
       "    </tr>\n",
       "    <tr>\n",
       "      <th>4</th>\n",
       "      <td>4</td>\n",
       "      <td>Sharikat Kahraba Hadjret En-Nouss</td>\n",
       "      <td>algeria</td>\n",
       "      <td>dz</td>\n",
       "      <td>sharikat kahraba hadjret en nouss</td>\n",
       "    </tr>\n",
       "  </tbody>\n",
       "</table>\n",
       "</div>"
      ],
      "text/plain": [
       "   company_id                                       company_name  \\\n",
       "0           0  SociÃ©te AlgÃ©rienne de Production de l\\'Elect...   \n",
       "1           1  SociÃ©tÃ© AlgÃ©rienne de Production de lâ€™Ele...   \n",
       "2           2                                           Sonelgaz   \n",
       "3           3             Sonelgaz Production de lâ€™Electricite   \n",
       "4           4                  Sharikat Kahraba Hadjret En-Nouss   \n",
       "\n",
       "  country_short_name country_alpha2  \\\n",
       "0            algeria             dz   \n",
       "1            algeria             dz   \n",
       "2            algeria             dz   \n",
       "3            algeria             dz   \n",
       "4            algeria             dz   \n",
       "\n",
       "                                  company_name_clean  \n",
       "0      socia c te alga c rienne de production de l c  \n",
       "1  socia c ta c alga c rienne de production de la...  \n",
       "2                                           sonelgaz  \n",
       "3        sonelgaz production de laEUR tm electricite  \n",
       "4                  sharikat kahraba hadjret en nouss  "
      ]
     },
     "execution_count": 22,
     "metadata": {},
     "output_type": "execute_result"
    }
   ],
   "source": [
    "wri_df.head()"
   ]
  },
  {
   "cell_type": "code",
   "execution_count": 23,
   "id": "12199aa4",
   "metadata": {},
   "outputs": [
    {
     "name": "stdout",
     "output_type": "stream",
     "text": [
      "Total companies in WRI 10181\n"
     ]
    }
   ],
   "source": [
    "print('Total companies in WRI {}'.format(wri_df.shape[0]))"
   ]
  },
  {
   "cell_type": "markdown",
   "id": "38eff9b6",
   "metadata": {},
   "source": [
    "## 4. Save cleaned WRI"
   ]
  },
  {
   "cell_type": "code",
   "execution_count": 24,
   "id": "ee8def7a",
   "metadata": {},
   "outputs": [],
   "source": [
    "# Save locally to \"data\" folder\n",
    "saved_path = \"../../../dataset/cleaned/\"\n",
    "filename = \"wri_cleaned.csv\"\n",
    "wri_filename = os.path.join(saved_path, filename)\n",
    "wri_df.to_csv(wri_filename, header=True, index=False)"
   ]
  },
  {
   "cell_type": "code",
   "execution_count": 25,
   "id": "5a8df31e",
   "metadata": {},
   "outputs": [],
   "source": [
    "# Save final results to S3\n",
    "s3_filename = 'WRI/cleaned/wri_cleaned.csv'\n",
    "s3_resource.meta.client.upload_file(Filename=wri_filename, Bucket=bucket_name, Key=s3_filename)"
   ]
  },
  {
   "cell_type": "code",
   "execution_count": null,
   "id": "2b2a32cf",
   "metadata": {},
   "outputs": [],
   "source": []
  }
 ],
 "metadata": {
  "kernelspec": {
   "display_name": "Python 3 (ipykernel)",
   "language": "python",
   "name": "python3"
  },
  "language_info": {
   "codemirror_mode": {
    "name": "ipython",
    "version": 3
   },
   "file_extension": ".py",
   "mimetype": "text/x-python",
   "name": "python",
   "nbconvert_exporter": "python",
   "pygments_lexer": "ipython3",
   "version": "3.10.6"
  }
 },
 "nbformat": 4,
 "nbformat_minor": 5
}
